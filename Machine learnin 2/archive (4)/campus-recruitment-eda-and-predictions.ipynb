{
 "cells": [
  {
   "cell_type": "markdown",
   "metadata": {
    "papermill": {
     "duration": 0.037639,
     "end_time": "2021-04-26T11:53:14.043446",
     "exception": false,
     "start_time": "2021-04-26T11:53:14.005807",
     "status": "completed"
    },
    "tags": []
   },
   "source": [
    "\n",
    "# IMPORTING LIBRARIES"
   ]
  },
  {
   "cell_type": "code",
   "execution_count": 1,
   "metadata": {
    "execution": {
     "iopub.execute_input": "2021-04-26T11:53:14.129442Z",
     "iopub.status.busy": "2021-04-26T11:53:14.125626Z",
     "iopub.status.idle": "2021-04-26T11:53:15.072832Z",
     "shell.execute_reply": "2021-04-26T11:53:15.071961Z"
    },
    "papermill": {
     "duration": 0.993003,
     "end_time": "2021-04-26T11:53:15.073041",
     "exception": false,
     "start_time": "2021-04-26T11:53:14.080038",
     "status": "completed"
    },
    "tags": []
   },
   "outputs": [],
   "source": [
    "import pandas as pd\n",
    "import numpy as np\n",
    "import matplotlib.pyplot as plt\n",
    "import seaborn as sns"
   ]
  },
  {
   "cell_type": "code",
   "execution_count": 2,
   "metadata": {
    "execution": {
     "iopub.execute_input": "2021-04-26T11:53:15.152060Z",
     "iopub.status.busy": "2021-04-26T11:53:15.151345Z",
     "iopub.status.idle": "2021-04-26T11:53:15.216876Z",
     "shell.execute_reply": "2021-04-26T11:53:15.217393Z"
    },
    "papermill": {
     "duration": 0.10774,
     "end_time": "2021-04-26T11:53:15.217591",
     "exception": false,
     "start_time": "2021-04-26T11:53:15.109851",
     "status": "completed"
    },
    "tags": []
   },
   "outputs": [
    {
     "data": {
      "text/html": [
       "<div>\n",
       "<style scoped>\n",
       "    .dataframe tbody tr th:only-of-type {\n",
       "        vertical-align: middle;\n",
       "    }\n",
       "\n",
       "    .dataframe tbody tr th {\n",
       "        vertical-align: top;\n",
       "    }\n",
       "\n",
       "    .dataframe thead th {\n",
       "        text-align: right;\n",
       "    }\n",
       "</style>\n",
       "<table border=\"1\" class=\"dataframe\">\n",
       "  <thead>\n",
       "    <tr style=\"text-align: right;\">\n",
       "      <th></th>\n",
       "      <th>sl_no</th>\n",
       "      <th>gender</th>\n",
       "      <th>ssc_p</th>\n",
       "      <th>ssc_b</th>\n",
       "      <th>hsc_p</th>\n",
       "      <th>hsc_b</th>\n",
       "      <th>hsc_s</th>\n",
       "      <th>degree_p</th>\n",
       "      <th>degree_t</th>\n",
       "      <th>workex</th>\n",
       "      <th>etest_p</th>\n",
       "      <th>specialisation</th>\n",
       "      <th>mba_p</th>\n",
       "      <th>status</th>\n",
       "      <th>salary</th>\n",
       "    </tr>\n",
       "  </thead>\n",
       "  <tbody>\n",
       "    <tr>\n",
       "      <th>0</th>\n",
       "      <td>1</td>\n",
       "      <td>M</td>\n",
       "      <td>67.00</td>\n",
       "      <td>Others</td>\n",
       "      <td>91.00</td>\n",
       "      <td>Others</td>\n",
       "      <td>Commerce</td>\n",
       "      <td>58.00</td>\n",
       "      <td>Sci&amp;Tech</td>\n",
       "      <td>No</td>\n",
       "      <td>55.0</td>\n",
       "      <td>Mkt&amp;HR</td>\n",
       "      <td>58.80</td>\n",
       "      <td>Placed</td>\n",
       "      <td>270000.0</td>\n",
       "    </tr>\n",
       "    <tr>\n",
       "      <th>1</th>\n",
       "      <td>2</td>\n",
       "      <td>M</td>\n",
       "      <td>79.33</td>\n",
       "      <td>Central</td>\n",
       "      <td>78.33</td>\n",
       "      <td>Others</td>\n",
       "      <td>Science</td>\n",
       "      <td>77.48</td>\n",
       "      <td>Sci&amp;Tech</td>\n",
       "      <td>Yes</td>\n",
       "      <td>86.5</td>\n",
       "      <td>Mkt&amp;Fin</td>\n",
       "      <td>66.28</td>\n",
       "      <td>Placed</td>\n",
       "      <td>200000.0</td>\n",
       "    </tr>\n",
       "    <tr>\n",
       "      <th>2</th>\n",
       "      <td>3</td>\n",
       "      <td>M</td>\n",
       "      <td>65.00</td>\n",
       "      <td>Central</td>\n",
       "      <td>68.00</td>\n",
       "      <td>Central</td>\n",
       "      <td>Arts</td>\n",
       "      <td>64.00</td>\n",
       "      <td>Comm&amp;Mgmt</td>\n",
       "      <td>No</td>\n",
       "      <td>75.0</td>\n",
       "      <td>Mkt&amp;Fin</td>\n",
       "      <td>57.80</td>\n",
       "      <td>Placed</td>\n",
       "      <td>250000.0</td>\n",
       "    </tr>\n",
       "    <tr>\n",
       "      <th>3</th>\n",
       "      <td>4</td>\n",
       "      <td>M</td>\n",
       "      <td>56.00</td>\n",
       "      <td>Central</td>\n",
       "      <td>52.00</td>\n",
       "      <td>Central</td>\n",
       "      <td>Science</td>\n",
       "      <td>52.00</td>\n",
       "      <td>Sci&amp;Tech</td>\n",
       "      <td>No</td>\n",
       "      <td>66.0</td>\n",
       "      <td>Mkt&amp;HR</td>\n",
       "      <td>59.43</td>\n",
       "      <td>Not Placed</td>\n",
       "      <td>NaN</td>\n",
       "    </tr>\n",
       "    <tr>\n",
       "      <th>4</th>\n",
       "      <td>5</td>\n",
       "      <td>M</td>\n",
       "      <td>85.80</td>\n",
       "      <td>Central</td>\n",
       "      <td>73.60</td>\n",
       "      <td>Central</td>\n",
       "      <td>Commerce</td>\n",
       "      <td>73.30</td>\n",
       "      <td>Comm&amp;Mgmt</td>\n",
       "      <td>No</td>\n",
       "      <td>96.8</td>\n",
       "      <td>Mkt&amp;Fin</td>\n",
       "      <td>55.50</td>\n",
       "      <td>Placed</td>\n",
       "      <td>425000.0</td>\n",
       "    </tr>\n",
       "  </tbody>\n",
       "</table>\n",
       "</div>"
      ],
      "text/plain": [
       "   sl_no gender  ssc_p    ssc_b  hsc_p    hsc_b     hsc_s  degree_p  \\\n",
       "0      1      M  67.00   Others  91.00   Others  Commerce     58.00   \n",
       "1      2      M  79.33  Central  78.33   Others   Science     77.48   \n",
       "2      3      M  65.00  Central  68.00  Central      Arts     64.00   \n",
       "3      4      M  56.00  Central  52.00  Central   Science     52.00   \n",
       "4      5      M  85.80  Central  73.60  Central  Commerce     73.30   \n",
       "\n",
       "    degree_t workex  etest_p specialisation  mba_p      status    salary  \n",
       "0   Sci&Tech     No     55.0         Mkt&HR  58.80      Placed  270000.0  \n",
       "1   Sci&Tech    Yes     86.5        Mkt&Fin  66.28      Placed  200000.0  \n",
       "2  Comm&Mgmt     No     75.0        Mkt&Fin  57.80      Placed  250000.0  \n",
       "3   Sci&Tech     No     66.0         Mkt&HR  59.43  Not Placed       NaN  \n",
       "4  Comm&Mgmt     No     96.8        Mkt&Fin  55.50      Placed  425000.0  "
      ]
     },
     "execution_count": 2,
     "metadata": {},
     "output_type": "execute_result"
    }
   ],
   "source": [
    "df = pd.read_csv(r\"/kaggle/input/factors-affecting-campus-placement/Placement_Data_Full_Class.csv\")\n",
    "df.head()"
   ]
  },
  {
   "cell_type": "code",
   "execution_count": 3,
   "metadata": {
    "execution": {
     "iopub.execute_input": "2021-04-26T11:53:15.319881Z",
     "iopub.status.busy": "2021-04-26T11:53:15.318990Z",
     "iopub.status.idle": "2021-04-26T11:53:15.323795Z",
     "shell.execute_reply": "2021-04-26T11:53:15.323124Z"
    },
    "papermill": {
     "duration": 0.068715,
     "end_time": "2021-04-26T11:53:15.323948",
     "exception": false,
     "start_time": "2021-04-26T11:53:15.255233",
     "status": "completed"
    },
    "tags": []
   },
   "outputs": [
    {
     "data": {
      "text/html": [
       "<div>\n",
       "<style scoped>\n",
       "    .dataframe tbody tr th:only-of-type {\n",
       "        vertical-align: middle;\n",
       "    }\n",
       "\n",
       "    .dataframe tbody tr th {\n",
       "        vertical-align: top;\n",
       "    }\n",
       "\n",
       "    .dataframe thead th {\n",
       "        text-align: right;\n",
       "    }\n",
       "</style>\n",
       "<table border=\"1\" class=\"dataframe\">\n",
       "  <thead>\n",
       "    <tr style=\"text-align: right;\">\n",
       "      <th></th>\n",
       "      <th>gender</th>\n",
       "      <th>ssc_p</th>\n",
       "      <th>ssc_b</th>\n",
       "      <th>hsc_p</th>\n",
       "      <th>hsc_b</th>\n",
       "      <th>hsc_s</th>\n",
       "      <th>degree_p</th>\n",
       "      <th>degree_t</th>\n",
       "      <th>workex</th>\n",
       "      <th>etest_p</th>\n",
       "      <th>specialisation</th>\n",
       "      <th>mba_p</th>\n",
       "      <th>status</th>\n",
       "      <th>salary</th>\n",
       "    </tr>\n",
       "  </thead>\n",
       "  <tbody>\n",
       "    <tr>\n",
       "      <th>0</th>\n",
       "      <td>M</td>\n",
       "      <td>67.00</td>\n",
       "      <td>Others</td>\n",
       "      <td>91.00</td>\n",
       "      <td>Others</td>\n",
       "      <td>Commerce</td>\n",
       "      <td>58.00</td>\n",
       "      <td>Sci&amp;Tech</td>\n",
       "      <td>No</td>\n",
       "      <td>55.0</td>\n",
       "      <td>Mkt&amp;HR</td>\n",
       "      <td>58.80</td>\n",
       "      <td>Placed</td>\n",
       "      <td>270000.0</td>\n",
       "    </tr>\n",
       "    <tr>\n",
       "      <th>1</th>\n",
       "      <td>M</td>\n",
       "      <td>79.33</td>\n",
       "      <td>Central</td>\n",
       "      <td>78.33</td>\n",
       "      <td>Others</td>\n",
       "      <td>Science</td>\n",
       "      <td>77.48</td>\n",
       "      <td>Sci&amp;Tech</td>\n",
       "      <td>Yes</td>\n",
       "      <td>86.5</td>\n",
       "      <td>Mkt&amp;Fin</td>\n",
       "      <td>66.28</td>\n",
       "      <td>Placed</td>\n",
       "      <td>200000.0</td>\n",
       "    </tr>\n",
       "    <tr>\n",
       "      <th>2</th>\n",
       "      <td>M</td>\n",
       "      <td>65.00</td>\n",
       "      <td>Central</td>\n",
       "      <td>68.00</td>\n",
       "      <td>Central</td>\n",
       "      <td>Arts</td>\n",
       "      <td>64.00</td>\n",
       "      <td>Comm&amp;Mgmt</td>\n",
       "      <td>No</td>\n",
       "      <td>75.0</td>\n",
       "      <td>Mkt&amp;Fin</td>\n",
       "      <td>57.80</td>\n",
       "      <td>Placed</td>\n",
       "      <td>250000.0</td>\n",
       "    </tr>\n",
       "    <tr>\n",
       "      <th>3</th>\n",
       "      <td>M</td>\n",
       "      <td>56.00</td>\n",
       "      <td>Central</td>\n",
       "      <td>52.00</td>\n",
       "      <td>Central</td>\n",
       "      <td>Science</td>\n",
       "      <td>52.00</td>\n",
       "      <td>Sci&amp;Tech</td>\n",
       "      <td>No</td>\n",
       "      <td>66.0</td>\n",
       "      <td>Mkt&amp;HR</td>\n",
       "      <td>59.43</td>\n",
       "      <td>Not Placed</td>\n",
       "      <td>NaN</td>\n",
       "    </tr>\n",
       "    <tr>\n",
       "      <th>4</th>\n",
       "      <td>M</td>\n",
       "      <td>85.80</td>\n",
       "      <td>Central</td>\n",
       "      <td>73.60</td>\n",
       "      <td>Central</td>\n",
       "      <td>Commerce</td>\n",
       "      <td>73.30</td>\n",
       "      <td>Comm&amp;Mgmt</td>\n",
       "      <td>No</td>\n",
       "      <td>96.8</td>\n",
       "      <td>Mkt&amp;Fin</td>\n",
       "      <td>55.50</td>\n",
       "      <td>Placed</td>\n",
       "      <td>425000.0</td>\n",
       "    </tr>\n",
       "  </tbody>\n",
       "</table>\n",
       "</div>"
      ],
      "text/plain": [
       "  gender  ssc_p    ssc_b  hsc_p    hsc_b     hsc_s  degree_p   degree_t  \\\n",
       "0      M  67.00   Others  91.00   Others  Commerce     58.00   Sci&Tech   \n",
       "1      M  79.33  Central  78.33   Others   Science     77.48   Sci&Tech   \n",
       "2      M  65.00  Central  68.00  Central      Arts     64.00  Comm&Mgmt   \n",
       "3      M  56.00  Central  52.00  Central   Science     52.00   Sci&Tech   \n",
       "4      M  85.80  Central  73.60  Central  Commerce     73.30  Comm&Mgmt   \n",
       "\n",
       "  workex  etest_p specialisation  mba_p      status    salary  \n",
       "0     No     55.0         Mkt&HR  58.80      Placed  270000.0  \n",
       "1    Yes     86.5        Mkt&Fin  66.28      Placed  200000.0  \n",
       "2     No     75.0        Mkt&Fin  57.80      Placed  250000.0  \n",
       "3     No     66.0         Mkt&HR  59.43  Not Placed       NaN  \n",
       "4     No     96.8        Mkt&Fin  55.50      Placed  425000.0  "
      ]
     },
     "execution_count": 3,
     "metadata": {},
     "output_type": "execute_result"
    }
   ],
   "source": [
    "df.drop(['sl_no'], axis = 1, inplace = True) #dropping insignificant values\n",
    "df.head()"
   ]
  },
  {
   "cell_type": "code",
   "execution_count": 4,
   "metadata": {
    "execution": {
     "iopub.execute_input": "2021-04-26T11:53:15.421115Z",
     "iopub.status.busy": "2021-04-26T11:53:15.420317Z",
     "iopub.status.idle": "2021-04-26T11:53:15.425161Z",
     "shell.execute_reply": "2021-04-26T11:53:15.424177Z"
    },
    "papermill": {
     "duration": 0.06382,
     "end_time": "2021-04-26T11:53:15.425365",
     "exception": false,
     "start_time": "2021-04-26T11:53:15.361545",
     "status": "completed"
    },
    "tags": []
   },
   "outputs": [
    {
     "name": "stdout",
     "output_type": "stream",
     "text": [
      "<class 'pandas.core.frame.DataFrame'>\n",
      "RangeIndex: 215 entries, 0 to 214\n",
      "Data columns (total 14 columns):\n",
      " #   Column          Non-Null Count  Dtype  \n",
      "---  ------          --------------  -----  \n",
      " 0   gender          215 non-null    object \n",
      " 1   ssc_p           215 non-null    float64\n",
      " 2   ssc_b           215 non-null    object \n",
      " 3   hsc_p           215 non-null    float64\n",
      " 4   hsc_b           215 non-null    object \n",
      " 5   hsc_s           215 non-null    object \n",
      " 6   degree_p        215 non-null    float64\n",
      " 7   degree_t        215 non-null    object \n",
      " 8   workex          215 non-null    object \n",
      " 9   etest_p         215 non-null    float64\n",
      " 10  specialisation  215 non-null    object \n",
      " 11  mba_p           215 non-null    float64\n",
      " 12  status          215 non-null    object \n",
      " 13  salary          148 non-null    float64\n",
      "dtypes: float64(6), object(8)\n",
      "memory usage: 23.6+ KB\n"
     ]
    }
   ],
   "source": [
    "df.info()\n"
   ]
  },
  {
   "cell_type": "code",
   "execution_count": 5,
   "metadata": {
    "execution": {
     "iopub.execute_input": "2021-04-26T11:53:15.526037Z",
     "iopub.status.busy": "2021-04-26T11:53:15.525324Z",
     "iopub.status.idle": "2021-04-26T11:53:15.529240Z",
     "shell.execute_reply": "2021-04-26T11:53:15.528666Z"
    },
    "papermill": {
     "duration": 0.064491,
     "end_time": "2021-04-26T11:53:15.529379",
     "exception": false,
     "start_time": "2021-04-26T11:53:15.464888",
     "status": "completed"
    },
    "tags": []
   },
   "outputs": [
    {
     "data": {
      "text/html": [
       "<div>\n",
       "<style scoped>\n",
       "    .dataframe tbody tr th:only-of-type {\n",
       "        vertical-align: middle;\n",
       "    }\n",
       "\n",
       "    .dataframe tbody tr th {\n",
       "        vertical-align: top;\n",
       "    }\n",
       "\n",
       "    .dataframe thead th {\n",
       "        text-align: right;\n",
       "    }\n",
       "</style>\n",
       "<table border=\"1\" class=\"dataframe\">\n",
       "  <thead>\n",
       "    <tr style=\"text-align: right;\">\n",
       "      <th></th>\n",
       "      <th>gender</th>\n",
       "      <th>ssc_p</th>\n",
       "      <th>ssc_b</th>\n",
       "      <th>hsc_p</th>\n",
       "      <th>hsc_b</th>\n",
       "      <th>hsc_s</th>\n",
       "      <th>degree_p</th>\n",
       "      <th>degree_t</th>\n",
       "      <th>workex</th>\n",
       "      <th>etest_p</th>\n",
       "      <th>specialisation</th>\n",
       "      <th>mba_p</th>\n",
       "      <th>status</th>\n",
       "      <th>salary</th>\n",
       "    </tr>\n",
       "  </thead>\n",
       "  <tbody>\n",
       "    <tr>\n",
       "      <th>0</th>\n",
       "      <td>M</td>\n",
       "      <td>67.00</td>\n",
       "      <td>Others</td>\n",
       "      <td>91.00</td>\n",
       "      <td>Others</td>\n",
       "      <td>Commerce</td>\n",
       "      <td>58.00</td>\n",
       "      <td>Sci&amp;Tech</td>\n",
       "      <td>No</td>\n",
       "      <td>55.0</td>\n",
       "      <td>Mkt&amp;HR</td>\n",
       "      <td>58.80</td>\n",
       "      <td>Placed</td>\n",
       "      <td>270000.0</td>\n",
       "    </tr>\n",
       "    <tr>\n",
       "      <th>1</th>\n",
       "      <td>M</td>\n",
       "      <td>79.33</td>\n",
       "      <td>Central</td>\n",
       "      <td>78.33</td>\n",
       "      <td>Others</td>\n",
       "      <td>Science</td>\n",
       "      <td>77.48</td>\n",
       "      <td>Sci&amp;Tech</td>\n",
       "      <td>Yes</td>\n",
       "      <td>86.5</td>\n",
       "      <td>Mkt&amp;Fin</td>\n",
       "      <td>66.28</td>\n",
       "      <td>Placed</td>\n",
       "      <td>200000.0</td>\n",
       "    </tr>\n",
       "    <tr>\n",
       "      <th>2</th>\n",
       "      <td>M</td>\n",
       "      <td>65.00</td>\n",
       "      <td>Central</td>\n",
       "      <td>68.00</td>\n",
       "      <td>Central</td>\n",
       "      <td>Arts</td>\n",
       "      <td>64.00</td>\n",
       "      <td>Comm&amp;Mgmt</td>\n",
       "      <td>No</td>\n",
       "      <td>75.0</td>\n",
       "      <td>Mkt&amp;Fin</td>\n",
       "      <td>57.80</td>\n",
       "      <td>Placed</td>\n",
       "      <td>250000.0</td>\n",
       "    </tr>\n",
       "    <tr>\n",
       "      <th>3</th>\n",
       "      <td>M</td>\n",
       "      <td>56.00</td>\n",
       "      <td>Central</td>\n",
       "      <td>52.00</td>\n",
       "      <td>Central</td>\n",
       "      <td>Science</td>\n",
       "      <td>52.00</td>\n",
       "      <td>Sci&amp;Tech</td>\n",
       "      <td>No</td>\n",
       "      <td>66.0</td>\n",
       "      <td>Mkt&amp;HR</td>\n",
       "      <td>59.43</td>\n",
       "      <td>Not Placed</td>\n",
       "      <td>288655.0</td>\n",
       "    </tr>\n",
       "    <tr>\n",
       "      <th>4</th>\n",
       "      <td>M</td>\n",
       "      <td>85.80</td>\n",
       "      <td>Central</td>\n",
       "      <td>73.60</td>\n",
       "      <td>Central</td>\n",
       "      <td>Commerce</td>\n",
       "      <td>73.30</td>\n",
       "      <td>Comm&amp;Mgmt</td>\n",
       "      <td>No</td>\n",
       "      <td>96.8</td>\n",
       "      <td>Mkt&amp;Fin</td>\n",
       "      <td>55.50</td>\n",
       "      <td>Placed</td>\n",
       "      <td>425000.0</td>\n",
       "    </tr>\n",
       "  </tbody>\n",
       "</table>\n",
       "</div>"
      ],
      "text/plain": [
       "  gender  ssc_p    ssc_b  hsc_p    hsc_b     hsc_s  degree_p   degree_t  \\\n",
       "0      M  67.00   Others  91.00   Others  Commerce     58.00   Sci&Tech   \n",
       "1      M  79.33  Central  78.33   Others   Science     77.48   Sci&Tech   \n",
       "2      M  65.00  Central  68.00  Central      Arts     64.00  Comm&Mgmt   \n",
       "3      M  56.00  Central  52.00  Central   Science     52.00   Sci&Tech   \n",
       "4      M  85.80  Central  73.60  Central  Commerce     73.30  Comm&Mgmt   \n",
       "\n",
       "  workex  etest_p specialisation  mba_p      status    salary  \n",
       "0     No     55.0         Mkt&HR  58.80      Placed  270000.0  \n",
       "1    Yes     86.5        Mkt&Fin  66.28      Placed  200000.0  \n",
       "2     No     75.0        Mkt&Fin  57.80      Placed  250000.0  \n",
       "3     No     66.0         Mkt&HR  59.43  Not Placed  288655.0  \n",
       "4     No     96.8        Mkt&Fin  55.50      Placed  425000.0  "
      ]
     },
     "execution_count": 5,
     "metadata": {},
     "output_type": "execute_result"
    }
   ],
   "source": [
    "\n",
    "df['salary'].fillna(int(df['salary'].mean()), inplace=True)\n",
    "df.head()"
   ]
  },
  {
   "cell_type": "code",
   "execution_count": 6,
   "metadata": {
    "execution": {
     "iopub.execute_input": "2021-04-26T11:53:15.622771Z",
     "iopub.status.busy": "2021-04-26T11:53:15.622068Z",
     "iopub.status.idle": "2021-04-26T11:53:15.628154Z",
     "shell.execute_reply": "2021-04-26T11:53:15.627132Z"
    },
    "papermill": {
     "duration": 0.059887,
     "end_time": "2021-04-26T11:53:15.628414",
     "exception": false,
     "start_time": "2021-04-26T11:53:15.568527",
     "status": "completed"
    },
    "tags": []
   },
   "outputs": [
    {
     "name": "stdout",
     "output_type": "stream",
     "text": [
      "<class 'pandas.core.frame.DataFrame'>\n",
      "RangeIndex: 215 entries, 0 to 214\n",
      "Data columns (total 14 columns):\n",
      " #   Column          Non-Null Count  Dtype  \n",
      "---  ------          --------------  -----  \n",
      " 0   gender          215 non-null    object \n",
      " 1   ssc_p           215 non-null    float64\n",
      " 2   ssc_b           215 non-null    object \n",
      " 3   hsc_p           215 non-null    float64\n",
      " 4   hsc_b           215 non-null    object \n",
      " 5   hsc_s           215 non-null    object \n",
      " 6   degree_p        215 non-null    float64\n",
      " 7   degree_t        215 non-null    object \n",
      " 8   workex          215 non-null    object \n",
      " 9   etest_p         215 non-null    float64\n",
      " 10  specialisation  215 non-null    object \n",
      " 11  mba_p           215 non-null    float64\n",
      " 12  status          215 non-null    object \n",
      " 13  salary          215 non-null    float64\n",
      "dtypes: float64(6), object(8)\n",
      "memory usage: 23.6+ KB\n"
     ]
    },
    {
     "data": {
      "text/plain": [
       "Comm&Mgmt    145\n",
       "Sci&Tech      59\n",
       "Others        11\n",
       "Name: degree_t, dtype: int64"
      ]
     },
     "execution_count": 6,
     "metadata": {},
     "output_type": "execute_result"
    }
   ],
   "source": [
    "df.info()\n",
    "df['degree_t'].value_counts()"
   ]
  },
  {
   "cell_type": "code",
   "execution_count": 7,
   "metadata": {
    "execution": {
     "iopub.execute_input": "2021-04-26T11:53:15.716764Z",
     "iopub.status.busy": "2021-04-26T11:53:15.715632Z",
     "iopub.status.idle": "2021-04-26T11:53:15.718904Z",
     "shell.execute_reply": "2021-04-26T11:53:15.718178Z"
    },
    "papermill": {
     "duration": 0.050129,
     "end_time": "2021-04-26T11:53:15.719089",
     "exception": false,
     "start_time": "2021-04-26T11:53:15.668960",
     "status": "completed"
    },
    "tags": []
   },
   "outputs": [],
   "source": [
    "df[\"Stat\"] = df[\"status\"]\n",
    "df.head()\n",
    "df.drop(['status'], axis = 1, inplace = True)"
   ]
  },
  {
   "cell_type": "code",
   "execution_count": 8,
   "metadata": {
    "execution": {
     "iopub.execute_input": "2021-04-26T11:53:15.821872Z",
     "iopub.status.busy": "2021-04-26T11:53:15.821182Z",
     "iopub.status.idle": "2021-04-26T11:53:15.825573Z",
     "shell.execute_reply": "2021-04-26T11:53:15.825004Z"
    },
    "papermill": {
     "duration": 0.06736,
     "end_time": "2021-04-26T11:53:15.825732",
     "exception": false,
     "start_time": "2021-04-26T11:53:15.758372",
     "status": "completed"
    },
    "tags": []
   },
   "outputs": [
    {
     "data": {
      "text/html": [
       "<div>\n",
       "<style scoped>\n",
       "    .dataframe tbody tr th:only-of-type {\n",
       "        vertical-align: middle;\n",
       "    }\n",
       "\n",
       "    .dataframe tbody tr th {\n",
       "        vertical-align: top;\n",
       "    }\n",
       "\n",
       "    .dataframe thead th {\n",
       "        text-align: right;\n",
       "    }\n",
       "</style>\n",
       "<table border=\"1\" class=\"dataframe\">\n",
       "  <thead>\n",
       "    <tr style=\"text-align: right;\">\n",
       "      <th></th>\n",
       "      <th>gender</th>\n",
       "      <th>ssc_p</th>\n",
       "      <th>ssc_b</th>\n",
       "      <th>hsc_p</th>\n",
       "      <th>hsc_b</th>\n",
       "      <th>hsc_s</th>\n",
       "      <th>degree_p</th>\n",
       "      <th>degree_t</th>\n",
       "      <th>workex</th>\n",
       "      <th>etest_p</th>\n",
       "      <th>specialisation</th>\n",
       "      <th>mba_p</th>\n",
       "      <th>salary</th>\n",
       "      <th>Stat</th>\n",
       "    </tr>\n",
       "  </thead>\n",
       "  <tbody>\n",
       "    <tr>\n",
       "      <th>0</th>\n",
       "      <td>M</td>\n",
       "      <td>67.00</td>\n",
       "      <td>Others</td>\n",
       "      <td>91.00</td>\n",
       "      <td>Others</td>\n",
       "      <td>Commerce</td>\n",
       "      <td>58.00</td>\n",
       "      <td>Sci&amp;Tech</td>\n",
       "      <td>No</td>\n",
       "      <td>55.0</td>\n",
       "      <td>Mkt&amp;HR</td>\n",
       "      <td>58.80</td>\n",
       "      <td>270000.0</td>\n",
       "      <td>Placed</td>\n",
       "    </tr>\n",
       "    <tr>\n",
       "      <th>1</th>\n",
       "      <td>M</td>\n",
       "      <td>79.33</td>\n",
       "      <td>Central</td>\n",
       "      <td>78.33</td>\n",
       "      <td>Others</td>\n",
       "      <td>Science</td>\n",
       "      <td>77.48</td>\n",
       "      <td>Sci&amp;Tech</td>\n",
       "      <td>Yes</td>\n",
       "      <td>86.5</td>\n",
       "      <td>Mkt&amp;Fin</td>\n",
       "      <td>66.28</td>\n",
       "      <td>200000.0</td>\n",
       "      <td>Placed</td>\n",
       "    </tr>\n",
       "    <tr>\n",
       "      <th>2</th>\n",
       "      <td>M</td>\n",
       "      <td>65.00</td>\n",
       "      <td>Central</td>\n",
       "      <td>68.00</td>\n",
       "      <td>Central</td>\n",
       "      <td>Arts</td>\n",
       "      <td>64.00</td>\n",
       "      <td>Comm&amp;Mgmt</td>\n",
       "      <td>No</td>\n",
       "      <td>75.0</td>\n",
       "      <td>Mkt&amp;Fin</td>\n",
       "      <td>57.80</td>\n",
       "      <td>250000.0</td>\n",
       "      <td>Placed</td>\n",
       "    </tr>\n",
       "    <tr>\n",
       "      <th>3</th>\n",
       "      <td>M</td>\n",
       "      <td>56.00</td>\n",
       "      <td>Central</td>\n",
       "      <td>52.00</td>\n",
       "      <td>Central</td>\n",
       "      <td>Science</td>\n",
       "      <td>52.00</td>\n",
       "      <td>Sci&amp;Tech</td>\n",
       "      <td>No</td>\n",
       "      <td>66.0</td>\n",
       "      <td>Mkt&amp;HR</td>\n",
       "      <td>59.43</td>\n",
       "      <td>288655.0</td>\n",
       "      <td>Not Placed</td>\n",
       "    </tr>\n",
       "    <tr>\n",
       "      <th>4</th>\n",
       "      <td>M</td>\n",
       "      <td>85.80</td>\n",
       "      <td>Central</td>\n",
       "      <td>73.60</td>\n",
       "      <td>Central</td>\n",
       "      <td>Commerce</td>\n",
       "      <td>73.30</td>\n",
       "      <td>Comm&amp;Mgmt</td>\n",
       "      <td>No</td>\n",
       "      <td>96.8</td>\n",
       "      <td>Mkt&amp;Fin</td>\n",
       "      <td>55.50</td>\n",
       "      <td>425000.0</td>\n",
       "      <td>Placed</td>\n",
       "    </tr>\n",
       "  </tbody>\n",
       "</table>\n",
       "</div>"
      ],
      "text/plain": [
       "  gender  ssc_p    ssc_b  hsc_p    hsc_b     hsc_s  degree_p   degree_t  \\\n",
       "0      M  67.00   Others  91.00   Others  Commerce     58.00   Sci&Tech   \n",
       "1      M  79.33  Central  78.33   Others   Science     77.48   Sci&Tech   \n",
       "2      M  65.00  Central  68.00  Central      Arts     64.00  Comm&Mgmt   \n",
       "3      M  56.00  Central  52.00  Central   Science     52.00   Sci&Tech   \n",
       "4      M  85.80  Central  73.60  Central  Commerce     73.30  Comm&Mgmt   \n",
       "\n",
       "  workex  etest_p specialisation  mba_p    salary        Stat  \n",
       "0     No     55.0         Mkt&HR  58.80  270000.0      Placed  \n",
       "1    Yes     86.5        Mkt&Fin  66.28  200000.0      Placed  \n",
       "2     No     75.0        Mkt&Fin  57.80  250000.0      Placed  \n",
       "3     No     66.0         Mkt&HR  59.43  288655.0  Not Placed  \n",
       "4     No     96.8        Mkt&Fin  55.50  425000.0      Placed  "
      ]
     },
     "execution_count": 8,
     "metadata": {},
     "output_type": "execute_result"
    }
   ],
   "source": [
    "df.head()"
   ]
  },
  {
   "cell_type": "markdown",
   "metadata": {
    "papermill": {
     "duration": 0.040465,
     "end_time": "2021-04-26T11:53:15.906430",
     "exception": false,
     "start_time": "2021-04-26T11:53:15.865965",
     "status": "completed"
    },
    "tags": []
   },
   "source": [
    "# EXPLORATORY DATA ANALYSIS"
   ]
  },
  {
   "cell_type": "code",
   "execution_count": 9,
   "metadata": {
    "execution": {
     "iopub.execute_input": "2021-04-26T11:53:16.015145Z",
     "iopub.status.busy": "2021-04-26T11:53:16.014267Z",
     "iopub.status.idle": "2021-04-26T11:53:16.516984Z",
     "shell.execute_reply": "2021-04-26T11:53:16.516045Z"
    },
    "papermill": {
     "duration": 0.569697,
     "end_time": "2021-04-26T11:53:16.517144",
     "exception": false,
     "start_time": "2021-04-26T11:53:15.947447",
     "status": "completed"
    },
    "tags": []
   },
   "outputs": [
    {
     "data": {
      "text/plain": [
       "<AxesSubplot:>"
      ]
     },
     "execution_count": 9,
     "metadata": {},
     "output_type": "execute_result"
    },
    {
     "data": {
      "image/png": "[encoded data removed]",
      "text/plain": [
       "<Figure size 1440x1080 with 2 Axes>"
      ]
     },
     "metadata": {
      "needs_background": "light"
     },
     "output_type": "display_data"
    }
   ],
   "source": [
    "# heat map correlation\n",
    "#HEAT MAP CORRELATION\n",
    "import matplotlib.pyplot as plt\n",
    "import seaborn as sns\n",
    "\n",
    "corrmat = df.corr()\n",
    "f, ax = plt.subplots(figsize=(20, 15))\n",
    "sns.heatmap(corrmat, vmax=.8, square=True, annot=True,cmap=\"YlGnBu\")"
   ]
  },
  {
   "cell_type": "code",
   "execution_count": 10,
   "metadata": {
    "execution": {
     "iopub.execute_input": "2021-04-26T11:53:16.637995Z",
     "iopub.status.busy": "2021-04-26T11:53:16.624767Z",
     "iopub.status.idle": "2021-04-26T11:53:16.743750Z",
     "shell.execute_reply": "2021-04-26T11:53:16.744304Z"
    },
    "papermill": {
     "duration": 0.183903,
     "end_time": "2021-04-26T11:53:16.744529",
     "exception": false,
     "start_time": "2021-04-26T11:53:16.560626",
     "status": "completed"
    },
    "tags": []
   },
   "outputs": [
    {
     "data": {
      "image/png": "[encoded data removed]",
      "text/plain": [
       "<Figure size 648x504 with 1 Axes>"
      ]
     },
     "metadata": {
      "needs_background": "light"
     },
     "output_type": "display_data"
    }
   ],
   "source": [
    "#count plot genders\n",
    "f = plt.subplots(figsize = (9 , 7))\n",
    "sns.countplot(data = df, x = \"gender\", palette = \"flare\")\n",
    "plt.show()\n"
   ]
  },
  {
   "cell_type": "markdown",
   "metadata": {
    "papermill": {
     "duration": 0.043379,
     "end_time": "2021-04-26T11:53:16.830852",
     "exception": false,
     "start_time": "2021-04-26T11:53:16.787473",
     "status": "completed"
    },
    "tags": []
   },
   "source": [
    "IN THE ABOVE GRAPH, WE CAN SEE NUMBER OF MALEs ARE MORE THAN NUMBER OF FEMALES"
   ]
  },
  {
   "cell_type": "code",
   "execution_count": 11,
   "metadata": {
    "execution": {
     "iopub.execute_input": "2021-04-26T11:53:16.937356Z",
     "iopub.status.busy": "2021-04-26T11:53:16.936565Z",
     "iopub.status.idle": "2021-04-26T11:53:17.061738Z",
     "shell.execute_reply": "2021-04-26T11:53:17.060968Z"
    },
    "papermill": {
     "duration": 0.188558,
     "end_time": "2021-04-26T11:53:17.061896",
     "exception": false,
     "start_time": "2021-04-26T11:53:16.873338",
     "status": "completed"
    },
    "tags": []
   },
   "outputs": [
    {
     "data": {
      "image/png": "[encoded data removed]",
      "text/plain": [
       "<Figure size 648x504 with 1 Axes>"
      ]
     },
     "metadata": {
      "needs_background": "light"
     },
     "output_type": "display_data"
    }
   ],
   "source": [
    "#COUNT PLOT DEGREE\n",
    "f = plt.subplots(figsize = (9 , 7))\n",
    "sns.countplot(data = df, x = \"degree_t\", palette = \"husl\")\n",
    "plt.show()\n"
   ]
  },
  {
   "cell_type": "markdown",
   "metadata": {
    "papermill": {
     "duration": 0.043356,
     "end_time": "2021-04-26T11:53:17.149392",
     "exception": false,
     "start_time": "2021-04-26T11:53:17.106036",
     "status": "completed"
    },
    "tags": []
   },
   "source": [
    "AS WE CAN SEE, THE SIGNIFICANT NUMBER OF PEOPLE HAS BEEN GRADUATED THROUGH COMMERCE & MANAGEMENT FIELD, FOLLOWED BY SCIENCE AND TECHNOLOGY AND OTHER STREAMS"
   ]
  },
  {
   "cell_type": "code",
   "execution_count": 12,
   "metadata": {
    "execution": {
     "iopub.execute_input": "2021-04-26T11:53:17.272676Z",
     "iopub.status.busy": "2021-04-26T11:53:17.262123Z",
     "iopub.status.idle": "2021-04-26T11:53:17.374411Z",
     "shell.execute_reply": "2021-04-26T11:53:17.373734Z"
    },
    "papermill": {
     "duration": 0.181226,
     "end_time": "2021-04-26T11:53:17.374586",
     "exception": false,
     "start_time": "2021-04-26T11:53:17.193360",
     "status": "completed"
    },
    "tags": []
   },
   "outputs": [
    {
     "data": {
      "image/png": "[encoded data removed]",
      "text/plain": [
       "<Figure size 648x504 with 1 Axes>"
      ]
     },
     "metadata": {
      "needs_background": "light"
     },
     "output_type": "display_data"
    }
   ],
   "source": [
    "#COUNT PLOT WORK EXPERIENCE\n",
    "f = plt.subplots(figsize = (9 , 7))\n",
    "sns.countplot(data = df, x = \"workex\", palette = \"ch:s=.25,rot=-.25\")\n",
    "plt.show()\n"
   ]
  },
  {
   "cell_type": "markdown",
   "metadata": {
    "papermill": {
     "duration": 0.044297,
     "end_time": "2021-04-26T11:53:17.465219",
     "exception": false,
     "start_time": "2021-04-26T11:53:17.420922",
     "status": "completed"
    },
    "tags": []
   },
   "source": [
    "AS DEMONSTRATED, LARGE NUMBER OF PEOPLE DO NOT HAVE WORK EXPERIENCE"
   ]
  },
  {
   "cell_type": "code",
   "execution_count": 13,
   "metadata": {
    "execution": {
     "iopub.execute_input": "2021-04-26T11:53:17.607609Z",
     "iopub.status.busy": "2021-04-26T11:53:17.588259Z",
     "iopub.status.idle": "2021-04-26T11:53:17.690200Z",
     "shell.execute_reply": "2021-04-26T11:53:17.689465Z"
    },
    "papermill": {
     "duration": 0.177889,
     "end_time": "2021-04-26T11:53:17.690345",
     "exception": false,
     "start_time": "2021-04-26T11:53:17.512456",
     "status": "completed"
    },
    "tags": []
   },
   "outputs": [
    {
     "data": {
      "image/png": "[encoded data removed]",
      "text/plain": [
       "<Figure size 648x504 with 1 Axes>"
      ]
     },
     "metadata": {
      "needs_background": "light"
     },
     "output_type": "display_data"
    }
   ],
   "source": [
    "#COUNT PLOT SPECIALISATION\n",
    "f = plt.subplots(figsize = (9 , 7))\n",
    "sns.countplot(data = df, x = \"specialisation\", palette = \"Set2\")\n",
    "plt.show()\n"
   ]
  },
  {
   "cell_type": "markdown",
   "metadata": {
    "papermill": {
     "duration": 0.044861,
     "end_time": "2021-04-26T11:53:17.780791",
     "exception": false,
     "start_time": "2021-04-26T11:53:17.735930",
     "status": "completed"
    },
    "tags": []
   },
   "source": [
    "AS DEMONSTRATED, A DECENT AMOUNT OF INDIVIUALS ARE SPECIALIZED IN MARKETING & FINANCE"
   ]
  },
  {
   "cell_type": "code",
   "execution_count": 14,
   "metadata": {
    "execution": {
     "iopub.execute_input": "2021-04-26T11:53:17.896244Z",
     "iopub.status.busy": "2021-04-26T11:53:17.895128Z",
     "iopub.status.idle": "2021-04-26T11:53:18.035901Z",
     "shell.execute_reply": "2021-04-26T11:53:18.036454Z"
    },
    "papermill": {
     "duration": 0.21081,
     "end_time": "2021-04-26T11:53:18.036651",
     "exception": false,
     "start_time": "2021-04-26T11:53:17.825841",
     "status": "completed"
    },
    "tags": []
   },
   "outputs": [
    {
     "data": {
      "image/png": "[encoded data removed]",
      "text/plain": [
       "<Figure size 648x504 with 1 Axes>"
      ]
     },
     "metadata": {
      "needs_background": "light"
     },
     "output_type": "display_data"
    }
   ],
   "source": [
    "#SPECIALISATION V/S STATUS\n",
    "#COUNT PLOT SPECIALISATION\n",
    "f = plt.subplots(figsize = (9 , 7))\n",
    "sns.countplot(data = df, x = \"specialisation\",hue = 'Stat', palette = \"Set2\")\n",
    "plt.title(\"specialisation v/s Status\")\n",
    "plt.show()\n"
   ]
  },
  {
   "cell_type": "markdown",
   "metadata": {
    "papermill": {
     "duration": 0.0483,
     "end_time": "2021-04-26T11:53:18.131177",
     "exception": false,
     "start_time": "2021-04-26T11:53:18.082877",
     "status": "completed"
    },
    "tags": []
   },
   "source": [
    "MARKETING & FINANCE ARE MORE LIKELY TO BE PLACED."
   ]
  },
  {
   "cell_type": "code",
   "execution_count": 15,
   "metadata": {
    "execution": {
     "iopub.execute_input": "2021-04-26T11:53:18.351045Z",
     "iopub.status.busy": "2021-04-26T11:53:18.235238Z",
     "iopub.status.idle": "2021-04-26T11:53:18.511149Z",
     "shell.execute_reply": "2021-04-26T11:53:18.510574Z"
    },
    "papermill": {
     "duration": 0.333933,
     "end_time": "2021-04-26T11:53:18.511291",
     "exception": false,
     "start_time": "2021-04-26T11:53:18.177358",
     "status": "completed"
    },
    "tags": []
   },
   "outputs": [
    {
     "data": {
      "image/png": "[encoded data removed]",
      "text/plain": [
       "<Figure size 504x504 with 1 Axes>"
      ]
     },
     "metadata": {
      "needs_background": "light"
     },
     "output_type": "display_data"
    }
   ],
   "source": [
    "#COUNT PLOT \n",
    "f = plt.subplots(figsize = (7, 7))\n",
    "sns.countplot(data = df, x = \"degree_t\", hue = 'Stat', palette = \"flare\")\n",
    "plt.title(\"DEGREE V/S STATUS\")\n",
    "plt.show()\n"
   ]
  },
  {
   "cell_type": "markdown",
   "metadata": {
    "papermill": {
     "duration": 0.0482,
     "end_time": "2021-04-26T11:53:18.607117",
     "exception": false,
     "start_time": "2021-04-26T11:53:18.558917",
     "status": "completed"
    },
    "tags": []
   },
   "source": [
    "HERE, THE INDIVIUALS WHO HOLDS COMMERCE & MANAGEMENT DEGREE ARE LIKELY TO PLACED."
   ]
  },
  {
   "cell_type": "code",
   "execution_count": 16,
   "metadata": {
    "execution": {
     "iopub.execute_input": "2021-04-26T11:53:18.724970Z",
     "iopub.status.busy": "2021-04-26T11:53:18.724220Z",
     "iopub.status.idle": "2021-04-26T11:53:18.874922Z",
     "shell.execute_reply": "2021-04-26T11:53:18.874200Z"
    },
    "papermill": {
     "duration": 0.220344,
     "end_time": "2021-04-26T11:53:18.875075",
     "exception": false,
     "start_time": "2021-04-26T11:53:18.654731",
     "status": "completed"
    },
    "tags": []
   },
   "outputs": [
    {
     "data": {
      "image/png": "[encoded data removed]",
      "text/plain": [
       "<Figure size 504x504 with 1 Axes>"
      ]
     },
     "metadata": {
      "needs_background": "light"
     },
     "output_type": "display_data"
    }
   ],
   "source": [
    "#WORK EXP V/S STATUS\n",
    "f = plt.subplots(figsize = (7, 7))\n",
    "sns.countplot(data = df, x = \"workex\", hue = 'Stat', palette = \"pastel\")\n",
    "plt.title(\"WORK EXP V/S STATUS\")\n",
    "plt.show()\n"
   ]
  },
  {
   "cell_type": "markdown",
   "metadata": {
    "papermill": {
     "duration": 0.047719,
     "end_time": "2021-04-26T11:53:18.971708",
     "exception": false,
     "start_time": "2021-04-26T11:53:18.923989",
     "status": "completed"
    },
    "tags": []
   },
   "source": [
    "HERE,THE INDIVIUALS ARE NOT EXPERIENCED THOUGH , THEY ARE LIKELY TO BE PLACED."
   ]
  },
  {
   "cell_type": "code",
   "execution_count": 17,
   "metadata": {
    "execution": {
     "iopub.execute_input": "2021-04-26T11:53:19.116057Z",
     "iopub.status.busy": "2021-04-26T11:53:19.115206Z",
     "iopub.status.idle": "2021-04-26T11:53:19.483446Z",
     "shell.execute_reply": "2021-04-26T11:53:19.484178Z"
    },
    "papermill": {
     "duration": 0.462826,
     "end_time": "2021-04-26T11:53:19.484366",
     "exception": false,
     "start_time": "2021-04-26T11:53:19.021540",
     "status": "completed"
    },
    "tags": []
   },
   "outputs": [
    {
     "data": {
      "image/png": "[encoded data removed]",
      "text/plain": [
       "<Figure size 864x864 with 1 Axes>"
      ]
     },
     "metadata": {
      "needs_background": "light"
     },
     "output_type": "display_data"
    }
   ],
   "source": [
    "#WORK EXP V/S STATUS\n",
    "f = plt.subplots(figsize = (12 , 12))\n",
    "sns.histplot(data = df, x = \"salary\", hue = 'specialisation', palette = \"pastel\", bins = 30)\n",
    "plt.title(\"SALARY V/S SPECIALISATION\")\n",
    "plt.show()\n"
   ]
  },
  {
   "cell_type": "markdown",
   "metadata": {
    "papermill": {
     "duration": 0.052784,
     "end_time": "2021-04-26T11:53:19.592043",
     "exception": false,
     "start_time": "2021-04-26T11:53:19.539259",
     "status": "completed"
    },
    "tags": []
   },
   "source": [
    "HERE, MARKETING & HR ARE LIKELY TO PLACED WITH SALARY 3L PER ANNUM , IT IS FOLLOWED BY MARKETING & FINANCE"
   ]
  },
  {
   "cell_type": "code",
   "execution_count": 18,
   "metadata": {
    "execution": {
     "iopub.execute_input": "2021-04-26T11:53:19.701010Z",
     "iopub.status.busy": "2021-04-26T11:53:19.699912Z",
     "iopub.status.idle": "2021-04-26T11:53:20.037531Z",
     "shell.execute_reply": "2021-04-26T11:53:20.038039Z"
    },
    "papermill": {
     "duration": 0.395062,
     "end_time": "2021-04-26T11:53:20.038239",
     "exception": false,
     "start_time": "2021-04-26T11:53:19.643177",
     "status": "completed"
    },
    "tags": []
   },
   "outputs": [
    {
     "data": {
      "image/png": "[encoded data removed]",
      "text/plain": [
       "<Figure size 864x720 with 1 Axes>"
      ]
     },
     "metadata": {
      "needs_background": "light"
     },
     "output_type": "display_data"
    }
   ],
   "source": [
    "plt.figure(figsize=(12,10))\n",
    "sns.histplot(data=df, x=\"degree_p\", hue=\"gender\", kde = True, palette = \"flare\")\n",
    "plt.title('gender v/s DEGREE percentage' , fontsize=15)\n",
    "plt.xlim([18,100])\n",
    "plt.show()"
   ]
  },
  {
   "cell_type": "markdown",
   "metadata": {
    "papermill": {
     "duration": 0.050753,
     "end_time": "2021-04-26T11:53:20.140941",
     "exception": false,
     "start_time": "2021-04-26T11:53:20.090188",
     "status": "completed"
    },
    "tags": []
   },
   "source": [
    "IN THIS GRAPH , MAXIMUM NUMBER OF PEOPLE HAS SCORED IN RANGE 62%- 65% IN THEIR DEGREE RESPECTIVELY."
   ]
  },
  {
   "cell_type": "code",
   "execution_count": 19,
   "metadata": {
    "execution": {
     "iopub.execute_input": "2021-04-26T11:53:20.248290Z",
     "iopub.status.busy": "2021-04-26T11:53:20.247218Z",
     "iopub.status.idle": "2021-04-26T11:53:20.503708Z",
     "shell.execute_reply": "2021-04-26T11:53:20.503021Z"
    },
    "papermill": {
     "duration": 0.311295,
     "end_time": "2021-04-26T11:53:20.503854",
     "exception": false,
     "start_time": "2021-04-26T11:53:20.192559",
     "status": "completed"
    },
    "tags": []
   },
   "outputs": [
    {
     "data": {
      "image/png": "[encoded data removed]",
      "text/plain": [
       "<Figure size 864x720 with 1 Axes>"
      ]
     },
     "metadata": {
      "needs_background": "light"
     },
     "output_type": "display_data"
    }
   ],
   "source": [
    "#placed with percentage\n",
    "plt.figure(figsize=(12,10))\n",
    "sns.histplot(data=df, x=\"degree_p\", hue=\"Stat\", kde = True, element= 'poly',palette = \"pastel\")\n",
    "plt.title('DEGREE percentage V/S STATUS' , fontsize=15)\n",
    "plt.xlim([18,100])\n",
    "plt.show()"
   ]
  },
  {
   "cell_type": "markdown",
   "metadata": {
    "papermill": {
     "duration": 0.054908,
     "end_time": "2021-04-26T11:53:20.611046",
     "exception": false,
     "start_time": "2021-04-26T11:53:20.556138",
     "status": "completed"
    },
    "tags": []
   },
   "source": [
    "OVER HERE, WE CAN SEE PERCENTAGE IN RANGE 62% - 90% ARE LIKELY TO BE PLACED."
   ]
  },
  {
   "cell_type": "code",
   "execution_count": 20,
   "metadata": {
    "execution": {
     "iopub.execute_input": "2021-04-26T11:53:20.734984Z",
     "iopub.status.busy": "2021-04-26T11:53:20.733895Z",
     "iopub.status.idle": "2021-04-26T11:53:21.031240Z",
     "shell.execute_reply": "2021-04-26T11:53:21.031753Z"
    },
    "papermill": {
     "duration": 0.367669,
     "end_time": "2021-04-26T11:53:21.031944",
     "exception": false,
     "start_time": "2021-04-26T11:53:20.664275",
     "status": "completed"
    },
    "tags": []
   },
   "outputs": [
    {
     "data": {
      "image/png": "[encoded data removed]",
      "text/plain": [
       "<Figure size 864x720 with 1 Axes>"
      ]
     },
     "metadata": {
      "needs_background": "light"
     },
     "output_type": "display_data"
    }
   ],
   "source": [
    "plt.figure(figsize=(12,10))\n",
    "sns.histplot(data=df, x=\"mba_p\", hue=\"gender\", kde = True)\n",
    "plt.title('gender v/s MBA percentage' , fontsize=15)\n",
    "plt.xlim([18,100])\n",
    "plt.show()"
   ]
  },
  {
   "cell_type": "markdown",
   "metadata": {
    "papermill": {
     "duration": 0.055137,
     "end_time": "2021-04-26T11:53:21.142076",
     "exception": false,
     "start_time": "2021-04-26T11:53:21.086939",
     "status": "completed"
    },
    "tags": []
   },
   "source": [
    "HERE, MAXIMUM NUMBER OF PEOPLE HAS SCORED IN RANGE 58% - 65% IN THEIR MBA RESPECTIVELY."
   ]
  },
  {
   "cell_type": "code",
   "execution_count": 21,
   "metadata": {
    "execution": {
     "iopub.execute_input": "2021-04-26T11:53:21.326096Z",
     "iopub.status.busy": "2021-04-26T11:53:21.321123Z",
     "iopub.status.idle": "2021-04-26T11:53:21.531899Z",
     "shell.execute_reply": "2021-04-26T11:53:21.532372Z"
    },
    "papermill": {
     "duration": 0.334649,
     "end_time": "2021-04-26T11:53:21.532600",
     "exception": false,
     "start_time": "2021-04-26T11:53:21.197951",
     "status": "completed"
    },
    "tags": []
   },
   "outputs": [
    {
     "data": {
      "image/png": "[encoded data removed]",
      "text/plain": [
       "<Figure size 864x720 with 1 Axes>"
      ]
     },
     "metadata": {
      "needs_background": "light"
     },
     "output_type": "display_data"
    }
   ],
   "source": [
    "#placed with percentage\n",
    "plt.figure(figsize=(12,10))\n",
    "sns.histplot(data=df, x=\"mba_p\", hue=\"Stat\", kde = True, element= 'poly',palette = \"flare\")\n",
    "plt.title(' MBA percentage V/S STATUS' , fontsize=15)\n",
    "plt.xlim([18,100])\n",
    "plt.show()"
   ]
  },
  {
   "cell_type": "markdown",
   "metadata": {
    "papermill": {
     "duration": 0.057206,
     "end_time": "2021-04-26T11:53:21.649417",
     "exception": false,
     "start_time": "2021-04-26T11:53:21.592211",
     "status": "completed"
    },
    "tags": []
   },
   "source": [
    "IN THIS, MBA % IN RANGE 52% - 75% ARE HIGLY LIKED TO BE PLACED"
   ]
  },
  {
   "cell_type": "markdown",
   "metadata": {
    "papermill": {
     "duration": 0.05759,
     "end_time": "2021-04-26T11:53:21.763536",
     "exception": false,
     "start_time": "2021-04-26T11:53:21.705946",
     "status": "completed"
    },
    "tags": []
   },
   "source": [
    "# DATA PREPROCESSING"
   ]
  },
  {
   "cell_type": "code",
   "execution_count": 22,
   "metadata": {
    "execution": {
     "iopub.execute_input": "2021-04-26T11:53:21.880546Z",
     "iopub.status.busy": "2021-04-26T11:53:21.879534Z",
     "iopub.status.idle": "2021-04-26T11:53:21.914381Z",
     "shell.execute_reply": "2021-04-26T11:53:21.914894Z"
    },
    "papermill": {
     "duration": 0.094943,
     "end_time": "2021-04-26T11:53:21.915094",
     "exception": false,
     "start_time": "2021-04-26T11:53:21.820151",
     "status": "completed"
    },
    "tags": []
   },
   "outputs": [
    {
     "data": {
      "text/html": [
       "<div>\n",
       "<style scoped>\n",
       "    .dataframe tbody tr th:only-of-type {\n",
       "        vertical-align: middle;\n",
       "    }\n",
       "\n",
       "    .dataframe tbody tr th {\n",
       "        vertical-align: top;\n",
       "    }\n",
       "\n",
       "    .dataframe thead th {\n",
       "        text-align: right;\n",
       "    }\n",
       "</style>\n",
       "<table border=\"1\" class=\"dataframe\">\n",
       "  <thead>\n",
       "    <tr style=\"text-align: right;\">\n",
       "      <th></th>\n",
       "      <th>gender</th>\n",
       "      <th>ssc_p</th>\n",
       "      <th>ssc_b</th>\n",
       "      <th>hsc_p</th>\n",
       "      <th>hsc_b</th>\n",
       "      <th>hsc_s</th>\n",
       "      <th>degree_p</th>\n",
       "      <th>degree_t</th>\n",
       "      <th>workex</th>\n",
       "      <th>etest_p</th>\n",
       "      <th>specialisation</th>\n",
       "      <th>mba_p</th>\n",
       "      <th>salary</th>\n",
       "    </tr>\n",
       "  </thead>\n",
       "  <tbody>\n",
       "    <tr>\n",
       "      <th>0</th>\n",
       "      <td>M</td>\n",
       "      <td>67.00</td>\n",
       "      <td>Others</td>\n",
       "      <td>91.00</td>\n",
       "      <td>Others</td>\n",
       "      <td>Commerce</td>\n",
       "      <td>58.00</td>\n",
       "      <td>Sci&amp;Tech</td>\n",
       "      <td>No</td>\n",
       "      <td>55.0</td>\n",
       "      <td>Mkt&amp;HR</td>\n",
       "      <td>58.80</td>\n",
       "      <td>270000.0</td>\n",
       "    </tr>\n",
       "    <tr>\n",
       "      <th>1</th>\n",
       "      <td>M</td>\n",
       "      <td>79.33</td>\n",
       "      <td>Central</td>\n",
       "      <td>78.33</td>\n",
       "      <td>Others</td>\n",
       "      <td>Science</td>\n",
       "      <td>77.48</td>\n",
       "      <td>Sci&amp;Tech</td>\n",
       "      <td>Yes</td>\n",
       "      <td>86.5</td>\n",
       "      <td>Mkt&amp;Fin</td>\n",
       "      <td>66.28</td>\n",
       "      <td>200000.0</td>\n",
       "    </tr>\n",
       "    <tr>\n",
       "      <th>2</th>\n",
       "      <td>M</td>\n",
       "      <td>65.00</td>\n",
       "      <td>Central</td>\n",
       "      <td>68.00</td>\n",
       "      <td>Central</td>\n",
       "      <td>Arts</td>\n",
       "      <td>64.00</td>\n",
       "      <td>Comm&amp;Mgmt</td>\n",
       "      <td>No</td>\n",
       "      <td>75.0</td>\n",
       "      <td>Mkt&amp;Fin</td>\n",
       "      <td>57.80</td>\n",
       "      <td>250000.0</td>\n",
       "    </tr>\n",
       "    <tr>\n",
       "      <th>3</th>\n",
       "      <td>M</td>\n",
       "      <td>56.00</td>\n",
       "      <td>Central</td>\n",
       "      <td>52.00</td>\n",
       "      <td>Central</td>\n",
       "      <td>Science</td>\n",
       "      <td>52.00</td>\n",
       "      <td>Sci&amp;Tech</td>\n",
       "      <td>No</td>\n",
       "      <td>66.0</td>\n",
       "      <td>Mkt&amp;HR</td>\n",
       "      <td>59.43</td>\n",
       "      <td>288655.0</td>\n",
       "    </tr>\n",
       "    <tr>\n",
       "      <th>4</th>\n",
       "      <td>M</td>\n",
       "      <td>85.80</td>\n",
       "      <td>Central</td>\n",
       "      <td>73.60</td>\n",
       "      <td>Central</td>\n",
       "      <td>Commerce</td>\n",
       "      <td>73.30</td>\n",
       "      <td>Comm&amp;Mgmt</td>\n",
       "      <td>No</td>\n",
       "      <td>96.8</td>\n",
       "      <td>Mkt&amp;Fin</td>\n",
       "      <td>55.50</td>\n",
       "      <td>425000.0</td>\n",
       "    </tr>\n",
       "    <tr>\n",
       "      <th>...</th>\n",
       "      <td>...</td>\n",
       "      <td>...</td>\n",
       "      <td>...</td>\n",
       "      <td>...</td>\n",
       "      <td>...</td>\n",
       "      <td>...</td>\n",
       "      <td>...</td>\n",
       "      <td>...</td>\n",
       "      <td>...</td>\n",
       "      <td>...</td>\n",
       "      <td>...</td>\n",
       "      <td>...</td>\n",
       "      <td>...</td>\n",
       "    </tr>\n",
       "    <tr>\n",
       "      <th>210</th>\n",
       "      <td>M</td>\n",
       "      <td>80.60</td>\n",
       "      <td>Others</td>\n",
       "      <td>82.00</td>\n",
       "      <td>Others</td>\n",
       "      <td>Commerce</td>\n",
       "      <td>77.60</td>\n",
       "      <td>Comm&amp;Mgmt</td>\n",
       "      <td>No</td>\n",
       "      <td>91.0</td>\n",
       "      <td>Mkt&amp;Fin</td>\n",
       "      <td>74.49</td>\n",
       "      <td>400000.0</td>\n",
       "    </tr>\n",
       "    <tr>\n",
       "      <th>211</th>\n",
       "      <td>M</td>\n",
       "      <td>58.00</td>\n",
       "      <td>Others</td>\n",
       "      <td>60.00</td>\n",
       "      <td>Others</td>\n",
       "      <td>Science</td>\n",
       "      <td>72.00</td>\n",
       "      <td>Sci&amp;Tech</td>\n",
       "      <td>No</td>\n",
       "      <td>74.0</td>\n",
       "      <td>Mkt&amp;Fin</td>\n",
       "      <td>53.62</td>\n",
       "      <td>275000.0</td>\n",
       "    </tr>\n",
       "    <tr>\n",
       "      <th>212</th>\n",
       "      <td>M</td>\n",
       "      <td>67.00</td>\n",
       "      <td>Others</td>\n",
       "      <td>67.00</td>\n",
       "      <td>Others</td>\n",
       "      <td>Commerce</td>\n",
       "      <td>73.00</td>\n",
       "      <td>Comm&amp;Mgmt</td>\n",
       "      <td>Yes</td>\n",
       "      <td>59.0</td>\n",
       "      <td>Mkt&amp;Fin</td>\n",
       "      <td>69.72</td>\n",
       "      <td>295000.0</td>\n",
       "    </tr>\n",
       "    <tr>\n",
       "      <th>213</th>\n",
       "      <td>F</td>\n",
       "      <td>74.00</td>\n",
       "      <td>Others</td>\n",
       "      <td>66.00</td>\n",
       "      <td>Others</td>\n",
       "      <td>Commerce</td>\n",
       "      <td>58.00</td>\n",
       "      <td>Comm&amp;Mgmt</td>\n",
       "      <td>No</td>\n",
       "      <td>70.0</td>\n",
       "      <td>Mkt&amp;HR</td>\n",
       "      <td>60.23</td>\n",
       "      <td>204000.0</td>\n",
       "    </tr>\n",
       "    <tr>\n",
       "      <th>214</th>\n",
       "      <td>M</td>\n",
       "      <td>62.00</td>\n",
       "      <td>Central</td>\n",
       "      <td>58.00</td>\n",
       "      <td>Others</td>\n",
       "      <td>Science</td>\n",
       "      <td>53.00</td>\n",
       "      <td>Comm&amp;Mgmt</td>\n",
       "      <td>No</td>\n",
       "      <td>89.0</td>\n",
       "      <td>Mkt&amp;HR</td>\n",
       "      <td>60.22</td>\n",
       "      <td>288655.0</td>\n",
       "    </tr>\n",
       "  </tbody>\n",
       "</table>\n",
       "<p>215 rows × 13 columns</p>\n",
       "</div>"
      ],
      "text/plain": [
       "    gender  ssc_p    ssc_b  hsc_p    hsc_b     hsc_s  degree_p   degree_t  \\\n",
       "0        M  67.00   Others  91.00   Others  Commerce     58.00   Sci&Tech   \n",
       "1        M  79.33  Central  78.33   Others   Science     77.48   Sci&Tech   \n",
       "2        M  65.00  Central  68.00  Central      Arts     64.00  Comm&Mgmt   \n",
       "3        M  56.00  Central  52.00  Central   Science     52.00   Sci&Tech   \n",
       "4        M  85.80  Central  73.60  Central  Commerce     73.30  Comm&Mgmt   \n",
       "..     ...    ...      ...    ...      ...       ...       ...        ...   \n",
       "210      M  80.60   Others  82.00   Others  Commerce     77.60  Comm&Mgmt   \n",
       "211      M  58.00   Others  60.00   Others   Science     72.00   Sci&Tech   \n",
       "212      M  67.00   Others  67.00   Others  Commerce     73.00  Comm&Mgmt   \n",
       "213      F  74.00   Others  66.00   Others  Commerce     58.00  Comm&Mgmt   \n",
       "214      M  62.00  Central  58.00   Others   Science     53.00  Comm&Mgmt   \n",
       "\n",
       "    workex  etest_p specialisation  mba_p    salary  \n",
       "0       No     55.0         Mkt&HR  58.80  270000.0  \n",
       "1      Yes     86.5        Mkt&Fin  66.28  200000.0  \n",
       "2       No     75.0        Mkt&Fin  57.80  250000.0  \n",
       "3       No     66.0         Mkt&HR  59.43  288655.0  \n",
       "4       No     96.8        Mkt&Fin  55.50  425000.0  \n",
       "..     ...      ...            ...    ...       ...  \n",
       "210     No     91.0        Mkt&Fin  74.49  400000.0  \n",
       "211     No     74.0        Mkt&Fin  53.62  275000.0  \n",
       "212    Yes     59.0        Mkt&Fin  69.72  295000.0  \n",
       "213     No     70.0         Mkt&HR  60.23  204000.0  \n",
       "214     No     89.0         Mkt&HR  60.22  288655.0  \n",
       "\n",
       "[215 rows x 13 columns]"
      ]
     },
     "execution_count": 22,
     "metadata": {},
     "output_type": "execute_result"
    }
   ],
   "source": [
    "x = df.iloc[:, :13]\n",
    "y = df.iloc[:, 13]\n",
    "x"
   ]
  },
  {
   "cell_type": "code",
   "execution_count": 23,
   "metadata": {
    "execution": {
     "iopub.execute_input": "2021-04-26T11:53:22.036683Z",
     "iopub.status.busy": "2021-04-26T11:53:22.035613Z",
     "iopub.status.idle": "2021-04-26T11:53:22.043552Z",
     "shell.execute_reply": "2021-04-26T11:53:22.044131Z"
    },
    "papermill": {
     "duration": 0.069967,
     "end_time": "2021-04-26T11:53:22.044311",
     "exception": false,
     "start_time": "2021-04-26T11:53:21.974344",
     "status": "completed"
    },
    "tags": []
   },
   "outputs": [
    {
     "data": {
      "text/plain": [
       "0          Placed\n",
       "1          Placed\n",
       "2          Placed\n",
       "3      Not Placed\n",
       "4          Placed\n",
       "          ...    \n",
       "210        Placed\n",
       "211        Placed\n",
       "212        Placed\n",
       "213        Placed\n",
       "214    Not Placed\n",
       "Name: Stat, Length: 215, dtype: object"
      ]
     },
     "execution_count": 23,
     "metadata": {},
     "output_type": "execute_result"
    }
   ],
   "source": [
    "y"
   ]
  },
  {
   "cell_type": "code",
   "execution_count": 24,
   "metadata": {
    "execution": {
     "iopub.execute_input": "2021-04-26T11:53:22.165821Z",
     "iopub.status.busy": "2021-04-26T11:53:22.164833Z",
     "iopub.status.idle": "2021-04-26T11:53:22.361864Z",
     "shell.execute_reply": "2021-04-26T11:53:22.361277Z"
    },
    "papermill": {
     "duration": 0.259265,
     "end_time": "2021-04-26T11:53:22.362030",
     "exception": false,
     "start_time": "2021-04-26T11:53:22.102765",
     "status": "completed"
    },
    "tags": []
   },
   "outputs": [
    {
     "name": "stdout",
     "output_type": "stream",
     "text": [
      "(215, 17)\n"
     ]
    }
   ],
   "source": [
    "#ONE HOT ENCODING\n",
    "from sklearn.preprocessing import LabelEncoder\n",
    "from sklearn.preprocessing import OneHotEncoder\n",
    "from sklearn.compose import ColumnTransformer\n",
    "\n",
    "ct = ColumnTransformer(transformers = [('encoder', OneHotEncoder(), [5, 7])], remainder = 'passthrough')\n",
    "x = np.array(ct.fit_transform(x))\n",
    "print(x.shape)"
   ]
  },
  {
   "cell_type": "code",
   "execution_count": 25,
   "metadata": {
    "execution": {
     "iopub.execute_input": "2021-04-26T11:53:22.488849Z",
     "iopub.status.busy": "2021-04-26T11:53:22.487782Z",
     "iopub.status.idle": "2021-04-26T11:53:22.491858Z",
     "shell.execute_reply": "2021-04-26T11:53:22.491307Z"
    },
    "papermill": {
     "duration": 0.070746,
     "end_time": "2021-04-26T11:53:22.492009",
     "exception": false,
     "start_time": "2021-04-26T11:53:22.421263",
     "status": "completed"
    },
    "tags": []
   },
   "outputs": [],
   "source": [
    "#label encoding\n",
    "le = LabelEncoder()\n",
    "x[:, 6] = le.fit_transform(x[:, 6]) #gender\n",
    "x[:, 8] = le.fit_transform(x[:, 8]) #ssc_b\n",
    "x[:, 10] = le.fit_transform(x[:, 10]) #hsc_b\n",
    "x[:, 12] = le.fit_transform(x[:, 12]) #workexp\n",
    "x[:, 14] = le.fit_transform(x[:, 14]) #specialisation\n",
    "x[:, 6] = le.fit_transform(x[:, 6])"
   ]
  },
  {
   "cell_type": "code",
   "execution_count": 26,
   "metadata": {
    "execution": {
     "iopub.execute_input": "2021-04-26T11:53:22.616111Z",
     "iopub.status.busy": "2021-04-26T11:53:22.615347Z",
     "iopub.status.idle": "2021-04-26T11:53:22.618216Z",
     "shell.execute_reply": "2021-04-26T11:53:22.618741Z"
    },
    "papermill": {
     "duration": 0.068895,
     "end_time": "2021-04-26T11:53:22.618938",
     "exception": false,
     "start_time": "2021-04-26T11:53:22.550043",
     "status": "completed"
    },
    "tags": []
   },
   "outputs": [
    {
     "data": {
      "text/plain": [
       "array([1, 1, 1, 0, 1, 0, 0, 1, 1, 0, 1, 1, 0, 1, 0, 1, 1, 0, 0, 1, 1, 1,\n",
       "       1, 1, 1, 0, 1, 1, 1, 0, 1, 0, 1, 1, 0, 1, 0, 1, 1, 1, 1, 0, 0, 1,\n",
       "       1, 0, 0, 1, 1, 0, 1, 0, 0, 1, 1, 1, 1, 1, 1, 1, 1, 1, 1, 0, 1, 0,\n",
       "       1, 1, 0, 1, 1, 1, 1, 1, 1, 0, 1, 1, 1, 0, 1, 1, 0, 1, 1, 1, 1, 0,\n",
       "       1, 1, 1, 0, 1, 0, 1, 1, 1, 0, 1, 0, 0, 1, 1, 1, 1, 0, 0, 1, 1, 0,\n",
       "       1, 0, 1, 1, 1, 1, 1, 1, 1, 1, 0, 1, 1, 1, 1, 1, 1, 1, 1, 1, 0, 1,\n",
       "       1, 1, 1, 1, 0, 1, 1, 1, 1, 0, 1, 1, 0, 1, 1, 1, 1, 0, 1, 1, 1, 1,\n",
       "       1, 0, 1, 1, 0, 0, 1, 0, 1, 1, 1, 0, 1, 0, 0, 0, 0, 1, 1, 0, 1, 0,\n",
       "       1, 1, 1, 0, 1, 0, 0, 1, 0, 1, 0, 1, 0, 0, 0, 1, 1, 1, 0, 1, 1, 1,\n",
       "       0, 1, 1, 0, 1, 1, 1, 1, 0, 1, 0, 1, 1, 1, 1, 1, 0])"
      ]
     },
     "execution_count": 26,
     "metadata": {},
     "output_type": "execute_result"
    }
   ],
   "source": [
    "y = le.fit_transform(y)\n",
    "y"
   ]
  },
  {
   "cell_type": "code",
   "execution_count": 27,
   "metadata": {
    "execution": {
     "iopub.execute_input": "2021-04-26T11:53:22.744687Z",
     "iopub.status.busy": "2021-04-26T11:53:22.743789Z",
     "iopub.status.idle": "2021-04-26T11:53:22.746979Z",
     "shell.execute_reply": "2021-04-26T11:53:22.747431Z"
    },
    "papermill": {
     "duration": 0.069063,
     "end_time": "2021-04-26T11:53:22.747649",
     "exception": false,
     "start_time": "2021-04-26T11:53:22.678586",
     "status": "completed"
    },
    "tags": []
   },
   "outputs": [
    {
     "name": "stdout",
     "output_type": "stream",
     "text": [
      "(215, 17)\n",
      "(215,)\n"
     ]
    }
   ],
   "source": [
    "print(x.shape)\n",
    "print(y.shape)"
   ]
  },
  {
   "cell_type": "code",
   "execution_count": 28,
   "metadata": {
    "execution": {
     "iopub.execute_input": "2021-04-26T11:53:22.868228Z",
     "iopub.status.busy": "2021-04-26T11:53:22.867550Z",
     "iopub.status.idle": "2021-04-26T11:53:22.943114Z",
     "shell.execute_reply": "2021-04-26T11:53:22.941778Z"
    },
    "papermill": {
     "duration": 0.136689,
     "end_time": "2021-04-26T11:53:22.943280",
     "exception": false,
     "start_time": "2021-04-26T11:53:22.806591",
     "status": "completed"
    },
    "tags": []
   },
   "outputs": [],
   "source": [
    "#splitting\n",
    "from sklearn.model_selection import train_test_split\n",
    "x_train, x_test, y_train, y_test = train_test_split(x, y, test_size = 0.2, random_state = 1)"
   ]
  },
  {
   "cell_type": "code",
   "execution_count": 29,
   "metadata": {
    "execution": {
     "iopub.execute_input": "2021-04-26T11:53:23.071123Z",
     "iopub.status.busy": "2021-04-26T11:53:23.069710Z",
     "iopub.status.idle": "2021-04-26T11:53:23.075811Z",
     "shell.execute_reply": "2021-04-26T11:53:23.075098Z"
    },
    "papermill": {
     "duration": 0.07261,
     "end_time": "2021-04-26T11:53:23.075958",
     "exception": false,
     "start_time": "2021-04-26T11:53:23.003348",
     "status": "completed"
    },
    "tags": []
   },
   "outputs": [],
   "source": [
    "#scaling\n",
    "from sklearn.preprocessing import StandardScaler\n",
    "std = StandardScaler()\n",
    "x_train = std.fit_transform(x_train)\n",
    "x_test = std.fit_transform(x_test)"
   ]
  },
  {
   "cell_type": "markdown",
   "metadata": {
    "papermill": {
     "duration": 0.058853,
     "end_time": "2021-04-26T11:53:23.195417",
     "exception": false,
     "start_time": "2021-04-26T11:53:23.136564",
     "status": "completed"
    },
    "tags": []
   },
   "source": [
    "# MODEL SELECTION"
   ]
  },
  {
   "cell_type": "code",
   "execution_count": 30,
   "metadata": {
    "execution": {
     "iopub.execute_input": "2021-04-26T11:53:23.317665Z",
     "iopub.status.busy": "2021-04-26T11:53:23.316963Z",
     "iopub.status.idle": "2021-04-26T11:53:23.321411Z",
     "shell.execute_reply": "2021-04-26T11:53:23.322054Z"
    },
    "papermill": {
     "duration": 0.067528,
     "end_time": "2021-04-26T11:53:23.322254",
     "exception": false,
     "start_time": "2021-04-26T11:53:23.254726",
     "status": "completed"
    },
    "tags": []
   },
   "outputs": [],
   "source": [
    "#importing metrics\n",
    "from sklearn.metrics import accuracy_score, confusion_matrix, roc_auc_score, ConfusionMatrixDisplay, precision_score, recall_score, f1_score, classification_report, roc_curve, plot_roc_curve, auc, precision_recall_curve, plot_precision_recall_curve, average_precision_score\n",
    "from sklearn.model_selection import cross_val_score"
   ]
  },
  {
   "cell_type": "code",
   "execution_count": 31,
   "metadata": {
    "execution": {
     "iopub.execute_input": "2021-04-26T11:53:23.445664Z",
     "iopub.status.busy": "2021-04-26T11:53:23.444895Z",
     "iopub.status.idle": "2021-04-26T11:53:24.061167Z",
     "shell.execute_reply": "2021-04-26T11:53:24.061799Z"
    },
    "papermill": {
     "duration": 0.679516,
     "end_time": "2021-04-26T11:53:24.062007",
     "exception": false,
     "start_time": "2021-04-26T11:53:23.382491",
     "status": "completed"
    },
    "tags": []
   },
   "outputs": [
    {
     "name": "stdout",
     "output_type": "stream",
     "text": [
      "logistic regression \n",
      "\n",
      "accuracy score : 0.8837209302325582\n",
      "precision score:  0.9285714285714286\n",
      "f1 score:  0.912280701754386\n",
      "auc score:  0.8768472906403942\n",
      "recall score :  0.896551724137931\n",
      "confusion matrix [[12  2]\n",
      " [ 3 26]]\n",
      "\n",
      " ******************************\n",
      "SVC \n",
      "\n",
      "accuracy score : 0.9069767441860465\n",
      "precision score:  1.0\n",
      "f1 score:  0.9333333333333333\n",
      "auc score:  0.9375\n",
      "recall score :  0.875\n",
      "confusion matrix [[11  0]\n",
      " [ 4 28]]\n",
      "\n",
      " ******************************\n",
      "Random Forest \n",
      "\n",
      "accuracy score : 0.8372093023255814\n",
      "precision score:  1.0\n",
      "f1 score:  0.888888888888889\n",
      "auc score:  0.9\n",
      "recall score :  0.8\n",
      "confusion matrix [[ 8  0]\n",
      " [ 7 28]]\n",
      "\n",
      " ******************************\n",
      "Knn \n",
      "\n",
      "accuracy score : 0.7441860465116279\n",
      "precision score:  0.9285714285714286\n",
      "f1 score:  0.8253968253968255\n",
      "auc score:  0.7464285714285714\n",
      "recall score :  0.7428571428571429\n",
      "confusion matrix [[ 6  2]\n",
      " [ 9 26]]\n",
      "\n",
      " ******************************\n",
      "decision Tree \n",
      "\n",
      "accuracy score : 0.7906976744186046\n",
      "precision score:  1.0\n",
      "f1 score:  0.8615384615384616\n",
      "auc score:  0.8783783783783784\n",
      "recall score :  0.7567567567567568\n",
      "confusion matrix [[ 6  0]\n",
      " [ 9 28]]\n",
      "\n",
      " ******************************\n",
      "naive bayes \n",
      "\n",
      "accuracy score : 0.5581395348837209\n",
      "precision score:  0.8214285714285714\n",
      "f1 score:  0.7076923076923075\n",
      "auc score:  0.3941441441441441\n",
      "recall score :  0.6216216216216216\n",
      "confusion matrix [[ 1  5]\n",
      " [14 23]]\n",
      "\n",
      " ******************************\n"
     ]
    }
   ],
   "source": [
    "#logistic regression\n",
    "from sklearn.linear_model import LogisticRegression\n",
    "m1 = LogisticRegression()\n",
    "m1.fit(x_train, y_train)\n",
    "\n",
    "m1_pred = m1.predict(x_test)\n",
    "m1_pred\n",
    "print(\"logistic regression\", \"\\n\")\n",
    "print(\"accuracy score :\", accuracy_score(m1_pred, y_test))\n",
    "print(\"precision score: \", precision_score(m1_pred, y_test))\n",
    "print(\"f1 score: \", f1_score(m1_pred, y_test))\n",
    "print(\"auc score: \", roc_auc_score(m1_pred, y_test))\n",
    "print(\"recall score : \", recall_score(m1_pred, y_test))\n",
    "print(\"confusion matrix\", confusion_matrix(m1_pred, y_test))\n",
    "print(\"\\n\", \"*\" * 30)\n",
    "\n",
    "#svm\n",
    "from sklearn.svm import SVC\n",
    "m2 = SVC()\n",
    "m2.fit(x_train, y_train)\n",
    "\n",
    "m2_pred = m2.predict(x_test)\n",
    "m2_pred\n",
    "print(\"SVC\", \"\\n\")\n",
    "print(\"accuracy score :\", accuracy_score(m2_pred, y_test))\n",
    "print(\"precision score: \", precision_score(m2_pred, y_test))\n",
    "print(\"f1 score: \", f1_score(m2_pred, y_test))\n",
    "print(\"auc score: \", roc_auc_score(m2_pred, y_test))\n",
    "print(\"recall score : \", recall_score(m2_pred, y_test))\n",
    "print(\"confusion matrix\", confusion_matrix(m2_pred, y_test))\n",
    "print(\"\\n\", \"*\" * 30)\n",
    "\n",
    "\n",
    "#random forest\n",
    "from sklearn.ensemble import RandomForestClassifier\n",
    "m3 = RandomForestClassifier()\n",
    "m3.fit(x_train, y_train)\n",
    "\n",
    "m3_pred = m3.predict(x_test)\n",
    "m3_pred\n",
    "print(\"Random Forest\", \"\\n\")\n",
    "print(\"accuracy score :\", accuracy_score(m3_pred, y_test))\n",
    "print(\"precision score: \", precision_score(m3_pred, y_test))\n",
    "print(\"f1 score: \", f1_score(m3_pred, y_test))\n",
    "print(\"auc score: \", roc_auc_score(m3_pred, y_test))\n",
    "print(\"recall score : \", recall_score(m3_pred, y_test))\n",
    "print(\"confusion matrix\", confusion_matrix(m3_pred, y_test))\n",
    "print(\"\\n\", \"*\" * 30)\n",
    "\n",
    "\n",
    "#knn\n",
    "from sklearn.neighbors import KNeighborsClassifier\n",
    "m4 = KNeighborsClassifier()\n",
    "m4.fit(x_train, y_train)\n",
    "\n",
    "m4_pred = m4.predict(x_test)\n",
    "m4_pred\n",
    "print(\"Knn\", \"\\n\")\n",
    "print(\"accuracy score :\", accuracy_score(m4_pred, y_test))\n",
    "print(\"precision score: \", precision_score(m4_pred, y_test))\n",
    "print(\"f1 score: \", f1_score(m4_pred, y_test))\n",
    "print(\"auc score: \", roc_auc_score(m4_pred, y_test))\n",
    "print(\"recall score : \", recall_score(m4_pred, y_test))\n",
    "print(\"confusion matrix\", confusion_matrix(m4_pred, y_test))\n",
    "print(\"\\n\", \"*\" * 30)\n",
    "\n",
    "\n",
    "#decision tree\n",
    "from sklearn.tree import DecisionTreeClassifier\n",
    "m5 = DecisionTreeClassifier()\n",
    "m5.fit(x_train, y_train)\n",
    "\n",
    "m5_pred = m5.predict(x_test)\n",
    "m5_pred\n",
    "print(\"decision Tree\", \"\\n\")\n",
    "print(\"accuracy score :\", accuracy_score(m5_pred, y_test))\n",
    "print(\"precision score: \", precision_score(m5_pred, y_test))\n",
    "print(\"f1 score: \", f1_score(m5_pred, y_test))\n",
    "print(\"auc score: \", roc_auc_score(m5_pred, y_test))\n",
    "print(\"recall score : \", recall_score(m5_pred, y_test))\n",
    "print(\"confusion matrix\", confusion_matrix(m5_pred, y_test))\n",
    "print(\"\\n\", \"*\" * 30)\n",
    "\n",
    "#naive bayes\n",
    "from sklearn.naive_bayes import BernoulliNB\n",
    "m6 = BernoulliNB()\n",
    "m6.fit(x_train, y_train)\n",
    "\n",
    "m6_pred = m6.predict(x_test)\n",
    "m6_pred\n",
    "print(\"naive bayes\", \"\\n\")\n",
    "print(\"accuracy score :\", accuracy_score(m6_pred, y_test))\n",
    "print(\"precision score: \", precision_score(m6_pred, y_test))\n",
    "print(\"f1 score: \", f1_score(m6_pred, y_test))\n",
    "print(\"auc score: \", roc_auc_score(m6_pred, y_test))\n",
    "print(\"recall score : \", recall_score(m6_pred, y_test))\n",
    "print(\"confusion matrix\", confusion_matrix(m6_pred, y_test))\n",
    "print(\"\\n\", \"*\" * 30)"
   ]
  },
  {
   "cell_type": "markdown",
   "metadata": {
    "papermill": {
     "duration": 0.07836,
     "end_time": "2021-04-26T11:53:24.204163",
     "exception": false,
     "start_time": "2021-04-26T11:53:24.125803",
     "status": "completed"
    },
    "tags": []
   },
   "source": [
    "# TUNING PARAMETER"
   ]
  },
  {
   "cell_type": "code",
   "execution_count": 32,
   "metadata": {
    "execution": {
     "iopub.execute_input": "2021-04-26T11:53:24.333564Z",
     "iopub.status.busy": "2021-04-26T11:53:24.332548Z",
     "iopub.status.idle": "2021-04-26T11:53:24.640304Z",
     "shell.execute_reply": "2021-04-26T11:53:24.639167Z"
    },
    "papermill": {
     "duration": 0.375584,
     "end_time": "2021-04-26T11:53:24.640470",
     "exception": false,
     "start_time": "2021-04-26T11:53:24.264886",
     "status": "completed"
    },
    "tags": []
   },
   "outputs": [
    {
     "name": "stdout",
     "output_type": "stream",
     "text": [
      "best parameters:  {'C': 5, 'random_state': 0}\n",
      "best accuracy: 84.83660130718954\n"
     ]
    }
   ],
   "source": [
    "#parameter tuning\n",
    "#logistic regression\n",
    "from sklearn.model_selection import GridSearchCV \n",
    "\n",
    "params = {'C':[5, 10, 15, 20],'random_state':[0]}\n",
    "grid1 = GridSearchCV(estimator = m1, param_grid = params, scoring = 'accuracy', cv = 10)\n",
    "grid1.fit(x_train, y_train)\n",
    "best_acc = grid1.best_score_\n",
    "best_param = grid1.best_params_\n",
    "print(\"best parameters: \", best_param)\n",
    "\n",
    "print('best accuracy:', best_acc*100)\n"
   ]
  },
  {
   "cell_type": "code",
   "execution_count": 33,
   "metadata": {
    "execution": {
     "iopub.execute_input": "2021-04-26T11:53:24.770965Z",
     "iopub.status.busy": "2021-04-26T11:53:24.770092Z",
     "iopub.status.idle": "2021-04-26T11:53:24.926156Z",
     "shell.execute_reply": "2021-04-26T11:53:24.925487Z"
    },
    "papermill": {
     "duration": 0.224467,
     "end_time": "2021-04-26T11:53:24.926296",
     "exception": false,
     "start_time": "2021-04-26T11:53:24.701829",
     "status": "completed"
    },
    "tags": []
   },
   "outputs": [
    {
     "name": "stdout",
     "output_type": "stream",
     "text": [
      "best accuracy : 87.74509803921569\n",
      "best parameters : {'C': 10, 'kernel': 'rbf', 'random_state': 0}\n"
     ]
    }
   ],
   "source": [
    "#svc\n",
    "params ={'C':[10, ],'kernel':['linear', 'rbf'],'random_state':[0]}\n",
    "grid2 = GridSearchCV(estimator = m2, param_grid = params , scoring = \"accuracy\", cv = 10)\n",
    "grid2.fit(x_train, y_train)\n",
    "best_acc = grid2.best_score_\n",
    "param = grid2.best_params_\n",
    "print(\"best accuracy :\", best_acc*100)\n",
    "print(\"best parameters :\", param )"
   ]
  },
  {
   "cell_type": "code",
   "execution_count": 34,
   "metadata": {
    "execution": {
     "iopub.execute_input": "2021-04-26T11:53:25.059446Z",
     "iopub.status.busy": "2021-04-26T11:53:25.058748Z",
     "iopub.status.idle": "2021-04-26T11:53:49.249790Z",
     "shell.execute_reply": "2021-04-26T11:53:49.250314Z"
    },
    "papermill": {
     "duration": 24.262571,
     "end_time": "2021-04-26T11:53:49.250513",
     "exception": false,
     "start_time": "2021-04-26T11:53:24.987942",
     "status": "completed"
    },
    "tags": []
   },
   "outputs": [
    {
     "name": "stdout",
     "output_type": "stream",
     "text": [
      "best accuracy : 96.4705882352941\n",
      "best parameters :  {'criterion': 'entropy', 'n_estimators': 300, 'random_state': 42}\n"
     ]
    }
   ],
   "source": [
    "#random forest\n",
    "params = {\"n_estimators\": [100, 200, 300], \"criterion\": [\"gini\", \"entropy\"],\"random_state\":[42] }\n",
    "grid3= GridSearchCV(estimator = m3, param_grid = params , scoring = \"accuracy\", cv = 10)\n",
    "grid3.fit(x_train, y_train)\n",
    "best_Acc = grid3.best_score_\n",
    "best_param = grid3.best_params_\n",
    "print(\"best accuracy :\", best_Acc*100)\n",
    "print(\"best parameters : \", best_param)"
   ]
  },
  {
   "cell_type": "code",
   "execution_count": 35,
   "metadata": {
    "execution": {
     "iopub.execute_input": "2021-04-26T11:53:49.384219Z",
     "iopub.status.busy": "2021-04-26T11:53:49.382759Z",
     "iopub.status.idle": "2021-04-26T11:53:49.789151Z",
     "shell.execute_reply": "2021-04-26T11:53:49.788539Z"
    },
    "papermill": {
     "duration": 0.47633,
     "end_time": "2021-04-26T11:53:49.789300",
     "exception": false,
     "start_time": "2021-04-26T11:53:49.312970",
     "status": "completed"
    },
    "tags": []
   },
   "outputs": [
    {
     "name": "stdout",
     "output_type": "stream",
     "text": [
      "best parameters:  {'algorithm': 'auto', 'n_neighbors': 25, 'weights': 'distance'}\n",
      "best accuracy : 80.22875816993465\n"
     ]
    }
   ],
   "source": [
    "#knn \n",
    "params = {\n",
    "    'n_neighbors' : [5, 25],\n",
    "    'weights': ['uniform', 'distance'],\n",
    "    'algorithm': ['auto', 'ball_tree', 'kd_tree', 'brute']}\n",
    "grid4 = GridSearchCV(estimator = m4 , param_grid = params , scoring = \"accuracy\", cv = 10)\n",
    "grid4.fit(x_train, y_train)\n",
    "best_Acc = grid4.best_score_\n",
    "best_param = grid4.best_params_\n",
    "print(\"best parameters: \", best_param)\n",
    "print(\"best accuracy :\", best_Acc*100)   "
   ]
  },
  {
   "cell_type": "code",
   "execution_count": 36,
   "metadata": {
    "execution": {
     "iopub.execute_input": "2021-04-26T11:53:49.921009Z",
     "iopub.status.busy": "2021-04-26T11:53:49.919999Z",
     "iopub.status.idle": "2021-04-26T11:53:49.971191Z",
     "shell.execute_reply": "2021-04-26T11:53:49.970467Z"
    },
    "papermill": {
     "duration": 0.120303,
     "end_time": "2021-04-26T11:53:49.971332",
     "exception": false,
     "start_time": "2021-04-26T11:53:49.851029",
     "status": "completed"
    },
    "tags": []
   },
   "outputs": [
    {
     "name": "stdout",
     "output_type": "stream",
     "text": [
      "best acuracy:  98.26797385620915\n",
      "best parameters :  {'criterion': 'entropy', 'random_state': 0}\n"
     ]
    }
   ],
   "source": [
    "#decison\n",
    "params = {\"criterion\": [\"gini\", \"entropy\"], \"random_state\": [0] } \n",
    "grid5 = GridSearchCV(estimator = m5, param_grid = params, scoring = \"accuracy\", cv = 10)\n",
    "grid5.fit(x_train, y_train)\n",
    "best_acc = grid5.best_score_\n",
    "best_param = grid5.best_params_\n",
    "print(\"best acuracy: \", best_acc*100)\n",
    "print(\"best parameters : \", best_param )\n"
   ]
  },
  {
   "cell_type": "code",
   "execution_count": 37,
   "metadata": {
    "execution": {
     "iopub.execute_input": "2021-04-26T11:53:50.106272Z",
     "iopub.status.busy": "2021-04-26T11:53:50.102731Z",
     "iopub.status.idle": "2021-04-26T11:53:50.165762Z",
     "shell.execute_reply": "2021-04-26T11:53:50.165200Z"
    },
    "papermill": {
     "duration": 0.132387,
     "end_time": "2021-04-26T11:53:50.165913",
     "exception": false,
     "start_time": "2021-04-26T11:53:50.033526",
     "status": "completed"
    },
    "tags": []
   },
   "outputs": [
    {
     "name": "stdout",
     "output_type": "stream",
     "text": [
      "best accuracy : 75.65359477124183\n",
      "best parameters : {'alpha': 0.25}\n"
     ]
    }
   ],
   "source": [
    "#bernoulli naive bayes\n",
    "params = {'alpha': [0.25, 0.5, 1]}\n",
    "grid6 = GridSearchCV(estimator = m6, param_grid = params , scoring = \"accuracy\", cv = 10)\n",
    "grid6.fit(x_train, y_train)\n",
    "best_acc = grid6.best_score_\n",
    "param = grid6.best_params_\n",
    "print(\"best accuracy :\", best_acc*100)\n",
    "print(\"best parameters :\", param )"
   ]
  },
  {
   "cell_type": "code",
   "execution_count": 38,
   "metadata": {
    "execution": {
     "iopub.execute_input": "2021-04-26T11:53:50.304794Z",
     "iopub.status.busy": "2021-04-26T11:53:50.299225Z",
     "iopub.status.idle": "2021-04-26T11:53:50.931441Z",
     "shell.execute_reply": "2021-04-26T11:53:50.930014Z"
    },
    "papermill": {
     "duration": 0.702905,
     "end_time": "2021-04-26T11:53:50.931677",
     "exception": false,
     "start_time": "2021-04-26T11:53:50.228772",
     "status": "completed"
    },
    "tags": []
   },
   "outputs": [
    {
     "name": "stdout",
     "output_type": "stream",
     "text": [
      "accuracy score :  0.8604651162790697\n",
      "precision score: 1.0\n",
      "recall score:  0.8235294117647058\n",
      "f1_score : 0.9032258064516129\n",
      "auc score :  0.9117647058823529\n",
      "confusion matrix [[ 9  0]\n",
      " [ 6 28]]\n"
     ]
    }
   ],
   "source": [
    "#selecting random forest and decision tree as it shows the highest accuracies\n",
    "#fiiting random forest model\n",
    "model1 =  RandomForestClassifier(criterion = 'entropy', n_estimators = 300, random_state = 42)\n",
    "model1.fit(x_train, y_train)\n",
    "\n",
    "model_pred1 = model1.predict(x_test)\n",
    "model_pred1\n",
    "print(\"accuracy score : \", accuracy_score(model_pred1, y_test))\n",
    "print(\"precision score:\", precision_score(model_pred1, y_test))\n",
    "print(\"recall score: \", recall_score(model_pred1, y_test))\n",
    "print(\"f1_score :\", f1_score(model_pred1, y_test))\n",
    "print(\"auc score : \", roc_auc_score(model_pred1, y_test))\n",
    "print(\"confusion matrix\", confusion_matrix(model_pred1, y_test))"
   ]
  },
  {
   "cell_type": "code",
   "execution_count": 39,
   "metadata": {
    "execution": {
     "iopub.execute_input": "2021-04-26T11:53:51.069000Z",
     "iopub.status.busy": "2021-04-26T11:53:51.068277Z",
     "iopub.status.idle": "2021-04-26T11:53:51.083487Z",
     "shell.execute_reply": "2021-04-26T11:53:51.082750Z"
    },
    "papermill": {
     "duration": 0.088179,
     "end_time": "2021-04-26T11:53:51.083754",
     "exception": false,
     "start_time": "2021-04-26T11:53:50.995575",
     "status": "completed"
    },
    "tags": []
   },
   "outputs": [
    {
     "name": "stdout",
     "output_type": "stream",
     "text": [
      "accuracy score :  0.7906976744186046\n",
      "precision score: 1.0\n",
      "recall score:  0.7567567567567568\n",
      "f1_score : 0.8615384615384616\n",
      "auc score :  0.8783783783783784\n",
      "confusion matrix [[ 6  0]\n",
      " [ 9 28]]\n"
     ]
    }
   ],
   "source": [
    "#fitting decision tree\n",
    "model2 =  DecisionTreeClassifier(criterion = 'gini', random_state = 0)\n",
    "model2.fit(x_train, y_train)\n",
    "\n",
    "model_pred2 = model2.predict(x_test)\n",
    "model_pred2\n",
    "print(\"accuracy score : \", accuracy_score(model_pred2, y_test))\n",
    "print(\"precision score:\", precision_score(model_pred2, y_test))\n",
    "print(\"recall score: \", recall_score(model_pred2, y_test))\n",
    "print(\"f1_score :\", f1_score(model_pred2, y_test))\n",
    "print(\"auc score : \",  roc_auc_score(model_pred2, y_test))\n",
    "print(\"confusion matrix\", confusion_matrix(model_pred2, y_test))"
   ]
  },
  {
   "cell_type": "code",
   "execution_count": 40,
   "metadata": {
    "execution": {
     "iopub.execute_input": "2021-04-26T11:53:51.217095Z",
     "iopub.status.busy": "2021-04-26T11:53:51.216357Z",
     "iopub.status.idle": "2021-04-26T11:53:51.323644Z",
     "shell.execute_reply": "2021-04-26T11:53:51.324132Z"
    },
    "papermill": {
     "duration": 0.175225,
     "end_time": "2021-04-26T11:53:51.324306",
     "exception": false,
     "start_time": "2021-04-26T11:53:51.149081",
     "status": "completed"
    },
    "tags": []
   },
   "outputs": [
    {
     "name": "stderr",
     "output_type": "stream",
     "text": [
      "/opt/conda/lib/python3.7/site-packages/seaborn/matrix.py:255: MatplotlibDeprecationWarning: Case-insensitive properties were deprecated in 3.3 and support will be removed two minor releases later\n",
      "  ax.text(x, y, annotation, **text_kwargs)\n"
     ]
    },
    {
     "data": {
      "image/png": "[encoded data removed]",
      "text/plain": [
       "<Figure size 576x360 with 1 Axes>"
      ]
     },
     "metadata": {
      "needs_background": "light"
     },
     "output_type": "display_data"
    }
   ],
   "source": [
    "\n",
    "#Visualizing Confusion Matrix\n",
    "cm = confusion_matrix(model_pred1, y_test)\n",
    "plt.figure(figsize = (8, 5))\n",
    "sns.heatmap(cm, cmap = 'Blues',annot = True, annot_kws= {'Fontsize': 15},cbar = False,  yticklabels = [\"NOT PLACED \", \"PLACED\"], xticklabels = ['predicted NOT PLACED', 'predicted PLACED'])\n",
    "plt.yticks(rotation= 0)\n",
    "plt.show()"
   ]
  },
  {
   "cell_type": "code",
   "execution_count": 41,
   "metadata": {
    "execution": {
     "iopub.execute_input": "2021-04-26T11:53:51.463297Z",
     "iopub.status.busy": "2021-04-26T11:53:51.462357Z",
     "iopub.status.idle": "2021-04-26T11:53:51.685620Z",
     "shell.execute_reply": "2021-04-26T11:53:51.685065Z"
    },
    "papermill": {
     "duration": 0.296917,
     "end_time": "2021-04-26T11:53:51.685773",
     "exception": false,
     "start_time": "2021-04-26T11:53:51.388856",
     "status": "completed"
    },
    "tags": []
   },
   "outputs": [
    {
     "data": {
      "image/png": "[encoded data removed]",
      "text/plain": [
       "<Figure size 576x576 with 1 Axes>"
      ]
     },
     "metadata": {},
     "output_type": "display_data"
    }
   ],
   "source": [
    "#SHOWING ROU_AUC_CURVE\n",
    "# Roc AUC Curve\n",
    "false_positive_rate, true_positive_rate, thresholds = roc_curve(y_test, model_pred1)\n",
    "roc_auc = auc(false_positive_rate, true_positive_rate)\n",
    "\n",
    "sns.set_theme(style = 'white')\n",
    "plt.figure(figsize = (8, 8))\n",
    "plt.plot(false_positive_rate,true_positive_rate, color = '#b01717', label = 'AUC = %0.3f' % roc_auc)\n",
    "plt.legend(loc = 'lower right')\n",
    "plt.plot([0, 1], [0, 1], linestyle = '--', color = '#174ab0')\n",
    "plt.axis('tight')\n",
    "plt.ylabel('True Positive Rate')\n",
    "plt.xlabel('False Positive Rate')\n",
    "plt.legend()\n",
    "plt.show()"
   ]
  },
  {
   "cell_type": "markdown",
   "metadata": {
    "papermill": {
     "duration": 0.068526,
     "end_time": "2021-04-26T11:53:51.820950",
     "exception": false,
     "start_time": "2021-04-26T11:53:51.752424",
     "status": "completed"
    },
    "tags": []
   },
   "source": [
    "after tuning the hyperparameters we can see that, random forest shows the 86% accuracy. \n",
    "**Random Forest** model fits the best for this dataset"
   ]
  },
  {
   "cell_type": "code",
   "execution_count": null,
   "metadata": {
    "papermill": {
     "duration": 0.067813,
     "end_time": "2021-04-26T11:53:51.955068",
     "exception": false,
     "start_time": "2021-04-26T11:53:51.887255",
     "status": "completed"
    },
    "tags": []
   },
   "outputs": [],
   "source": []
  }
 ],
 "metadata": {
  "kernelspec": {
   "display_name": "Python 3",
   "language": "python",
   "name": "python3"
  },
  "language_info": {
   "codemirror_mode": {
    "name": "ipython",
    "version": 3
   },
   "file_extension": ".py",
   "mimetype": "text/x-python",
   "name": "python",
   "nbconvert_exporter": "python",
   "pygments_lexer": "ipython3",
   "version": "3.7.6"
  },
  "papermill": {
   "default_parameters": {},
   "duration": 49.067177,
   "end_time": "2021-04-26T11:53:53.598452",
   "environment_variables": {},
   "exception": null,
   "input_path": "__notebook__.ipynb",
   "output_path": "__notebook__.ipynb",
   "parameters": {},
   "start_time": "2021-04-26T11:53:04.531275",
   "version": "2.3.3"
  }
 },
 "nbformat": 4,
 "nbformat_minor": 5
}
