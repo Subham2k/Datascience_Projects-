{
 "cells": [
  {
   "cell_type": "markdown",
   "metadata": {},
   "source": [
    "# Mixed Martial Arts and the UFC\n",
    "\n",
    "\n",
    "The UFC is the largest MMA promotion company in the world and features some of the highest-level fighters in the sport. As of 2020 the UFC has held over 500 events features fighters in 12 different weight divisions. The data set is a collection of over 5000 fights from the years 1993 to 2019.\n",
    "\n",
    "Being a huge fan of MMA, I wanted to design some Machine Learning Models to experiment with the avaiable data. The goal is to make a model to predict fight outcomes, and see if it has any usefulness in real world application.\n",
    "\n",
    "In this particular notebook I reduce the data down to (what I felt was) core stats, so despite this dataset having over 145 features, I reduce it down to height, weight, reach, win streak, lose streak, total wins, total losses, and total draws. In the future I will apply more features to see if the model accuracy improves at all.\n",
    "\n",
    "In this notebook I use the following algorithms for model building:\n",
    "* Gaussian Naive Bayes\n",
    "* Logistic Regression\n",
    "* Decision Tree\n",
    "* KNN\n",
    "* Random Forest\n",
    "* Support Vector Classifier\n",
    "* XGBoost\n",
    "* Artificial Neural Network\n",
    "\n",
    "The models with the highest accuracy score (Using k-fold cross-validation) on the training data are then accessed on the testing data.\n",
    "\n",
    "Finally the models that performed well are then applied to the upcoming event (March 6th 2021), to make predictions on fight winners."
   ]
  },
  {
   "cell_type": "code",
   "execution_count": 3,
   "metadata": {
    "_cell_guid": "b1076dfc-b9ad-4769-8c92-a6c4dae69d19",
    "_uuid": "8f2839f25d086af736a60e9eeb907d3b93b6e0e5"
   },
   "outputs": [],
   "source": [
    "import numpy as np\n",
    "import pandas as pd\n",
    "import matplotlib.pyplot as plt\n",
    "import seaborn as sns\n",
    "\n",
    "from sklearn.model_selection import train_test_split\n",
    "\n",
    "\n",
    "\n",
    "from sklearn.model_selection import KFold\n",
    "from sklearn import tree\n",
    "from sklearn.metrics import accuracy_score\n",
    "from sklearn.metrics import confusion_matrix\n",
    "\n",
    "from sklearn.model_selection import StratifiedKFold\n",
    "from sklearn.model_selection import cross_val_score\n",
    "from sklearn.naive_bayes import GaussianNB\n",
    "from sklearn.linear_model import LogisticRegression\n",
    "from sklearn.neighbors import KNeighborsClassifier\n",
    "from sklearn.ensemble import RandomForestClassifier\n",
    "from sklearn.svm import SVC\n",
    "\n",
    "\n",
    "from sklearn.metrics import confusion_matrix\n",
    "from sklearn.metrics import plot_confusion_matrix\n",
    "from sklearn.metrics import accuracy_score\n",
    "\n",
    "import os\n",
    "for dirname, _, filenames in os.walk('/kaggle/input'):\n",
    "    for filename in filenames:\n",
    "        print(os.path.join(dirname, filename))"
   ]
  },
  {
   "cell_type": "markdown",
   "metadata": {},
   "source": [
    "### Import and clean data for use in models"
   ]
  },
  {
   "cell_type": "code",
   "execution_count": 4,
   "metadata": {},
   "outputs": [],
   "source": [
    "import numpy as np\n",
    "import pandas as pd\n",
    "import matplotlib.pyplot as plt\n",
    "import seaborn as sns"
   ]
  },
  {
   "cell_type": "code",
   "execution_count": 5,
   "metadata": {},
   "outputs": [
    {
     "data": {
      "text/html": [
       "<div>\n",
       "<style scoped>\n",
       "    .dataframe tbody tr th:only-of-type {\n",
       "        vertical-align: middle;\n",
       "    }\n",
       "\n",
       "    .dataframe tbody tr th {\n",
       "        vertical-align: top;\n",
       "    }\n",
       "\n",
       "    .dataframe thead th {\n",
       "        text-align: right;\n",
       "    }\n",
       "</style>\n",
       "<table border=\"1\" class=\"dataframe\">\n",
       "  <thead>\n",
       "    <tr style=\"text-align: right;\">\n",
       "      <th></th>\n",
       "      <th>R_fighter</th>\n",
       "      <th>B_fighter</th>\n",
       "      <th>Referee</th>\n",
       "      <th>date</th>\n",
       "      <th>location</th>\n",
       "      <th>Winner</th>\n",
       "      <th>title_bout</th>\n",
       "      <th>weight_class</th>\n",
       "      <th>B_avg_KD</th>\n",
       "      <th>B_avg_opp_KD</th>\n",
       "      <th>...</th>\n",
       "      <th>R_win_by_Decision_Unanimous</th>\n",
       "      <th>R_win_by_KO/TKO</th>\n",
       "      <th>R_win_by_Submission</th>\n",
       "      <th>R_win_by_TKO_Doctor_Stoppage</th>\n",
       "      <th>R_Stance</th>\n",
       "      <th>R_Height_cms</th>\n",
       "      <th>R_Reach_cms</th>\n",
       "      <th>R_Weight_lbs</th>\n",
       "      <th>B_age</th>\n",
       "      <th>R_age</th>\n",
       "    </tr>\n",
       "  </thead>\n",
       "  <tbody>\n",
       "    <tr>\n",
       "      <th>0</th>\n",
       "      <td>Adrian Yanez</td>\n",
       "      <td>Gustavo Lopez</td>\n",
       "      <td>Chris Tognoni</td>\n",
       "      <td>20-03-2021</td>\n",
       "      <td>Las Vegas, Nevada, USA</td>\n",
       "      <td>Red</td>\n",
       "      <td>False</td>\n",
       "      <td>Bantamweight</td>\n",
       "      <td>0.000</td>\n",
       "      <td>0.0</td>\n",
       "      <td>...</td>\n",
       "      <td>0</td>\n",
       "      <td>1</td>\n",
       "      <td>0</td>\n",
       "      <td>0</td>\n",
       "      <td>Orthodox</td>\n",
       "      <td>170.18</td>\n",
       "      <td>177.80</td>\n",
       "      <td>135.0</td>\n",
       "      <td>31.0</td>\n",
       "      <td>27.0</td>\n",
       "    </tr>\n",
       "    <tr>\n",
       "      <th>1</th>\n",
       "      <td>Trevin Giles</td>\n",
       "      <td>Roman Dolidze</td>\n",
       "      <td>Herb Dean</td>\n",
       "      <td>20-03-2021</td>\n",
       "      <td>Las Vegas, Nevada, USA</td>\n",
       "      <td>Red</td>\n",
       "      <td>False</td>\n",
       "      <td>Middleweight</td>\n",
       "      <td>0.500</td>\n",
       "      <td>0.0</td>\n",
       "      <td>...</td>\n",
       "      <td>0</td>\n",
       "      <td>3</td>\n",
       "      <td>0</td>\n",
       "      <td>0</td>\n",
       "      <td>Orthodox</td>\n",
       "      <td>182.88</td>\n",
       "      <td>187.96</td>\n",
       "      <td>185.0</td>\n",
       "      <td>32.0</td>\n",
       "      <td>28.0</td>\n",
       "    </tr>\n",
       "    <tr>\n",
       "      <th>2</th>\n",
       "      <td>Tai Tuivasa</td>\n",
       "      <td>Harry Hunsucker</td>\n",
       "      <td>Herb Dean</td>\n",
       "      <td>20-03-2021</td>\n",
       "      <td>Las Vegas, Nevada, USA</td>\n",
       "      <td>Red</td>\n",
       "      <td>False</td>\n",
       "      <td>Heavyweight</td>\n",
       "      <td>NaN</td>\n",
       "      <td>NaN</td>\n",
       "      <td>...</td>\n",
       "      <td>1</td>\n",
       "      <td>3</td>\n",
       "      <td>0</td>\n",
       "      <td>0</td>\n",
       "      <td>Southpaw</td>\n",
       "      <td>187.96</td>\n",
       "      <td>190.50</td>\n",
       "      <td>264.0</td>\n",
       "      <td>32.0</td>\n",
       "      <td>28.0</td>\n",
       "    </tr>\n",
       "    <tr>\n",
       "      <th>3</th>\n",
       "      <td>Cheyanne Buys</td>\n",
       "      <td>Montserrat Conejo</td>\n",
       "      <td>Mark Smith</td>\n",
       "      <td>20-03-2021</td>\n",
       "      <td>Las Vegas, Nevada, USA</td>\n",
       "      <td>Blue</td>\n",
       "      <td>False</td>\n",
       "      <td>WomenStrawweight</td>\n",
       "      <td>NaN</td>\n",
       "      <td>NaN</td>\n",
       "      <td>...</td>\n",
       "      <td>0</td>\n",
       "      <td>0</td>\n",
       "      <td>0</td>\n",
       "      <td>0</td>\n",
       "      <td>Switch</td>\n",
       "      <td>160.02</td>\n",
       "      <td>160.02</td>\n",
       "      <td>115.0</td>\n",
       "      <td>28.0</td>\n",
       "      <td>25.0</td>\n",
       "    </tr>\n",
       "    <tr>\n",
       "      <th>4</th>\n",
       "      <td>Marion Reneau</td>\n",
       "      <td>Macy Chiasson</td>\n",
       "      <td>Mark Smith</td>\n",
       "      <td>20-03-2021</td>\n",
       "      <td>Las Vegas, Nevada, USA</td>\n",
       "      <td>Blue</td>\n",
       "      <td>False</td>\n",
       "      <td>WomenBantamweight</td>\n",
       "      <td>0.125</td>\n",
       "      <td>0.0</td>\n",
       "      <td>...</td>\n",
       "      <td>1</td>\n",
       "      <td>2</td>\n",
       "      <td>2</td>\n",
       "      <td>0</td>\n",
       "      <td>Orthodox</td>\n",
       "      <td>167.64</td>\n",
       "      <td>172.72</td>\n",
       "      <td>135.0</td>\n",
       "      <td>29.0</td>\n",
       "      <td>43.0</td>\n",
       "    </tr>\n",
       "    <tr>\n",
       "      <th>...</th>\n",
       "      <td>...</td>\n",
       "      <td>...</td>\n",
       "      <td>...</td>\n",
       "      <td>...</td>\n",
       "      <td>...</td>\n",
       "      <td>...</td>\n",
       "      <td>...</td>\n",
       "      <td>...</td>\n",
       "      <td>...</td>\n",
       "      <td>...</td>\n",
       "      <td>...</td>\n",
       "      <td>...</td>\n",
       "      <td>...</td>\n",
       "      <td>...</td>\n",
       "      <td>...</td>\n",
       "      <td>...</td>\n",
       "      <td>...</td>\n",
       "      <td>...</td>\n",
       "      <td>...</td>\n",
       "      <td>...</td>\n",
       "      <td>...</td>\n",
       "    </tr>\n",
       "    <tr>\n",
       "      <th>6007</th>\n",
       "      <td>Remco Pardoel</td>\n",
       "      <td>Alberta Cerra Leon</td>\n",
       "      <td>John McCarthy</td>\n",
       "      <td>11-03-1994</td>\n",
       "      <td>Denver, Colorado, USA</td>\n",
       "      <td>Red</td>\n",
       "      <td>False</td>\n",
       "      <td>OpenWeight</td>\n",
       "      <td>NaN</td>\n",
       "      <td>NaN</td>\n",
       "      <td>...</td>\n",
       "      <td>0</td>\n",
       "      <td>0</td>\n",
       "      <td>0</td>\n",
       "      <td>0</td>\n",
       "      <td>Southpaw</td>\n",
       "      <td>190.50</td>\n",
       "      <td>NaN</td>\n",
       "      <td>260.0</td>\n",
       "      <td>NaN</td>\n",
       "      <td>NaN</td>\n",
       "    </tr>\n",
       "    <tr>\n",
       "      <th>6008</th>\n",
       "      <td>Orlando Wiet</td>\n",
       "      <td>Robert Lucarelli</td>\n",
       "      <td>John McCarthy</td>\n",
       "      <td>11-03-1994</td>\n",
       "      <td>Denver, Colorado, USA</td>\n",
       "      <td>Red</td>\n",
       "      <td>False</td>\n",
       "      <td>OpenWeight</td>\n",
       "      <td>NaN</td>\n",
       "      <td>NaN</td>\n",
       "      <td>...</td>\n",
       "      <td>0</td>\n",
       "      <td>0</td>\n",
       "      <td>0</td>\n",
       "      <td>0</td>\n",
       "      <td>Southpaw</td>\n",
       "      <td>177.80</td>\n",
       "      <td>NaN</td>\n",
       "      <td>170.0</td>\n",
       "      <td>NaN</td>\n",
       "      <td>NaN</td>\n",
       "    </tr>\n",
       "    <tr>\n",
       "      <th>6009</th>\n",
       "      <td>Johnny Rhodes</td>\n",
       "      <td>David Levicki</td>\n",
       "      <td>John McCarthy</td>\n",
       "      <td>11-03-1994</td>\n",
       "      <td>Denver, Colorado, USA</td>\n",
       "      <td>Red</td>\n",
       "      <td>False</td>\n",
       "      <td>OpenWeight</td>\n",
       "      <td>NaN</td>\n",
       "      <td>NaN</td>\n",
       "      <td>...</td>\n",
       "      <td>0</td>\n",
       "      <td>0</td>\n",
       "      <td>0</td>\n",
       "      <td>0</td>\n",
       "      <td>Orthodox</td>\n",
       "      <td>182.88</td>\n",
       "      <td>NaN</td>\n",
       "      <td>210.0</td>\n",
       "      <td>NaN</td>\n",
       "      <td>NaN</td>\n",
       "    </tr>\n",
       "    <tr>\n",
       "      <th>6010</th>\n",
       "      <td>Patrick Smith</td>\n",
       "      <td>Ray Wizard</td>\n",
       "      <td>John McCarthy</td>\n",
       "      <td>11-03-1994</td>\n",
       "      <td>Denver, Colorado, USA</td>\n",
       "      <td>Red</td>\n",
       "      <td>False</td>\n",
       "      <td>OpenWeight</td>\n",
       "      <td>NaN</td>\n",
       "      <td>NaN</td>\n",
       "      <td>...</td>\n",
       "      <td>0</td>\n",
       "      <td>0</td>\n",
       "      <td>0</td>\n",
       "      <td>0</td>\n",
       "      <td>Orthodox</td>\n",
       "      <td>187.96</td>\n",
       "      <td>NaN</td>\n",
       "      <td>225.0</td>\n",
       "      <td>NaN</td>\n",
       "      <td>30.0</td>\n",
       "    </tr>\n",
       "    <tr>\n",
       "      <th>6011</th>\n",
       "      <td>Scott Morris</td>\n",
       "      <td>Sean Daugherty</td>\n",
       "      <td>John McCarthy</td>\n",
       "      <td>11-03-1994</td>\n",
       "      <td>Denver, Colorado, USA</td>\n",
       "      <td>Red</td>\n",
       "      <td>False</td>\n",
       "      <td>OpenWeight</td>\n",
       "      <td>NaN</td>\n",
       "      <td>NaN</td>\n",
       "      <td>...</td>\n",
       "      <td>0</td>\n",
       "      <td>0</td>\n",
       "      <td>0</td>\n",
       "      <td>0</td>\n",
       "      <td>Orthodox</td>\n",
       "      <td>177.80</td>\n",
       "      <td>NaN</td>\n",
       "      <td>210.0</td>\n",
       "      <td>18.0</td>\n",
       "      <td>NaN</td>\n",
       "    </tr>\n",
       "  </tbody>\n",
       "</table>\n",
       "<p>6012 rows × 144 columns</p>\n",
       "</div>"
      ],
      "text/plain": [
       "          R_fighter           B_fighter        Referee        date  \\\n",
       "0      Adrian Yanez       Gustavo Lopez  Chris Tognoni  20-03-2021   \n",
       "1      Trevin Giles       Roman Dolidze      Herb Dean  20-03-2021   \n",
       "2       Tai Tuivasa     Harry Hunsucker      Herb Dean  20-03-2021   \n",
       "3     Cheyanne Buys   Montserrat Conejo     Mark Smith  20-03-2021   \n",
       "4     Marion Reneau       Macy Chiasson     Mark Smith  20-03-2021   \n",
       "...             ...                 ...            ...         ...   \n",
       "6007  Remco Pardoel  Alberta Cerra Leon  John McCarthy  11-03-1994   \n",
       "6008   Orlando Wiet    Robert Lucarelli  John McCarthy  11-03-1994   \n",
       "6009  Johnny Rhodes       David Levicki  John McCarthy  11-03-1994   \n",
       "6010  Patrick Smith          Ray Wizard  John McCarthy  11-03-1994   \n",
       "6011   Scott Morris      Sean Daugherty  John McCarthy  11-03-1994   \n",
       "\n",
       "                    location Winner  title_bout       weight_class  B_avg_KD  \\\n",
       "0     Las Vegas, Nevada, USA    Red       False       Bantamweight     0.000   \n",
       "1     Las Vegas, Nevada, USA    Red       False       Middleweight     0.500   \n",
       "2     Las Vegas, Nevada, USA    Red       False        Heavyweight       NaN   \n",
       "3     Las Vegas, Nevada, USA   Blue       False   WomenStrawweight       NaN   \n",
       "4     Las Vegas, Nevada, USA   Blue       False  WomenBantamweight     0.125   \n",
       "...                      ...    ...         ...                ...       ...   \n",
       "6007   Denver, Colorado, USA    Red       False         OpenWeight       NaN   \n",
       "6008   Denver, Colorado, USA    Red       False         OpenWeight       NaN   \n",
       "6009   Denver, Colorado, USA    Red       False         OpenWeight       NaN   \n",
       "6010   Denver, Colorado, USA    Red       False         OpenWeight       NaN   \n",
       "6011   Denver, Colorado, USA    Red       False         OpenWeight       NaN   \n",
       "\n",
       "      B_avg_opp_KD  ...  R_win_by_Decision_Unanimous  R_win_by_KO/TKO  \\\n",
       "0              0.0  ...                            0                1   \n",
       "1              0.0  ...                            0                3   \n",
       "2              NaN  ...                            1                3   \n",
       "3              NaN  ...                            0                0   \n",
       "4              0.0  ...                            1                2   \n",
       "...            ...  ...                          ...              ...   \n",
       "6007           NaN  ...                            0                0   \n",
       "6008           NaN  ...                            0                0   \n",
       "6009           NaN  ...                            0                0   \n",
       "6010           NaN  ...                            0                0   \n",
       "6011           NaN  ...                            0                0   \n",
       "\n",
       "      R_win_by_Submission  R_win_by_TKO_Doctor_Stoppage  R_Stance  \\\n",
       "0                       0                             0  Orthodox   \n",
       "1                       0                             0  Orthodox   \n",
       "2                       0                             0  Southpaw   \n",
       "3                       0                             0    Switch   \n",
       "4                       2                             0  Orthodox   \n",
       "...                   ...                           ...       ...   \n",
       "6007                    0                             0  Southpaw   \n",
       "6008                    0                             0  Southpaw   \n",
       "6009                    0                             0  Orthodox   \n",
       "6010                    0                             0  Orthodox   \n",
       "6011                    0                             0  Orthodox   \n",
       "\n",
       "      R_Height_cms  R_Reach_cms  R_Weight_lbs  B_age  R_age  \n",
       "0           170.18       177.80         135.0   31.0   27.0  \n",
       "1           182.88       187.96         185.0   32.0   28.0  \n",
       "2           187.96       190.50         264.0   32.0   28.0  \n",
       "3           160.02       160.02         115.0   28.0   25.0  \n",
       "4           167.64       172.72         135.0   29.0   43.0  \n",
       "...            ...          ...           ...    ...    ...  \n",
       "6007        190.50          NaN         260.0    NaN    NaN  \n",
       "6008        177.80          NaN         170.0    NaN    NaN  \n",
       "6009        182.88          NaN         210.0    NaN    NaN  \n",
       "6010        187.96          NaN         225.0    NaN   30.0  \n",
       "6011        177.80          NaN         210.0   18.0    NaN  \n",
       "\n",
       "[6012 rows x 144 columns]"
      ]
     },
     "execution_count": 5,
     "metadata": {},
     "output_type": "execute_result"
    }
   ],
   "source": [
    "data_df =  pd.read_csv('data.csv')\n",
    "data_df"
   ]
  },
  {
   "cell_type": "code",
   "execution_count": 6,
   "metadata": {},
   "outputs": [
    {
     "name": "stdout",
     "output_type": "stream",
     "text": [
      "<class 'pandas.core.frame.DataFrame'>\n",
      "RangeIndex: 6012 entries, 0 to 6011\n",
      "Columns: 144 entries, R_fighter to R_age\n",
      "dtypes: bool(1), float64(106), int64(28), object(9)\n",
      "memory usage: 6.6+ MB\n"
     ]
    }
   ],
   "source": [
    "data_df.info()"
   ]
  },
  {
   "cell_type": "code",
   "execution_count": 7,
   "metadata": {},
   "outputs": [],
   "source": [
    "df = data_df.dropna()"
   ]
  },
  {
   "cell_type": "code",
   "execution_count": 8,
   "metadata": {},
   "outputs": [
    {
     "name": "stdout",
     "output_type": "stream",
     "text": [
      "<class 'pandas.core.frame.DataFrame'>\n",
      "Int64Index: 3890 entries, 0 to 5884\n",
      "Columns: 144 entries, R_fighter to R_age\n",
      "dtypes: bool(1), float64(106), int64(28), object(9)\n",
      "memory usage: 4.3+ MB\n"
     ]
    }
   ],
   "source": [
    "df.info()"
   ]
  },
  {
   "cell_type": "code",
   "execution_count": 9,
   "metadata": {},
   "outputs": [],
   "source": [
    "columns=df.select_dtypes(include='object').columns"
   ]
  },
  {
   "cell_type": "code",
   "execution_count": 10,
   "metadata": {},
   "outputs": [
    {
     "data": {
      "text/plain": [
       "title_bout                0.244803\n",
       "B_avg_KD                  0.382721\n",
       "B_avg_opp_KD              0.307015\n",
       "B_avg_SIG_STR_pct         0.120214\n",
       "B_avg_opp_SIG_STR_pct     0.121733\n",
       "                           ...    \n",
       "R_Height_cms              8.901029\n",
       "R_Reach_cms              10.697950\n",
       "R_Weight_lbs             34.258023\n",
       "B_age                     4.019934\n",
       "R_age                     4.156208\n",
       "Length: 135, dtype: float64"
      ]
     },
     "execution_count": 10,
     "metadata": {},
     "output_type": "execute_result"
    }
   ],
   "source": [
    "df.std()"
   ]
  },
  {
   "cell_type": "code",
   "execution_count": 11,
   "metadata": {},
   "outputs": [
    {
     "name": "stderr",
     "output_type": "stream",
     "text": [
      "C:\\Users\\Somu\\anaconda3\\lib\\site-packages\\pandas\\core\\frame.py:3997: SettingWithCopyWarning: \n",
      "A value is trying to be set on a copy of a slice from a DataFrame\n",
      "\n",
      "See the caveats in the documentation: https://pandas.pydata.org/pandas-docs/stable/user_guide/indexing.html#returning-a-view-versus-a-copy\n",
      "  errors=errors,\n"
     ]
    }
   ],
   "source": [
    "df.drop(columns=['R_fighter', 'B_fighter', 'Referee', 'date', 'location','weight_class'], inplace=True)"
   ]
  },
  {
   "cell_type": "code",
   "execution_count": 12,
   "metadata": {},
   "outputs": [
    {
     "data": {
      "text/html": [
       "<div>\n",
       "<style scoped>\n",
       "    .dataframe tbody tr th:only-of-type {\n",
       "        vertical-align: middle;\n",
       "    }\n",
       "\n",
       "    .dataframe tbody tr th {\n",
       "        vertical-align: top;\n",
       "    }\n",
       "\n",
       "    .dataframe thead th {\n",
       "        text-align: right;\n",
       "    }\n",
       "</style>\n",
       "<table border=\"1\" class=\"dataframe\">\n",
       "  <thead>\n",
       "    <tr style=\"text-align: right;\">\n",
       "      <th></th>\n",
       "      <th>Winner</th>\n",
       "      <th>B_Stance</th>\n",
       "      <th>R_Stance</th>\n",
       "    </tr>\n",
       "  </thead>\n",
       "  <tbody>\n",
       "    <tr>\n",
       "      <th>0</th>\n",
       "      <td>Red</td>\n",
       "      <td>Orthodox</td>\n",
       "      <td>Orthodox</td>\n",
       "    </tr>\n",
       "    <tr>\n",
       "      <th>1</th>\n",
       "      <td>Red</td>\n",
       "      <td>Orthodox</td>\n",
       "      <td>Orthodox</td>\n",
       "    </tr>\n",
       "    <tr>\n",
       "      <th>4</th>\n",
       "      <td>Blue</td>\n",
       "      <td>Orthodox</td>\n",
       "      <td>Orthodox</td>\n",
       "    </tr>\n",
       "    <tr>\n",
       "      <th>5</th>\n",
       "      <td>Blue</td>\n",
       "      <td>Switch</td>\n",
       "      <td>Orthodox</td>\n",
       "    </tr>\n",
       "    <tr>\n",
       "      <th>6</th>\n",
       "      <td>Blue</td>\n",
       "      <td>Orthodox</td>\n",
       "      <td>Orthodox</td>\n",
       "    </tr>\n",
       "    <tr>\n",
       "      <th>...</th>\n",
       "      <td>...</td>\n",
       "      <td>...</td>\n",
       "      <td>...</td>\n",
       "    </tr>\n",
       "    <tr>\n",
       "      <th>5759</th>\n",
       "      <td>Red</td>\n",
       "      <td>Orthodox</td>\n",
       "      <td>Orthodox</td>\n",
       "    </tr>\n",
       "    <tr>\n",
       "      <th>5767</th>\n",
       "      <td>Red</td>\n",
       "      <td>Orthodox</td>\n",
       "      <td>Orthodox</td>\n",
       "    </tr>\n",
       "    <tr>\n",
       "      <th>5799</th>\n",
       "      <td>Red</td>\n",
       "      <td>Orthodox</td>\n",
       "      <td>Orthodox</td>\n",
       "    </tr>\n",
       "    <tr>\n",
       "      <th>5840</th>\n",
       "      <td>Red</td>\n",
       "      <td>Orthodox</td>\n",
       "      <td>Orthodox</td>\n",
       "    </tr>\n",
       "    <tr>\n",
       "      <th>5884</th>\n",
       "      <td>Red</td>\n",
       "      <td>Southpaw</td>\n",
       "      <td>Orthodox</td>\n",
       "    </tr>\n",
       "  </tbody>\n",
       "</table>\n",
       "<p>3890 rows × 3 columns</p>\n",
       "</div>"
      ],
      "text/plain": [
       "     Winner  B_Stance  R_Stance\n",
       "0       Red  Orthodox  Orthodox\n",
       "1       Red  Orthodox  Orthodox\n",
       "4      Blue  Orthodox  Orthodox\n",
       "5      Blue    Switch  Orthodox\n",
       "6      Blue  Orthodox  Orthodox\n",
       "...     ...       ...       ...\n",
       "5759    Red  Orthodox  Orthodox\n",
       "5767    Red  Orthodox  Orthodox\n",
       "5799    Red  Orthodox  Orthodox\n",
       "5840    Red  Orthodox  Orthodox\n",
       "5884    Red  Southpaw  Orthodox\n",
       "\n",
       "[3890 rows x 3 columns]"
      ]
     },
     "execution_count": 12,
     "metadata": {},
     "output_type": "execute_result"
    }
   ],
   "source": [
    "df.select_dtypes(include='object')"
   ]
  },
  {
   "cell_type": "code",
   "execution_count": 13,
   "metadata": {},
   "outputs": [
    {
     "name": "stderr",
     "output_type": "stream",
     "text": [
      "C:\\Users\\Somu\\anaconda3\\lib\\site-packages\\ipykernel_launcher.py:2: SettingWithCopyWarning: \n",
      "A value is trying to be set on a copy of a slice from a DataFrame.\n",
      "Try using .loc[row_indexer,col_indexer] = value instead\n",
      "\n",
      "See the caveats in the documentation: https://pandas.pydata.org/pandas-docs/stable/user_guide/indexing.html#returning-a-view-versus-a-copy\n",
      "  \n",
      "C:\\Users\\Somu\\anaconda3\\lib\\site-packages\\ipykernel_launcher.py:3: SettingWithCopyWarning: \n",
      "A value is trying to be set on a copy of a slice from a DataFrame.\n",
      "Try using .loc[row_indexer,col_indexer] = value instead\n",
      "\n",
      "See the caveats in the documentation: https://pandas.pydata.org/pandas-docs/stable/user_guide/indexing.html#returning-a-view-versus-a-copy\n",
      "  This is separate from the ipykernel package so we can avoid doing imports until\n",
      "C:\\Users\\Somu\\anaconda3\\lib\\site-packages\\ipykernel_launcher.py:6: SettingWithCopyWarning: \n",
      "A value is trying to be set on a copy of a slice from a DataFrame.\n",
      "Try using .loc[row_indexer,col_indexer] = value instead\n",
      "\n",
      "See the caveats in the documentation: https://pandas.pydata.org/pandas-docs/stable/user_guide/indexing.html#returning-a-view-versus-a-copy\n",
      "  \n"
     ]
    }
   ],
   "source": [
    "map_stance = {'Orthodox': 0, 'Switch': 1, 'Southpaw': 2, 'Open Stance': 3}\n",
    "df['B_Stance'] = df['B_Stance'].replace(map_stance)\n",
    "df['R_Stance'] = df['R_Stance'].replace(map_stance)\n",
    "\n",
    "map_winner = {'Red': 0, 'Blue': 1, 'Draw': 2}\n",
    "df['Winner'] = df['Winner'].replace(map_winner)"
   ]
  },
  {
   "cell_type": "code",
   "execution_count": 14,
   "metadata": {},
   "outputs": [
    {
     "name": "stdout",
     "output_type": "stream",
     "text": [
      "<class 'pandas.core.frame.DataFrame'>\n",
      "Int64Index: 3890 entries, 0 to 5884\n",
      "Columns: 137 entries, Winner to R_age\n",
      "dtypes: float64(106), int64(31)\n",
      "memory usage: 4.1 MB\n"
     ]
    },
    {
     "name": "stderr",
     "output_type": "stream",
     "text": [
      "C:\\Users\\Somu\\anaconda3\\lib\\site-packages\\pandas\\core\\frame.py:3997: SettingWithCopyWarning: \n",
      "A value is trying to be set on a copy of a slice from a DataFrame\n",
      "\n",
      "See the caveats in the documentation: https://pandas.pydata.org/pandas-docs/stable/user_guide/indexing.html#returning-a-view-versus-a-copy\n",
      "  errors=errors,\n"
     ]
    }
   ],
   "source": [
    "df.drop(columns=df.select_dtypes(include='bool').columns, inplace=True)\n",
    "df.info()"
   ]
  },
  {
   "cell_type": "code",
   "execution_count": 15,
   "metadata": {},
   "outputs": [
    {
     "data": {
      "text/plain": [
       "array([0, 1, 2], dtype=int64)"
      ]
     },
     "execution_count": 15,
     "metadata": {},
     "output_type": "execute_result"
    }
   ],
   "source": [
    "df['Winner'].unique()"
   ]
  },
  {
   "cell_type": "code",
   "execution_count": 16,
   "metadata": {},
   "outputs": [],
   "source": [
    "df = df[df['Winner'] != 2]"
   ]
  },
  {
   "cell_type": "code",
   "execution_count": 17,
   "metadata": {},
   "outputs": [
    {
     "name": "stdout",
     "output_type": "stream",
     "text": [
      "<class 'pandas.core.frame.DataFrame'>\n",
      "Int64Index: 3821 entries, 0 to 5884\n",
      "Columns: 137 entries, Winner to R_age\n",
      "dtypes: float64(106), int64(31)\n",
      "memory usage: 4.0 MB\n"
     ]
    }
   ],
   "source": [
    "df.info()"
   ]
  },
  {
   "cell_type": "code",
   "execution_count": 18,
   "metadata": {},
   "outputs": [],
   "source": [
    "X = df.drop(columns=['Winner'])\n",
    "Y = df['Winner']"
   ]
  },
  {
   "cell_type": "code",
   "execution_count": 19,
   "metadata": {},
   "outputs": [],
   "source": [
    "from sklearn.model_selection import train_test_split\n",
    "X_train, X_test, y_train, y_test = train_test_split(X, Y, test_size=0.25, random_state=42)"
   ]
  },
  {
   "cell_type": "code",
   "execution_count": 20,
   "metadata": {},
   "outputs": [
    {
     "name": "stdout",
     "output_type": "stream",
     "text": [
      "Training size = 2865\n",
      "Testing size = 956\n"
     ]
    }
   ],
   "source": [
    "print(\"Training size = \" + str(X_train.shape[0]))\n",
    "print(\"Testing size = \" + str(X_test.shape[0]))"
   ]
  },
  {
   "cell_type": "markdown",
   "metadata": {},
   "source": [
    "## Model Training and Evaluation on Data using k-fold cross validation"
   ]
  },
  {
   "cell_type": "code",
   "execution_count": 21,
   "metadata": {},
   "outputs": [],
   "source": [
    "seed = 404\n",
    "np.random.seed(seed)"
   ]
  },
  {
   "cell_type": "code",
   "execution_count": 88,
   "metadata": {},
   "outputs": [
    {
     "name": "stdout",
     "output_type": "stream",
     "text": [
      "Gaussian Naive Bayes K-fold Scores:\n",
      "[0.61567164 0.64925373 0.54850746 0.60820896 0.5917603  0.55430712\n",
      " 0.58052434 0.5505618  0.58426966 0.58801498]\n",
      "\n",
      "Gaussian Naive Bayes Average Score:\n",
      "0.5871079993291967\n",
      "\n"
     ]
    }
   ],
   "source": [
    "from sklearn.model_selection import StratifiedKFold\n",
    "from sklearn.model_selection import cross_val_score\n",
    "from sklearn.naive_bayes import GaussianNB\n",
    "\n",
    "gnb = GaussianNB()\n",
    "kfold = StratifiedKFold(n_splits=10, shuffle=True, random_state=seed)\n",
    "cv_score = cross_val_score(gnb, X_train, y_train.values.ravel(), cv=kfold)\n",
    "gnb_score = cv_score.mean()\n",
    "print('Gaussian Naive Bayes K-fold Scores:')\n",
    "print(cv_score)\n",
    "print()\n",
    "print('Gaussian Naive Bayes Average Score:')\n",
    "print(gnb_score)\n",
    "print()"
   ]
  },
  {
   "cell_type": "code",
   "execution_count": 23,
   "metadata": {},
   "outputs": [
    {
     "name": "stdout",
     "output_type": "stream",
     "text": [
      "Logistic Regression K-fold Scores (training):\n",
      "[0.62020906 0.66202091 0.66550523 0.65505226 0.66202091 0.64335664\n",
      " 0.65034965 0.63986014 0.60839161 0.61888112]\n",
      "\n",
      "Logistic Regression Average Score:\n",
      "0.64256475232085\n"
     ]
    }
   ],
   "source": [
    "from sklearn.linear_model import LogisticRegression\n",
    "\n",
    "lr = LogisticRegression(max_iter = 10000)\n",
    "kfold = StratifiedKFold(n_splits=10, shuffle=True, random_state=seed)\n",
    "cv_score = cross_val_score(lr, X_train, y_train.values.ravel(), cv=kfold)\n",
    "lr_score = cv_score.mean()\n",
    "print('Logistic Regression K-fold Scores (training):')\n",
    "print(cv_score)\n",
    "print()\n",
    "print('Logistic Regression Average Score:')\n",
    "print(lr_score)"
   ]
  },
  {
   "cell_type": "code",
   "execution_count": 24,
   "metadata": {},
   "outputs": [
    {
     "name": "stdout",
     "output_type": "stream",
     "text": [
      "Decision Tree K-fold Scores:\n",
      "[0.57839721 0.5087108  0.58188153 0.57839721 0.57839721 0.59090909\n",
      " 0.52447552 0.6013986  0.55594406 0.57692308]\n",
      "\n",
      "Decision Tree Average Score:\n",
      "0.5675434321775785\n"
     ]
    }
   ],
   "source": [
    "from sklearn import tree\n",
    "\n",
    "dt = tree.DecisionTreeClassifier(random_state = 1)\n",
    "kfold = StratifiedKFold(n_splits=10, shuffle=True, random_state=seed)\n",
    "cv_score = cross_val_score(dt, X_train, y_train.values.ravel(), cv=kfold)\n",
    "dt_score = cv_score.mean()\n",
    "print('Decision Tree K-fold Scores:')\n",
    "print(cv_score)\n",
    "print()\n",
    "print('Decision Tree Average Score:')\n",
    "print(dt_score)"
   ]
  },
  {
   "cell_type": "code",
   "execution_count": 89,
   "metadata": {},
   "outputs": [
    {
     "name": "stdout",
     "output_type": "stream",
     "text": [
      "KNN K-fold Scores):\n",
      "[0.61567164 0.58955224 0.6119403  0.58208955 0.58801498 0.59550562\n",
      " 0.59550562 0.57303371 0.60299625 0.5917603 ]\n",
      "\n",
      "KNN Average Score:\n",
      "0.5946070210744033\n"
     ]
    }
   ],
   "source": [
    "from sklearn.neighbors import KNeighborsClassifier\n",
    "\n",
    "knn = KNeighborsClassifier()\n",
    "cv_score = cross_val_score(knn, X_train, y_train.values.ravel(), cv=10)\n",
    "knn_score = cv_score.mean()\n",
    "print('KNN K-fold Scores):')\n",
    "print(cv_score)\n",
    "print()\n",
    "print('KNN Average Score:')\n",
    "print(knn_score)"
   ]
  },
  {
   "cell_type": "code",
   "execution_count": 26,
   "metadata": {},
   "outputs": [
    {
     "name": "stdout",
     "output_type": "stream",
     "text": [
      "Random Forest K-fold Scores:\n",
      "[0.64111498 0.61324042 0.67595819 0.6271777  0.6097561  0.65034965\n",
      " 0.63286713 0.61538462 0.58741259 0.65034965]\n",
      "\n",
      "Random Forest Average Score:\n",
      "0.6303611023123218\n"
     ]
    }
   ],
   "source": [
    "from sklearn.ensemble import RandomForestClassifier\n",
    "\n",
    "rf = RandomForestClassifier(random_state = 1)\n",
    "kfold = StratifiedKFold(n_splits=10, shuffle=True, random_state=seed)\n",
    "cv_score = cross_val_score(rf, X_train, y_train.values.ravel(), cv=kfold)\n",
    "rf_score = cv_score.mean()\n",
    "print('Random Forest K-fold Scores:')\n",
    "print(cv_score)\n",
    "print()\n",
    "print('Random Forest Average Score:')\n",
    "print(rf_score)"
   ]
  },
  {
   "cell_type": "code",
   "execution_count": 27,
   "metadata": {},
   "outputs": [
    {
     "name": "stdout",
     "output_type": "stream",
     "text": [
      "Support Vector Classification K-fold Scores:\n",
      "[0.62369338 0.62020906 0.62020906 0.62020906 0.62020906 0.62237762\n",
      " 0.62237762 0.62237762 0.62237762 0.62237762]\n",
      "\n",
      "Support Vector Classification Average Score:\n",
      "0.6216417728612851\n"
     ]
    }
   ],
   "source": [
    "from sklearn.svm import SVC\n",
    "\n",
    "svc = SVC(probability = True)\n",
    "kfold = StratifiedKFold(n_splits=10, shuffle=True, random_state=seed)\n",
    "cv_score = cross_val_score(svc, X_train, y_train.values.ravel(), cv=kfold)\n",
    "svc_score = cv_score.mean()\n",
    "print('Support Vector Classification K-fold Scores:')\n",
    "print(cv_score)\n",
    "print()\n",
    "print('Support Vector Classification Average Score:')\n",
    "print(svc_score)"
   ]
  },
  {
   "cell_type": "markdown",
   "metadata": {},
   "source": [
    "## Best performing models\n",
    "\n",
    "With the training accuracy in mind, we will grab the top 3 models and evaluate them on the testing set"
   ]
  },
  {
   "cell_type": "code",
   "execution_count": 32,
   "metadata": {},
   "outputs": [
    {
     "data": {
      "text/html": [
       "<div>\n",
       "<style scoped>\n",
       "    .dataframe tbody tr th:only-of-type {\n",
       "        vertical-align: middle;\n",
       "    }\n",
       "\n",
       "    .dataframe tbody tr th {\n",
       "        vertical-align: top;\n",
       "    }\n",
       "\n",
       "    .dataframe thead th {\n",
       "        text-align: right;\n",
       "    }\n",
       "</style>\n",
       "<table border=\"1\" class=\"dataframe\">\n",
       "  <thead>\n",
       "    <tr style=\"text-align: right;\">\n",
       "      <th></th>\n",
       "      <th>Model</th>\n",
       "      <th>Score Average</th>\n",
       "    </tr>\n",
       "  </thead>\n",
       "  <tbody>\n",
       "    <tr>\n",
       "      <th>0</th>\n",
       "      <td>Gaussian Naive Bayes</td>\n",
       "      <td>0.577285</td>\n",
       "    </tr>\n",
       "    <tr>\n",
       "      <th>1</th>\n",
       "      <td>Logistic Regression</td>\n",
       "      <td>0.642565</td>\n",
       "    </tr>\n",
       "    <tr>\n",
       "      <th>2</th>\n",
       "      <td>Random Forest</td>\n",
       "      <td>0.630361</td>\n",
       "    </tr>\n",
       "    <tr>\n",
       "      <th>3</th>\n",
       "      <td>Decision Tree</td>\n",
       "      <td>0.567543</td>\n",
       "    </tr>\n",
       "    <tr>\n",
       "      <th>4</th>\n",
       "      <td>K-Nearest Neighbor</td>\n",
       "      <td>0.588117</td>\n",
       "    </tr>\n",
       "    <tr>\n",
       "      <th>5</th>\n",
       "      <td>Support Vector Classifier</td>\n",
       "      <td>0.621642</td>\n",
       "    </tr>\n",
       "  </tbody>\n",
       "</table>\n",
       "</div>"
      ],
      "text/plain": [
       "                       Model  Score Average\n",
       "0       Gaussian Naive Bayes       0.577285\n",
       "1        Logistic Regression       0.642565\n",
       "2              Random Forest       0.630361\n",
       "3              Decision Tree       0.567543\n",
       "4         K-Nearest Neighbor       0.588117\n",
       "5  Support Vector Classifier       0.621642"
      ]
     },
     "execution_count": 32,
     "metadata": {},
     "output_type": "execute_result"
    }
   ],
   "source": [
    "scores = [['Gaussian Naive Bayes', gnb_score],\n",
    " ['Logistic Regression', lr_score],\n",
    " ['Random Forest', rf_score],\n",
    " ['Decision Tree', dt_score],\n",
    " ['K-Nearest Neighbor', knn_score],\n",
    " ['Support Vector Classifier', svc_score]]\n",
    "\n",
    "df_scores = pd.DataFrame(scores,\n",
    "                         columns = ['Model', 'Score Average']\n",
    "                        )\n",
    "df_scores"
   ]
  },
  {
   "cell_type": "code",
   "execution_count": 33,
   "metadata": {},
   "outputs": [
    {
     "data": {
      "image/png": "[encoded data removed]",
      "text/plain": [
       "<Figure size 432x288 with 2 Axes>"
      ]
     },
     "metadata": {
      "needs_background": "light"
     },
     "output_type": "display_data"
    },
    {
     "name": "stdout",
     "output_type": "stream",
     "text": [
      "Gaussian Naive Bayes Model Accuracy (on testing set): \n",
      "0.5805439330543933\n"
     ]
    }
   ],
   "source": [
    "from sklearn.metrics import plot_confusion_matrix\n",
    "from sklearn.metrics import accuracy_score\n",
    "\n",
    "GNB = GaussianNB()\n",
    "GNB_model = GNB.fit(X_train, y_train.values.ravel())\n",
    "y_pred = GNB_model.predict(X_test)\n",
    "\n",
    "disp = plot_confusion_matrix(GNB_model, X_test, y_test)\n",
    "disp.ax_.set_title('Gaussian Naive Bayes Confusion Matrix')\n",
    "\n",
    "plt.show()\n",
    "print('Gaussian Naive Bayes Model Accuracy (on testing set): ')\n",
    "print(accuracy_score(y_test, y_pred))"
   ]
  },
  {
   "cell_type": "code",
   "execution_count": 34,
   "metadata": {},
   "outputs": [
    {
     "data": {
      "image/png": "[encoded data removed]",
      "text/plain": [
       "<Figure size 432x288 with 2 Axes>"
      ]
     },
     "metadata": {
      "needs_background": "light"
     },
     "output_type": "display_data"
    },
    {
     "name": "stdout",
     "output_type": "stream",
     "text": [
      "Logistic Regression Model Accuracy (on testing set): \n",
      "0.6548117154811716\n"
     ]
    }
   ],
   "source": [
    "lr = LogisticRegression(max_iter = 10000)\n",
    "lr_model = lr.fit(X_train, y_train.values.ravel())\n",
    "y_pred = lr_model.predict(X_test)\n",
    "\n",
    "disp = plot_confusion_matrix(lr_model, X_test, y_test)\n",
    "disp.ax_.set_title('Logistic Regression Confusion Matrix')\n",
    "\n",
    "plt.show()\n",
    "print('Logistic Regression Model Accuracy (on testing set): ')\n",
    "print(accuracy_score(y_test, y_pred))"
   ]
  },
  {
   "cell_type": "code",
   "execution_count": 35,
   "metadata": {},
   "outputs": [
    {
     "data": {
      "image/png": "[encoded data removed]",
      "text/plain": [
       "<Figure size 432x288 with 2 Axes>"
      ]
     },
     "metadata": {
      "needs_background": "light"
     },
     "output_type": "display_data"
    },
    {
     "name": "stdout",
     "output_type": "stream",
     "text": [
      "Random Forest Model Accuracy (on testing set): \n",
      "0.6642259414225942\n"
     ]
    }
   ],
   "source": [
    "rf = RandomForestClassifier(random_state = 1)\n",
    "rf_model = rf.fit(X_train, y_train.values.ravel())\n",
    "y_pred = rf_model.predict(X_test)\n",
    "disp = plot_confusion_matrix(rf_model, X_test, y_test)\n",
    "disp.ax_.set_title('Random Forest Confusion Matrix')\n",
    "\n",
    "plt.show()\n",
    "\n",
    "print('Random Forest Model Accuracy (on testing set): ')\n",
    "print(accuracy_score(y_test, y_pred))"
   ]
  },
  {
   "cell_type": "code",
   "execution_count": 36,
   "metadata": {},
   "outputs": [
    {
     "data": {
      "image/png": "[encoded data removed]",
      "text/plain": [
       "<Figure size 432x288 with 2 Axes>"
      ]
     },
     "metadata": {
      "needs_background": "light"
     },
     "output_type": "display_data"
    },
    {
     "name": "stdout",
     "output_type": "stream",
     "text": [
      "SVC Model Accuracy (on testing set): \n",
      "0.6443514644351465\n"
     ]
    }
   ],
   "source": [
    "svc = SVC(probability = True)\n",
    "svc_model = svc.fit(X_train, y_train.values.ravel())\n",
    "y_pred = svc_model.predict(X_test)\n",
    "disp = plot_confusion_matrix(svc_model, X_test, y_test)\n",
    "disp.ax_.set_title('Support Vector Classifier Confusion Matrix')\n",
    "\n",
    "plt.show()\n",
    "\n",
    "print('SVC Model Accuracy (on testing set): ')\n",
    "print(accuracy_score(y_test, y_pred))"
   ]
  },
  {
   "cell_type": "markdown",
   "metadata": {},
   "source": [
    "# Prediction Time"
   ]
  },
  {
   "cell_type": "markdown",
   "metadata": {},
   "source": [
    "# UFC 259: Blachowicz vs Adesanya\n",
    "\n",
    "### Title fights (5 rounds):\n",
    "Jan Blachowicz vs Israel Adesanya\n",
    "\n",
    "Amanda Nunes vs Megan Anderson\n",
    "\n",
    "Petr Yan vs Aljamain Sterling\n",
    "\n",
    "### 3 round fights:\n",
    "Islam Makhachev vs Drew Dober\n",
    "\n",
    "Thiago Santos vs Aleksandar Rakic\n",
    "\n",
    "\n",
    "## The Stats: ([https://www.espn.co.uk/mma/fightcenter/_/id/600001860/league/ufc](http://))\n",
    "### Fight 1\n",
    "#### Jan Blachowicz (Blue):\n",
    "* Current Lose Streak: 0\n",
    "* Current Win Streak: 4\n",
    "* Draws: 0\n",
    "* Losses: 8\n",
    "* Wins: 27\n",
    "* Stance: Orthodox\n",
    "* Height: 188\n",
    "* Reach: 198\n",
    "* Weight: 205\n",
    "\n",
    "#### Israel Adesanya (Red):\n",
    "* Current Lose Streak: 0\n",
    "* Current Win Streak: 20\n",
    "* Draws: 0\n",
    "* Losses: 0\n",
    "* Wins: 20\n",
    "* Stance: Switch\n",
    "* Height: 193\n",
    "* Reach: 203\n",
    "* Weight: 193 (speculation based on interview, weigh-ins to come)\n",
    "\n",
    "\n",
    "### Fight 2\n",
    "#### Amanda Nunes (Blue):\n",
    "* Current Lose Streak: 0\n",
    "* Current Win Streak: 11\n",
    "* Draws: 0\n",
    "* Losses: 4\n",
    "* Wins: 20\n",
    "* Stance: Orthodox\n",
    "* Height: 173\n",
    "* Reach: 165\n",
    "* Weight: 145\n",
    "\n",
    "#### Megan Anderson (Red):\n",
    "* Current Lose Streak: 0\n",
    "* Current Win Streak: 2\n",
    "* Draws: 0\n",
    "* Losses: 4\n",
    "* Wins: 11\n",
    "* Stance: Orthodox\n",
    "* Height: 183\n",
    "* Reach: 183\n",
    "* Weight: 145\n",
    "\n",
    "### Fight 3\n",
    "#### Petr Yan (Blue):\n",
    "* Current Lose Streak: 0\n",
    "* Current Win Streak: 10\n",
    "* Draws: 0\n",
    "* Losses: 1\n",
    "* Wins: 15\n",
    "* Stance: Switch\n",
    "* Height: 170\n",
    "* Reach: 170\n",
    "* Weight: 135\n",
    "\n",
    "#### Aljamain Sterling (Red):\n",
    "* Current Lose Streak: 0\n",
    "* Current Win Streak: 5\n",
    "* Draws: 0\n",
    "* Losses: 3\n",
    "* Wins: 19\n",
    "* Stance: Orthodox\n",
    "* Height: 170\n",
    "* Reach: 180\n",
    "* Weight: 135\n",
    "\n",
    "### Fight 4\n",
    "#### Islam Makhachev (Blue):\n",
    "* Current Lose Streak: 0\n",
    "* Current Win Streak: 6\n",
    "* Draws: 0\n",
    "* Losses: 1\n",
    "* Wins: 18\n",
    "* Stance: Orthodox\n",
    "* Height: 178\n",
    "* Reach: 178\n",
    "* Weight: 155\n",
    "\n",
    "#### Drew Dober (Red):\n",
    "* Current Lose Streak: 0\n",
    "* Current Win Streak: 3\n",
    "* Draws: 0\n",
    "* Losses: 9\n",
    "* Wins: 23\n",
    "* Stance: Southpaw\n",
    "* Height: 173\n",
    "* Reach: 178\n",
    "* Weight: 155\n",
    "\n",
    "### Fight 5\n",
    "#### Thiago Santos (Blue):\n",
    "* Current Lose Streak: 2\n",
    "* Current Win Streak: 0\n",
    "* Draws: 0\n",
    "* Losses: 8\n",
    "* Wins: 21\n",
    "* Stance: Orthodox\n",
    "* Height: 188\n",
    "* Reach: 193\n",
    "* Weight: 205\n",
    "\n",
    "#### Aleksandar Rakic (Red):\n",
    "* Current Lose Streak: 0\n",
    "* Current Win Streak: 1\n",
    "* Draws: 0\n",
    "* Losses: 2\n",
    "* Wins: 13\n",
    "* Stance: Orthodox\n",
    "* Height: 193\n",
    "* Reach: 198\n",
    "* Weight: 205"
   ]
  },
  {
   "cell_type": "markdown",
   "metadata": {},
   "source": [
    "With all the stats available to us, it can create a data frame to feed into our models and get predictions"
   ]
  },
  {
   "cell_type": "code",
   "execution_count": 37,
   "metadata": {},
   "outputs": [],
   "source": [
    "columns = X.columns"
   ]
  },
  {
   "cell_type": "code",
   "execution_count": 38,
   "metadata": {},
   "outputs": [
    {
     "ename": "ValueError",
     "evalue": "Shape of passed values is (5, 19), indices imply (5, 136)",
     "output_type": "error",
     "traceback": [
      "\u001b[1;31m---------------------------------------------------------------------------\u001b[0m",
      "\u001b[1;31mValueError\u001b[0m                                Traceback (most recent call last)",
      "\u001b[1;32m~\\anaconda3\\lib\\site-packages\\pandas\\core\\internals\\managers.py\u001b[0m in \u001b[0;36mcreate_block_manager_from_blocks\u001b[1;34m(blocks, axes)\u001b[0m\n\u001b[0;32m   1653\u001b[0m                 blocks = [\n\u001b[1;32m-> 1654\u001b[1;33m                     \u001b[0mmake_block\u001b[0m\u001b[1;33m(\u001b[0m\u001b[0mvalues\u001b[0m\u001b[1;33m=\u001b[0m\u001b[0mblocks\u001b[0m\u001b[1;33m[\u001b[0m\u001b[1;36m0\u001b[0m\u001b[1;33m]\u001b[0m\u001b[1;33m,\u001b[0m \u001b[0mplacement\u001b[0m\u001b[1;33m=\u001b[0m\u001b[0mslice\u001b[0m\u001b[1;33m(\u001b[0m\u001b[1;36m0\u001b[0m\u001b[1;33m,\u001b[0m \u001b[0mlen\u001b[0m\u001b[1;33m(\u001b[0m\u001b[0maxes\u001b[0m\u001b[1;33m[\u001b[0m\u001b[1;36m0\u001b[0m\u001b[1;33m]\u001b[0m\u001b[1;33m)\u001b[0m\u001b[1;33m)\u001b[0m\u001b[1;33m)\u001b[0m\u001b[1;33m\u001b[0m\u001b[1;33m\u001b[0m\u001b[0m\n\u001b[0m\u001b[0;32m   1655\u001b[0m                 ]\n",
      "\u001b[1;32m~\\anaconda3\\lib\\site-packages\\pandas\\core\\internals\\blocks.py\u001b[0m in \u001b[0;36mmake_block\u001b[1;34m(values, placement, klass, ndim, dtype)\u001b[0m\n\u001b[0;32m   3040\u001b[0m \u001b[1;33m\u001b[0m\u001b[0m\n\u001b[1;32m-> 3041\u001b[1;33m     \u001b[1;32mreturn\u001b[0m \u001b[0mklass\u001b[0m\u001b[1;33m(\u001b[0m\u001b[0mvalues\u001b[0m\u001b[1;33m,\u001b[0m \u001b[0mndim\u001b[0m\u001b[1;33m=\u001b[0m\u001b[0mndim\u001b[0m\u001b[1;33m,\u001b[0m \u001b[0mplacement\u001b[0m\u001b[1;33m=\u001b[0m\u001b[0mplacement\u001b[0m\u001b[1;33m)\u001b[0m\u001b[1;33m\u001b[0m\u001b[1;33m\u001b[0m\u001b[0m\n\u001b[0m\u001b[0;32m   3042\u001b[0m \u001b[1;33m\u001b[0m\u001b[0m\n",
      "\u001b[1;32m~\\anaconda3\\lib\\site-packages\\pandas\\core\\internals\\blocks.py\u001b[0m in \u001b[0;36m__init__\u001b[1;34m(self, values, placement, ndim)\u001b[0m\n\u001b[0;32m    124\u001b[0m             raise ValueError(\n\u001b[1;32m--> 125\u001b[1;33m                 \u001b[1;34mf\"Wrong number of items passed {len(self.values)}, \"\u001b[0m\u001b[1;33m\u001b[0m\u001b[1;33m\u001b[0m\u001b[0m\n\u001b[0m\u001b[0;32m    126\u001b[0m                 \u001b[1;34mf\"placement implies {len(self.mgr_locs)}\"\u001b[0m\u001b[1;33m\u001b[0m\u001b[1;33m\u001b[0m\u001b[0m\n",
      "\u001b[1;31mValueError\u001b[0m: Wrong number of items passed 19, placement implies 136",
      "\nDuring handling of the above exception, another exception occurred:\n",
      "\u001b[1;31mValueError\u001b[0m                                Traceback (most recent call last)",
      "\u001b[1;32m<ipython-input-38-e821ee8fb1aa>\u001b[0m in \u001b[0;36m<module>\u001b[1;34m\u001b[0m\n\u001b[0;32m      5\u001b[0m \u001b[0mfight5\u001b[0m \u001b[1;33m=\u001b[0m \u001b[1;33m[\u001b[0m\u001b[1;36m3\u001b[0m\u001b[1;33m,\u001b[0m \u001b[1;36m2\u001b[0m\u001b[1;33m,\u001b[0m \u001b[1;36m0\u001b[0m\u001b[1;33m,\u001b[0m \u001b[1;36m0\u001b[0m\u001b[1;33m,\u001b[0m \u001b[1;36m8\u001b[0m\u001b[1;33m,\u001b[0m \u001b[1;36m21\u001b[0m\u001b[1;33m,\u001b[0m \u001b[1;36m0\u001b[0m\u001b[1;33m,\u001b[0m \u001b[1;36m188\u001b[0m\u001b[1;33m,\u001b[0m \u001b[1;36m193\u001b[0m\u001b[1;33m,\u001b[0m \u001b[1;36m205\u001b[0m\u001b[1;33m,\u001b[0m \u001b[1;36m0\u001b[0m\u001b[1;33m,\u001b[0m \u001b[1;36m1\u001b[0m\u001b[1;33m,\u001b[0m \u001b[1;36m0\u001b[0m\u001b[1;33m,\u001b[0m \u001b[1;36m2\u001b[0m\u001b[1;33m,\u001b[0m \u001b[1;36m13\u001b[0m\u001b[1;33m,\u001b[0m \u001b[1;36m0\u001b[0m\u001b[1;33m,\u001b[0m \u001b[1;36m193\u001b[0m\u001b[1;33m,\u001b[0m \u001b[1;36m198\u001b[0m\u001b[1;33m,\u001b[0m \u001b[1;36m205\u001b[0m\u001b[1;33m]\u001b[0m\u001b[1;33m\u001b[0m\u001b[1;33m\u001b[0m\u001b[0m\n\u001b[0;32m      6\u001b[0m \u001b[1;33m\u001b[0m\u001b[0m\n\u001b[1;32m----> 7\u001b[1;33m \u001b[0mdf1\u001b[0m \u001b[1;33m=\u001b[0m \u001b[0mpd\u001b[0m\u001b[1;33m.\u001b[0m\u001b[0mDataFrame\u001b[0m\u001b[1;33m(\u001b[0m\u001b[0mnp\u001b[0m\u001b[1;33m.\u001b[0m\u001b[0marray\u001b[0m\u001b[1;33m(\u001b[0m\u001b[1;33m[\u001b[0m\u001b[0mfight1\u001b[0m\u001b[1;33m,\u001b[0m \u001b[0mfight2\u001b[0m\u001b[1;33m,\u001b[0m \u001b[0mfight3\u001b[0m\u001b[1;33m,\u001b[0m \u001b[0mfight4\u001b[0m\u001b[1;33m,\u001b[0m \u001b[0mfight5\u001b[0m\u001b[1;33m]\u001b[0m\u001b[1;33m)\u001b[0m\u001b[1;33m,\u001b[0m \u001b[0mcolumns\u001b[0m \u001b[1;33m=\u001b[0m \u001b[0mcolumns\u001b[0m\u001b[1;33m)\u001b[0m\u001b[1;33m\u001b[0m\u001b[1;33m\u001b[0m\u001b[0m\n\u001b[0m",
      "\u001b[1;32m~\\anaconda3\\lib\\site-packages\\pandas\\core\\frame.py\u001b[0m in \u001b[0;36m__init__\u001b[1;34m(self, data, index, columns, dtype, copy)\u001b[0m\n\u001b[0;32m    462\u001b[0m                 \u001b[0mmgr\u001b[0m \u001b[1;33m=\u001b[0m \u001b[0minit_dict\u001b[0m\u001b[1;33m(\u001b[0m\u001b[1;33m{\u001b[0m\u001b[0mdata\u001b[0m\u001b[1;33m.\u001b[0m\u001b[0mname\u001b[0m\u001b[1;33m:\u001b[0m \u001b[0mdata\u001b[0m\u001b[1;33m}\u001b[0m\u001b[1;33m,\u001b[0m \u001b[0mindex\u001b[0m\u001b[1;33m,\u001b[0m \u001b[0mcolumns\u001b[0m\u001b[1;33m,\u001b[0m \u001b[0mdtype\u001b[0m\u001b[1;33m=\u001b[0m\u001b[0mdtype\u001b[0m\u001b[1;33m)\u001b[0m\u001b[1;33m\u001b[0m\u001b[1;33m\u001b[0m\u001b[0m\n\u001b[0;32m    463\u001b[0m             \u001b[1;32melse\u001b[0m\u001b[1;33m:\u001b[0m\u001b[1;33m\u001b[0m\u001b[1;33m\u001b[0m\u001b[0m\n\u001b[1;32m--> 464\u001b[1;33m                 \u001b[0mmgr\u001b[0m \u001b[1;33m=\u001b[0m \u001b[0minit_ndarray\u001b[0m\u001b[1;33m(\u001b[0m\u001b[0mdata\u001b[0m\u001b[1;33m,\u001b[0m \u001b[0mindex\u001b[0m\u001b[1;33m,\u001b[0m \u001b[0mcolumns\u001b[0m\u001b[1;33m,\u001b[0m \u001b[0mdtype\u001b[0m\u001b[1;33m=\u001b[0m\u001b[0mdtype\u001b[0m\u001b[1;33m,\u001b[0m \u001b[0mcopy\u001b[0m\u001b[1;33m=\u001b[0m\u001b[0mcopy\u001b[0m\u001b[1;33m)\u001b[0m\u001b[1;33m\u001b[0m\u001b[1;33m\u001b[0m\u001b[0m\n\u001b[0m\u001b[0;32m    465\u001b[0m \u001b[1;33m\u001b[0m\u001b[0m\n\u001b[0;32m    466\u001b[0m         \u001b[1;31m# For data is list-like, or Iterable (will consume into list)\u001b[0m\u001b[1;33m\u001b[0m\u001b[1;33m\u001b[0m\u001b[1;33m\u001b[0m\u001b[0m\n",
      "\u001b[1;32m~\\anaconda3\\lib\\site-packages\\pandas\\core\\internals\\construction.py\u001b[0m in \u001b[0;36minit_ndarray\u001b[1;34m(values, index, columns, dtype, copy)\u001b[0m\n\u001b[0;32m    208\u001b[0m         \u001b[0mblock_values\u001b[0m \u001b[1;33m=\u001b[0m \u001b[1;33m[\u001b[0m\u001b[0mvalues\u001b[0m\u001b[1;33m]\u001b[0m\u001b[1;33m\u001b[0m\u001b[1;33m\u001b[0m\u001b[0m\n\u001b[0;32m    209\u001b[0m \u001b[1;33m\u001b[0m\u001b[0m\n\u001b[1;32m--> 210\u001b[1;33m     \u001b[1;32mreturn\u001b[0m \u001b[0mcreate_block_manager_from_blocks\u001b[0m\u001b[1;33m(\u001b[0m\u001b[0mblock_values\u001b[0m\u001b[1;33m,\u001b[0m \u001b[1;33m[\u001b[0m\u001b[0mcolumns\u001b[0m\u001b[1;33m,\u001b[0m \u001b[0mindex\u001b[0m\u001b[1;33m]\u001b[0m\u001b[1;33m)\u001b[0m\u001b[1;33m\u001b[0m\u001b[1;33m\u001b[0m\u001b[0m\n\u001b[0m\u001b[0;32m    211\u001b[0m \u001b[1;33m\u001b[0m\u001b[0m\n\u001b[0;32m    212\u001b[0m \u001b[1;33m\u001b[0m\u001b[0m\n",
      "\u001b[1;32m~\\anaconda3\\lib\\site-packages\\pandas\\core\\internals\\managers.py\u001b[0m in \u001b[0;36mcreate_block_manager_from_blocks\u001b[1;34m(blocks, axes)\u001b[0m\n\u001b[0;32m   1662\u001b[0m         \u001b[0mblocks\u001b[0m \u001b[1;33m=\u001b[0m \u001b[1;33m[\u001b[0m\u001b[0mgetattr\u001b[0m\u001b[1;33m(\u001b[0m\u001b[0mb\u001b[0m\u001b[1;33m,\u001b[0m \u001b[1;34m\"values\"\u001b[0m\u001b[1;33m,\u001b[0m \u001b[0mb\u001b[0m\u001b[1;33m)\u001b[0m \u001b[1;32mfor\u001b[0m \u001b[0mb\u001b[0m \u001b[1;32min\u001b[0m \u001b[0mblocks\u001b[0m\u001b[1;33m]\u001b[0m\u001b[1;33m\u001b[0m\u001b[1;33m\u001b[0m\u001b[0m\n\u001b[0;32m   1663\u001b[0m         \u001b[0mtot_items\u001b[0m \u001b[1;33m=\u001b[0m \u001b[0msum\u001b[0m\u001b[1;33m(\u001b[0m\u001b[0mb\u001b[0m\u001b[1;33m.\u001b[0m\u001b[0mshape\u001b[0m\u001b[1;33m[\u001b[0m\u001b[1;36m0\u001b[0m\u001b[1;33m]\u001b[0m \u001b[1;32mfor\u001b[0m \u001b[0mb\u001b[0m \u001b[1;32min\u001b[0m \u001b[0mblocks\u001b[0m\u001b[1;33m)\u001b[0m\u001b[1;33m\u001b[0m\u001b[1;33m\u001b[0m\u001b[0m\n\u001b[1;32m-> 1664\u001b[1;33m         \u001b[0mconstruction_error\u001b[0m\u001b[1;33m(\u001b[0m\u001b[0mtot_items\u001b[0m\u001b[1;33m,\u001b[0m \u001b[0mblocks\u001b[0m\u001b[1;33m[\u001b[0m\u001b[1;36m0\u001b[0m\u001b[1;33m]\u001b[0m\u001b[1;33m.\u001b[0m\u001b[0mshape\u001b[0m\u001b[1;33m[\u001b[0m\u001b[1;36m1\u001b[0m\u001b[1;33m:\u001b[0m\u001b[1;33m]\u001b[0m\u001b[1;33m,\u001b[0m \u001b[0maxes\u001b[0m\u001b[1;33m,\u001b[0m \u001b[0me\u001b[0m\u001b[1;33m)\u001b[0m\u001b[1;33m\u001b[0m\u001b[1;33m\u001b[0m\u001b[0m\n\u001b[0m\u001b[0;32m   1665\u001b[0m \u001b[1;33m\u001b[0m\u001b[0m\n\u001b[0;32m   1666\u001b[0m \u001b[1;33m\u001b[0m\u001b[0m\n",
      "\u001b[1;32m~\\anaconda3\\lib\\site-packages\\pandas\\core\\internals\\managers.py\u001b[0m in \u001b[0;36mconstruction_error\u001b[1;34m(tot_items, block_shape, axes, e)\u001b[0m\n\u001b[0;32m   1692\u001b[0m     \u001b[1;32mif\u001b[0m \u001b[0mblock_shape\u001b[0m\u001b[1;33m[\u001b[0m\u001b[1;36m0\u001b[0m\u001b[1;33m]\u001b[0m \u001b[1;33m==\u001b[0m \u001b[1;36m0\u001b[0m\u001b[1;33m:\u001b[0m\u001b[1;33m\u001b[0m\u001b[1;33m\u001b[0m\u001b[0m\n\u001b[0;32m   1693\u001b[0m         \u001b[1;32mraise\u001b[0m \u001b[0mValueError\u001b[0m\u001b[1;33m(\u001b[0m\u001b[1;34m\"Empty data passed with indices specified.\"\u001b[0m\u001b[1;33m)\u001b[0m\u001b[1;33m\u001b[0m\u001b[1;33m\u001b[0m\u001b[0m\n\u001b[1;32m-> 1694\u001b[1;33m     \u001b[1;32mraise\u001b[0m \u001b[0mValueError\u001b[0m\u001b[1;33m(\u001b[0m\u001b[1;34mf\"Shape of passed values is {passed}, indices imply {implied}\"\u001b[0m\u001b[1;33m)\u001b[0m\u001b[1;33m\u001b[0m\u001b[1;33m\u001b[0m\u001b[0m\n\u001b[0m\u001b[0;32m   1695\u001b[0m \u001b[1;33m\u001b[0m\u001b[0m\n\u001b[0;32m   1696\u001b[0m \u001b[1;33m\u001b[0m\u001b[0m\n",
      "\u001b[1;31mValueError\u001b[0m: Shape of passed values is (5, 19), indices imply (5, 136)"
     ]
    }
   ],
   "source": [
    "fight1 = [5, 0, 4, 0, 8, 27, 0, 188, 198, 205, 0, 20, 0, 0, 20, 1, 193, 293, 193]\n",
    "fight2 = [5, 0, 11, 0, 4, 20, 0, 173, 165, 145, 0, 2, 0, 4, 11, 0, 183, 183, 145]\n",
    "fight3 = [5, 0, 10, 0, 1, 15, 1, 170, 170, 135, 0, 5, 0, 3, 19, 0, 170, 180, 135]\n",
    "fight4 = [3, 0, 6, 0, 1, 18, 0, 178, 178, 155, 0, 3, 0, 9, 23, 2, 173, 178, 155]\n",
    "fight5 = [3, 2, 0, 0, 8, 21, 0, 188, 193, 205, 0, 1, 0, 2, 13, 0, 193, 198, 205]\n",
    "\n",
    "df1 = pd.DataFrame(np.array([fight1, fight2, fight3, fight4, fight5]), columns = columns)"
   ]
  },
  {
   "cell_type": "markdown",
   "metadata": {},
   "source": [
    "# Model Predictions: (0 indicates Red Fighter Wins, 1 indicates Blue Fighter Wins)"
   ]
  },
  {
   "cell_type": "markdown",
   "metadata": {},
   "source": [
    "## Support Vector Classifier:"
   ]
  },
  {
   "cell_type": "code",
   "execution_count": 40,
   "metadata": {},
   "outputs": [
    {
     "ename": "ValueError",
     "evalue": "X.shape[1] = 137 should be equal to 136, the number of features at training time",
     "output_type": "error",
     "traceback": [
      "\u001b[1;31m---------------------------------------------------------------------------\u001b[0m",
      "\u001b[1;31mValueError\u001b[0m                                Traceback (most recent call last)",
      "\u001b[1;32m<ipython-input-40-8f1e4ed18b67>\u001b[0m in \u001b[0;36m<module>\u001b[1;34m\u001b[0m\n\u001b[1;32m----> 1\u001b[1;33m \u001b[0msvc_model\u001b[0m\u001b[1;33m.\u001b[0m\u001b[0mpredict\u001b[0m\u001b[1;33m(\u001b[0m\u001b[0mdf\u001b[0m\u001b[1;33m)\u001b[0m\u001b[1;33m\u001b[0m\u001b[1;33m\u001b[0m\u001b[0m\n\u001b[0m",
      "\u001b[1;32m~\\anaconda3\\lib\\site-packages\\sklearn\\svm\\_base.py\u001b[0m in \u001b[0;36mpredict\u001b[1;34m(self, X)\u001b[0m\n\u001b[0;32m    622\u001b[0m             \u001b[0my\u001b[0m \u001b[1;33m=\u001b[0m \u001b[0mnp\u001b[0m\u001b[1;33m.\u001b[0m\u001b[0margmax\u001b[0m\u001b[1;33m(\u001b[0m\u001b[0mself\u001b[0m\u001b[1;33m.\u001b[0m\u001b[0mdecision_function\u001b[0m\u001b[1;33m(\u001b[0m\u001b[0mX\u001b[0m\u001b[1;33m)\u001b[0m\u001b[1;33m,\u001b[0m \u001b[0maxis\u001b[0m\u001b[1;33m=\u001b[0m\u001b[1;36m1\u001b[0m\u001b[1;33m)\u001b[0m\u001b[1;33m\u001b[0m\u001b[1;33m\u001b[0m\u001b[0m\n\u001b[0;32m    623\u001b[0m         \u001b[1;32melse\u001b[0m\u001b[1;33m:\u001b[0m\u001b[1;33m\u001b[0m\u001b[1;33m\u001b[0m\u001b[0m\n\u001b[1;32m--> 624\u001b[1;33m             \u001b[0my\u001b[0m \u001b[1;33m=\u001b[0m \u001b[0msuper\u001b[0m\u001b[1;33m(\u001b[0m\u001b[1;33m)\u001b[0m\u001b[1;33m.\u001b[0m\u001b[0mpredict\u001b[0m\u001b[1;33m(\u001b[0m\u001b[0mX\u001b[0m\u001b[1;33m)\u001b[0m\u001b[1;33m\u001b[0m\u001b[1;33m\u001b[0m\u001b[0m\n\u001b[0m\u001b[0;32m    625\u001b[0m         \u001b[1;32mreturn\u001b[0m \u001b[0mself\u001b[0m\u001b[1;33m.\u001b[0m\u001b[0mclasses_\u001b[0m\u001b[1;33m.\u001b[0m\u001b[0mtake\u001b[0m\u001b[1;33m(\u001b[0m\u001b[0mnp\u001b[0m\u001b[1;33m.\u001b[0m\u001b[0masarray\u001b[0m\u001b[1;33m(\u001b[0m\u001b[0my\u001b[0m\u001b[1;33m,\u001b[0m \u001b[0mdtype\u001b[0m\u001b[1;33m=\u001b[0m\u001b[0mnp\u001b[0m\u001b[1;33m.\u001b[0m\u001b[0mintp\u001b[0m\u001b[1;33m)\u001b[0m\u001b[1;33m)\u001b[0m\u001b[1;33m\u001b[0m\u001b[1;33m\u001b[0m\u001b[0m\n\u001b[0;32m    626\u001b[0m \u001b[1;33m\u001b[0m\u001b[0m\n",
      "\u001b[1;32m~\\anaconda3\\lib\\site-packages\\sklearn\\svm\\_base.py\u001b[0m in \u001b[0;36mpredict\u001b[1;34m(self, X)\u001b[0m\n\u001b[0;32m    340\u001b[0m         \u001b[0my_pred\u001b[0m \u001b[1;33m:\u001b[0m \u001b[0mndarray\u001b[0m \u001b[0mof\u001b[0m \u001b[0mshape\u001b[0m \u001b[1;33m(\u001b[0m\u001b[0mn_samples\u001b[0m\u001b[1;33m,\u001b[0m\u001b[1;33m)\u001b[0m\u001b[1;33m\u001b[0m\u001b[1;33m\u001b[0m\u001b[0m\n\u001b[0;32m    341\u001b[0m         \"\"\"\n\u001b[1;32m--> 342\u001b[1;33m         \u001b[0mX\u001b[0m \u001b[1;33m=\u001b[0m \u001b[0mself\u001b[0m\u001b[1;33m.\u001b[0m\u001b[0m_validate_for_predict\u001b[0m\u001b[1;33m(\u001b[0m\u001b[0mX\u001b[0m\u001b[1;33m)\u001b[0m\u001b[1;33m\u001b[0m\u001b[1;33m\u001b[0m\u001b[0m\n\u001b[0m\u001b[0;32m    343\u001b[0m         \u001b[0mpredict\u001b[0m \u001b[1;33m=\u001b[0m \u001b[0mself\u001b[0m\u001b[1;33m.\u001b[0m\u001b[0m_sparse_predict\u001b[0m \u001b[1;32mif\u001b[0m \u001b[0mself\u001b[0m\u001b[1;33m.\u001b[0m\u001b[0m_sparse\u001b[0m \u001b[1;32melse\u001b[0m \u001b[0mself\u001b[0m\u001b[1;33m.\u001b[0m\u001b[0m_dense_predict\u001b[0m\u001b[1;33m\u001b[0m\u001b[1;33m\u001b[0m\u001b[0m\n\u001b[0;32m    344\u001b[0m         \u001b[1;32mreturn\u001b[0m \u001b[0mpredict\u001b[0m\u001b[1;33m(\u001b[0m\u001b[0mX\u001b[0m\u001b[1;33m)\u001b[0m\u001b[1;33m\u001b[0m\u001b[1;33m\u001b[0m\u001b[0m\n",
      "\u001b[1;32m~\\anaconda3\\lib\\site-packages\\sklearn\\svm\\_base.py\u001b[0m in \u001b[0;36m_validate_for_predict\u001b[1;34m(self, X)\u001b[0m\n\u001b[0;32m    493\u001b[0m             raise ValueError(\"X.shape[1] = %d should be equal to %d, \"\n\u001b[0;32m    494\u001b[0m                              \u001b[1;34m\"the number of features at training time\"\u001b[0m \u001b[1;33m%\u001b[0m\u001b[1;33m\u001b[0m\u001b[1;33m\u001b[0m\u001b[0m\n\u001b[1;32m--> 495\u001b[1;33m                              (X.shape[1], self.shape_fit_[1]))\n\u001b[0m\u001b[0;32m    496\u001b[0m         \u001b[1;32mreturn\u001b[0m \u001b[0mX\u001b[0m\u001b[1;33m\u001b[0m\u001b[1;33m\u001b[0m\u001b[0m\n\u001b[0;32m    497\u001b[0m \u001b[1;33m\u001b[0m\u001b[0m\n",
      "\u001b[1;31mValueError\u001b[0m: X.shape[1] = 137 should be equal to 136, the number of features at training time"
     ]
    }
   ],
   "source": [
    "svc_model.predict(df)"
   ]
  },
  {
   "cell_type": "markdown",
   "metadata": {},
   "source": [
    "### Predicted Winners:\n",
    "* Fight 1 - Israel Adesanya\n",
    "* Fight 2 - Megan Anderson\n",
    "* Fight 3 - Aljamain Sterling\n",
    "* Fight 4 - Drew Dober\n",
    "* Fight 5 - Aleksandar Rakic"
   ]
  },
  {
   "cell_type": "markdown",
   "metadata": {},
   "source": [
    "## Random Forest:"
   ]
  },
  {
   "cell_type": "code",
   "execution_count": null,
   "metadata": {},
   "outputs": [],
   "source": [
    "rf_model.predict(df1)"
   ]
  },
  {
   "cell_type": "markdown",
   "metadata": {},
   "source": [
    "### Predicted Winners:\n",
    "* Fight 1 - Israel Adesanya\n",
    "* Fight 2 - Megan Anderson\n",
    "* Fight 3 - Aljamain Sterling\n",
    "* Fight 4 - Islam Makhachev\n",
    "* Fight 5 - Aleksandar Rakic"
   ]
  },
  {
   "cell_type": "markdown",
   "metadata": {},
   "source": [
    "## Logistic Regression:"
   ]
  },
  {
   "cell_type": "code",
   "execution_count": null,
   "metadata": {},
   "outputs": [],
   "source": [
    "lr_model.predict(df1)"
   ]
  },
  {
   "cell_type": "markdown",
   "metadata": {},
   "source": [
    "### Predicted Winners:\n",
    "* Fight 1 - Israel Adesanya\n",
    "* Fight 2 - Megan Anderson\n",
    "* Fight 3 - Aljamain Sterling\n",
    "* Fight 4 - Drew Dober\n",
    "* Fight 5 - Aleksandar Rakic"
   ]
  },
  {
   "cell_type": "markdown",
   "metadata": {},
   "source": [
    "# Full Feature Modeling\n",
    "We'll reduce the problem to a binary classification problem, especially with the new scoring system draws don't occur in the UFC anymore."
   ]
  },
  {
   "cell_type": "code",
   "execution_count": 41,
   "metadata": {},
   "outputs": [
    {
     "data": {
      "text/plain": [
       "0    2397\n",
       "1    1424\n",
       "Name: Winner, dtype: int64"
      ]
     },
     "execution_count": 41,
     "metadata": {},
     "output_type": "execute_result"
    }
   ],
   "source": [
    "df['Winner'].value_counts()"
   ]
  },
  {
   "cell_type": "code",
   "execution_count": 42,
   "metadata": {},
   "outputs": [
    {
     "name": "stderr",
     "output_type": "stream",
     "text": [
      "C:\\Users\\Somu\\anaconda3\\lib\\site-packages\\pandas\\core\\ops\\array_ops.py:253: FutureWarning: elementwise comparison failed; returning scalar instead, but in the future will perform elementwise comparison\n",
      "  res_values = method(rvalues)\n"
     ]
    }
   ],
   "source": [
    "df = df[df['Winner'] != 'Draw']"
   ]
  },
  {
   "cell_type": "code",
   "execution_count": 46,
   "metadata": {},
   "outputs": [
    {
     "name": "stdout",
     "output_type": "stream",
     "text": [
      "['Winner', 'B_avg_KD', 'B_avg_opp_KD', 'B_avg_SIG_STR_pct', 'B_avg_opp_SIG_STR_pct', 'B_avg_TD_pct', 'B_avg_opp_TD_pct', 'B_avg_SUB_ATT', 'B_avg_opp_SUB_ATT', 'B_avg_REV', 'B_avg_opp_REV', 'B_avg_SIG_STR_att', 'B_avg_SIG_STR_landed', 'B_avg_opp_SIG_STR_att', 'B_avg_opp_SIG_STR_landed', 'B_avg_TOTAL_STR_att', 'B_avg_TOTAL_STR_landed', 'B_avg_opp_TOTAL_STR_att', 'B_avg_opp_TOTAL_STR_landed', 'B_avg_TD_att', 'B_avg_TD_landed', 'B_avg_opp_TD_att', 'B_avg_opp_TD_landed', 'B_avg_HEAD_att', 'B_avg_HEAD_landed', 'B_avg_opp_HEAD_att', 'B_avg_opp_HEAD_landed', 'B_avg_BODY_att', 'B_avg_BODY_landed', 'B_avg_opp_BODY_att', 'B_avg_opp_BODY_landed', 'B_avg_LEG_att', 'B_avg_LEG_landed', 'B_avg_opp_LEG_att', 'B_avg_opp_LEG_landed', 'B_avg_DISTANCE_att', 'B_avg_DISTANCE_landed', 'B_avg_opp_DISTANCE_att', 'B_avg_opp_DISTANCE_landed', 'B_avg_CLINCH_att', 'B_avg_CLINCH_landed', 'B_avg_opp_CLINCH_att', 'B_avg_opp_CLINCH_landed', 'B_avg_GROUND_att', 'B_avg_GROUND_landed', 'B_avg_opp_GROUND_att', 'B_avg_opp_GROUND_landed', 'B_avg_CTRL_time(seconds)', 'B_avg_opp_CTRL_time(seconds)', 'B_total_time_fought(seconds)', 'B_total_rounds_fought', 'B_total_title_bouts', 'B_current_win_streak', 'B_current_lose_streak', 'B_longest_win_streak', 'B_wins', 'B_losses', 'B_draw', 'B_win_by_Decision_Majority', 'B_win_by_Decision_Split', 'B_win_by_Decision_Unanimous', 'B_win_by_KO/TKO', 'B_win_by_Submission', 'B_win_by_TKO_Doctor_Stoppage', 'B_Stance', 'B_Height_cms', 'B_Reach_cms', 'B_Weight_lbs', 'R_avg_KD', 'R_avg_opp_KD', 'R_avg_SIG_STR_pct', 'R_avg_opp_SIG_STR_pct', 'R_avg_TD_pct', 'R_avg_opp_TD_pct', 'R_avg_SUB_ATT', 'R_avg_opp_SUB_ATT', 'R_avg_REV', 'R_avg_opp_REV', 'R_avg_SIG_STR_att', 'R_avg_SIG_STR_landed', 'R_avg_opp_SIG_STR_att', 'R_avg_opp_SIG_STR_landed', 'R_avg_TOTAL_STR_att', 'R_avg_TOTAL_STR_landed', 'R_avg_opp_TOTAL_STR_att', 'R_avg_opp_TOTAL_STR_landed', 'R_avg_TD_att', 'R_avg_TD_landed', 'R_avg_opp_TD_att', 'R_avg_opp_TD_landed', 'R_avg_HEAD_att', 'R_avg_HEAD_landed', 'R_avg_opp_HEAD_att', 'R_avg_opp_HEAD_landed', 'R_avg_BODY_att', 'R_avg_BODY_landed', 'R_avg_opp_BODY_att', 'R_avg_opp_BODY_landed', 'R_avg_LEG_att', 'R_avg_LEG_landed', 'R_avg_opp_LEG_att', 'R_avg_opp_LEG_landed', 'R_avg_DISTANCE_att', 'R_avg_DISTANCE_landed', 'R_avg_opp_DISTANCE_att', 'R_avg_opp_DISTANCE_landed', 'R_avg_CLINCH_att', 'R_avg_CLINCH_landed', 'R_avg_opp_CLINCH_att', 'R_avg_opp_CLINCH_landed', 'R_avg_GROUND_att', 'R_avg_GROUND_landed', 'R_avg_opp_GROUND_att', 'R_avg_opp_GROUND_landed', 'R_avg_CTRL_time(seconds)', 'R_avg_opp_CTRL_time(seconds)', 'R_total_time_fought(seconds)', 'R_total_rounds_fought', 'R_total_title_bouts', 'R_current_win_streak', 'R_current_lose_streak', 'R_longest_win_streak', 'R_wins', 'R_losses', 'R_draw', 'R_win_by_Decision_Majority', 'R_win_by_Decision_Split', 'R_win_by_Decision_Unanimous', 'R_win_by_KO/TKO', 'R_win_by_Submission', 'R_win_by_TKO_Doctor_Stoppage', 'R_Stance', 'R_Height_cms', 'R_Reach_cms', 'R_Weight_lbs', 'B_age', 'R_age']\n"
     ]
    }
   ],
   "source": [
    "print(df.columns.tolist())"
   ]
  },
  {
   "cell_type": "code",
   "execution_count": 68,
   "metadata": {},
   "outputs": [],
   "source": [
    "df['B_Stance']=df['B_Stance'].astype('object')"
   ]
  },
  {
   "cell_type": "code",
   "execution_count": 67,
   "metadata": {},
   "outputs": [],
   "source": [
    "df['R_Stance']=df['R_Stance'].astype('object')"
   ]
  },
  {
   "cell_type": "code",
   "execution_count": 66,
   "metadata": {},
   "outputs": [
    {
     "data": {
      "text/plain": [
       "dtype('int64')"
      ]
     },
     "execution_count": 66,
     "metadata": {},
     "output_type": "execute_result"
    }
   ],
   "source": [
    "df['R_Stance'].dtypes"
   ]
  },
  {
   "cell_type": "code",
   "execution_count": null,
   "metadata": {},
   "outputs": [],
   "source": [
    "df = df.drop(columns=['B_draw', 'R_draw'])"
   ]
  },
  {
   "cell_type": "code",
   "execution_count": 69,
   "metadata": {},
   "outputs": [],
   "source": [
    "mapping = {'Orthodox': 0, 'Switch': 1, 'Southpaw': 2, 'Open Stance': 3}\n",
    "df['B_Stance'] = df['B_Stance'].replace(mapping)\n",
    "df['R_Stance'] = df['R_Stance'].replace(mapping)"
   ]
  },
  {
   "cell_type": "code",
   "execution_count": 73,
   "metadata": {},
   "outputs": [],
   "source": [
    "df.Winner=df.Winner.astype('object')"
   ]
  },
  {
   "cell_type": "code",
   "execution_count": 74,
   "metadata": {},
   "outputs": [],
   "source": [
    "X = df.drop(columns=['Winner'])\n",
    "Y = df['Winner']\n",
    "mapping = {'Red': 0, 'Blue': 1}\n",
    "Y = Y.replace(mapping)"
   ]
  },
  {
   "cell_type": "code",
   "execution_count": 75,
   "metadata": {},
   "outputs": [],
   "source": [
    "X_train, X_test, y_train, y_test = train_test_split(X, Y, test_size=0.3, random_state=42)"
   ]
  },
  {
   "cell_type": "code",
   "execution_count": 76,
   "metadata": {},
   "outputs": [],
   "source": [
    "seed = 404\n",
    "np.random.seed(seed)"
   ]
  },
  {
   "cell_type": "code",
   "execution_count": 77,
   "metadata": {},
   "outputs": [
    {
     "name": "stdout",
     "output_type": "stream",
     "text": [
      "Gaussian Naive Bayes K-fold Scores:\n",
      "[0.61567164 0.64925373 0.54850746 0.60820896 0.5917603  0.55430712\n",
      " 0.58052434 0.5505618  0.58426966 0.58801498]\n",
      "\n",
      "Gaussian Naive Bayes Average Score:\n",
      "0.5871079993291967\n",
      "\n"
     ]
    }
   ],
   "source": [
    "gnb = GaussianNB()\n",
    "kfold = StratifiedKFold(n_splits=10, shuffle=True, random_state=seed)\n",
    "cv_score = cross_val_score(gnb, X_train, y_train.values.ravel(), cv=kfold)\n",
    "print('Gaussian Naive Bayes K-fold Scores:')\n",
    "print(cv_score)\n",
    "print()\n",
    "print('Gaussian Naive Bayes Average Score:')\n",
    "print(cv_score.mean())\n",
    "print()"
   ]
  },
  {
   "cell_type": "code",
   "execution_count": 78,
   "metadata": {},
   "outputs": [
    {
     "name": "stdout",
     "output_type": "stream",
     "text": [
      "Logistic Regression K-fold Scores (training):\n",
      "[0.64925373 0.69029851 0.64179104 0.61940299 0.64419476 0.66666667\n",
      " 0.58801498 0.68164794 0.66666667 0.6329588 ]\n",
      "\n",
      "Logistic Regression Average Score:\n",
      "0.6480896081390799\n"
     ]
    }
   ],
   "source": [
    "lr = LogisticRegression(max_iter = 10000)\n",
    "kfold = StratifiedKFold(n_splits=10, shuffle=True, random_state=seed)\n",
    "cv_score = cross_val_score(lr, X_train, y_train.values.ravel(), cv=kfold)\n",
    "print('Logistic Regression K-fold Scores (training):')\n",
    "print(cv_score)\n",
    "print()\n",
    "print('Logistic Regression Average Score:')\n",
    "print(cv_score.mean())"
   ]
  },
  {
   "cell_type": "code",
   "execution_count": 79,
   "metadata": {},
   "outputs": [
    {
     "name": "stdout",
     "output_type": "stream",
     "text": [
      "Decision Tree K-fold Scores:\n",
      "[0.55223881 0.56716418 0.5261194  0.54850746 0.54681648 0.55805243\n",
      " 0.54681648 0.48314607 0.60299625 0.57303371]\n",
      "\n",
      "Decision Tree Average Score:\n",
      "0.5504891273967243\n"
     ]
    }
   ],
   "source": [
    "dt = tree.DecisionTreeClassifier(random_state = 1)\n",
    "kfold = StratifiedKFold(n_splits=10, shuffle=True, random_state=seed)\n",
    "cv_score = cross_val_score(dt, X_train, y_train.values.ravel(), cv=kfold)\n",
    "print('Decision Tree K-fold Scores:')\n",
    "print(cv_score)\n",
    "print()\n",
    "print('Decision Tree Average Score:')\n",
    "print(cv_score.mean())"
   ]
  },
  {
   "cell_type": "code",
   "execution_count": 80,
   "metadata": {},
   "outputs": [
    {
     "name": "stdout",
     "output_type": "stream",
     "text": [
      "KNN K-fold Scores):\n",
      "[0.6119403  0.58955224 0.54477612 0.6119403  0.60674157 0.60299625\n",
      " 0.62921348 0.56554307 0.56928839 0.59550562]\n",
      "\n",
      "KNN Average Score:\n",
      "0.5927497344736989\n"
     ]
    }
   ],
   "source": [
    "knn = KNeighborsClassifier()\n",
    "kfold = StratifiedKFold(n_splits=10, shuffle=True, random_state=seed)\n",
    "cv_score = cross_val_score(knn, X_train, y_train.values.ravel(), cv=kfold)\n",
    "print('KNN K-fold Scores):')\n",
    "print(cv_score)\n",
    "print()\n",
    "print('KNN Average Score:')\n",
    "print(cv_score.mean())"
   ]
  },
  {
   "cell_type": "code",
   "execution_count": 81,
   "metadata": {},
   "outputs": [
    {
     "name": "stdout",
     "output_type": "stream",
     "text": [
      "Random Forest K-fold Scores:\n",
      "[0.6641791  0.63059701 0.63059701 0.6380597  0.61423221 0.64794007\n",
      " 0.65543071 0.62921348 0.61797753 0.63670412]\n",
      "\n",
      "Random Forest Average Score:\n",
      "0.6364930963161719\n"
     ]
    }
   ],
   "source": [
    "rf = RandomForestClassifier(random_state = 1)\n",
    "kfold = StratifiedKFold(n_splits=10, shuffle=True, random_state=seed)\n",
    "cv_score = cross_val_score(rf, X_train, y_train.values.ravel(), cv=kfold)\n",
    "print('Random Forest K-fold Scores:')\n",
    "print(cv_score)\n",
    "print()\n",
    "print('Random Forest Average Score:')\n",
    "print(cv_score.mean())"
   ]
  },
  {
   "cell_type": "code",
   "execution_count": 82,
   "metadata": {},
   "outputs": [
    {
     "name": "stdout",
     "output_type": "stream",
     "text": [
      "Support Vector Classification K-fold Scores:\n",
      "[0.61940299 0.61940299 0.61940299 0.61940299 0.62172285 0.62172285\n",
      " 0.62172285 0.62172285 0.62172285 0.61797753]\n",
      "\n",
      "Support Vector Classification Average Score:\n",
      "0.6204203700598134\n"
     ]
    }
   ],
   "source": [
    "svc = SVC(probability = True)\n",
    "kfold = StratifiedKFold(n_splits=10, shuffle=True, random_state=seed)\n",
    "cv_score = cross_val_score(svc, X_train, y_train.values.ravel(), cv=kfold)\n",
    "print('Support Vector Classification K-fold Scores:')\n",
    "print(cv_score)\n",
    "print()\n",
    "print('Support Vector Classification Average Score:')\n",
    "print(cv_score.mean())"
   ]
  },
  {
   "cell_type": "code",
   "execution_count": 84,
   "metadata": {},
   "outputs": [
    {
     "name": "stderr",
     "output_type": "stream",
     "text": [
      "C:\\Users\\Somu\\anaconda3\\lib\\site-packages\\sklearn\\linear_model\\_logistic.py:765: ConvergenceWarning: lbfgs failed to converge (status=1):\n",
      "STOP: TOTAL NO. of ITERATIONS REACHED LIMIT.\n",
      "\n",
      "Increase the number of iterations (max_iter) or scale the data as shown in:\n",
      "    https://scikit-learn.org/stable/modules/preprocessing.html\n",
      "Please also refer to the documentation for alternative solver options:\n",
      "    https://scikit-learn.org/stable/modules/linear_model.html#logistic-regression\n",
      "  extra_warning_msg=_LOGISTIC_SOLVER_CONVERGENCE_MSG)\n"
     ]
    },
    {
     "data": {
      "image/png": "[encoded data removed]",
      "text/plain": [
       "<Figure size 432x288 with 2 Axes>"
      ]
     },
     "metadata": {
      "needs_background": "light"
     },
     "output_type": "display_data"
    },
    {
     "name": "stdout",
     "output_type": "stream",
     "text": [
      "Logistic Regression Model Accuracy (on testing set): \n",
      "0.6573670444638187\n"
     ]
    }
   ],
   "source": [
    "lr = LogisticRegression(max_iter = 2000)\n",
    "lr_model = lr.fit(X_train, y_train.values.ravel())\n",
    "y_pred = lr_model.predict(X_test)\n",
    "\n",
    "disp = plot_confusion_matrix(lr_model, X_test, y_test)\n",
    "disp.ax_.set_title('Logistic Regression Confusion Matrix')\n",
    "\n",
    "plt.show()\n",
    "print('Logistic Regression Model Accuracy (on testing set): ')\n",
    "print(accuracy_score(y_test, y_pred))"
   ]
  },
  {
   "cell_type": "code",
   "execution_count": 85,
   "metadata": {},
   "outputs": [
    {
     "data": {
      "image/png": "[encoded data removed]",
      "text/plain": [
       "<Figure size 432x288 with 2 Axes>"
      ]
     },
     "metadata": {
      "needs_background": "light"
     },
     "output_type": "display_data"
    },
    {
     "name": "stdout",
     "output_type": "stream",
     "text": [
      "Random Forest Model Accuracy (on testing set): \n",
      "0.6556233653007847\n"
     ]
    }
   ],
   "source": [
    "rf = RandomForestClassifier(random_state = 1)\n",
    "rf_model = rf.fit(X_train, y_train.values.ravel())\n",
    "y_pred = rf_model.predict(X_test)\n",
    "disp = plot_confusion_matrix(rf_model, X_test, y_test)\n",
    "disp.ax_.set_title('Random Forest Confusion Matrix')\n",
    "\n",
    "plt.show()\n",
    "\n",
    "print('Random Forest Model Accuracy (on testing set): ')\n",
    "print(accuracy_score(y_test, y_pred))"
   ]
  },
  {
   "cell_type": "code",
   "execution_count": 86,
   "metadata": {},
   "outputs": [
    {
     "data": {
      "image/png": "[encoded data removed]",
      "text/plain": [
       "<Figure size 432x288 with 2 Axes>"
      ]
     },
     "metadata": {
      "needs_background": "light"
     },
     "output_type": "display_data"
    },
    {
     "name": "stdout",
     "output_type": "stream",
     "text": [
      "SVC Model Accuracy (on testing set): \n",
      "0.6434176111595467\n"
     ]
    }
   ],
   "source": [
    "svc = SVC(probability = True)\n",
    "svc_model = svc.fit(X_train, y_train.values.ravel())\n",
    "y_pred = svc_model.predict(X_test)\n",
    "disp = plot_confusion_matrix(svc_model, X_test, y_test)\n",
    "disp.ax_.set_title('Support Vector Classifier Confusion Matrix')\n",
    "\n",
    "plt.show()\n",
    "\n",
    "print('SVC Model Accuracy (on testing set): ')\n",
    "print(accuracy_score(y_test, y_pred))"
   ]
  },
  {
   "cell_type": "code",
   "execution_count": null,
   "metadata": {},
   "outputs": [],
   "source": []
  },
  {
   "cell_type": "markdown",
   "metadata": {},
   "source": [
    "# Final Thoughts\n",
    "\n",
    "If we look at the current under/over odds in the betting world, most agree with the model predictions for Fight 1 and Fight 5, but only the Random Forest is in line with the odds for Fight 4. Fight 3 has the odds at -110 to -110, so Vegas seems to be split evenly on this fight.\n",
    "\n",
    "I hope to expand the models to take in more features, and as a fan I can't help but think strike %, take down %, take down defence %, and a number of the various other features definitely come into play when accessing winner outcome.\n",
    "\n",
    "I wouldn't take these models straight to the bookies, but it was a fun exercise to run and explore the data/models.\n",
    "\n",
    "On a personal note, I would never bet against Amanda Nunes or Islam Makhachev.\n",
    "\n",
    "I hope you enjoyed this!"
   ]
  },
  {
   "cell_type": "code",
   "execution_count": null,
   "metadata": {},
   "outputs": [],
   "source": []
  }
 ],
 "metadata": {
  "kernelspec": {
   "display_name": "Python 3",
   "language": "python",
   "name": "python3"
  },
  "language_info": {
   "codemirror_mode": {
    "name": "ipython",
    "version": 3
   },
   "file_extension": ".py",
   "mimetype": "text/x-python",
   "name": "python",
   "nbconvert_exporter": "python",
   "pygments_lexer": "ipython3",
   "version": "3.7.6"
  }
 },
 "nbformat": 4,
 "nbformat_minor": 4
}
